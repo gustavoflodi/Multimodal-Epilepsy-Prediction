{
 "cells": [
  {
   "cell_type": "code",
   "execution_count": 1,
   "id": "74b9b6a9-7e86-439a-a17a-28beb1fb4642",
   "metadata": {
    "execution": {
     "iopub.execute_input": "2023-12-21T19:08:24.568445Z",
     "iopub.status.busy": "2023-12-21T19:08:24.568093Z",
     "iopub.status.idle": "2023-12-21T19:08:40.620046Z",
     "shell.execute_reply": "2023-12-21T19:08:40.619189Z",
     "shell.execute_reply.started": "2023-12-21T19:08:24.568413Z"
    }
   },
   "outputs": [
    {
     "name": "stdout",
     "output_type": "stream",
     "text": [
      "Requirement already satisfied: jwt in /usr/local/lib/python3.9/dist-packages (1.3.1)\n",
      "Requirement already satisfied: cryptography!=3.4.0,>=3.1 in /usr/local/lib/python3.9/dist-packages (from jwt) (41.0.7)\n",
      "Requirement already satisfied: cffi>=1.12 in /usr/local/lib/python3.9/dist-packages (from cryptography!=3.4.0,>=3.1->jwt) (1.15.1)\n",
      "Requirement already satisfied: pycparser in /usr/local/lib/python3.9/dist-packages (from cffi>=1.12->cryptography!=3.4.0,>=3.1->jwt) (2.21)\n",
      "\u001b[33mWARNING: Running pip as the 'root' user can result in broken permissions and conflicting behaviour with the system package manager. It is recommended to use a virtual environment instead: https://pip.pypa.io/warnings/venv\u001b[0m\u001b[33m\n",
      "\u001b[0mRequirement already satisfied: dask in /usr/local/lib/python3.9/dist-packages (2023.12.1)\n",
      "Requirement already satisfied: packaging>=20.0 in /usr/local/lib/python3.9/dist-packages (from dask) (23.0)\n",
      "Requirement already satisfied: pyyaml>=5.3.1 in /usr/local/lib/python3.9/dist-packages (from dask) (5.4.1)\n",
      "Requirement already satisfied: cloudpickle>=1.5.0 in /usr/local/lib/python3.9/dist-packages (from dask) (2.2.0)\n",
      "Requirement already satisfied: click>=8.1 in /usr/local/lib/python3.9/dist-packages (from dask) (8.1.3)\n",
      "Requirement already satisfied: fsspec>=2021.09.0 in /usr/local/lib/python3.9/dist-packages (from dask) (2023.1.0)\n",
      "Requirement already satisfied: importlib-metadata>=4.13.0 in /usr/local/lib/python3.9/dist-packages (from dask) (6.0.0)\n",
      "Requirement already satisfied: partd>=1.2.0 in /usr/local/lib/python3.9/dist-packages (from dask) (1.4.1)\n",
      "Requirement already satisfied: toolz>=0.10.0 in /usr/local/lib/python3.9/dist-packages (from dask) (0.12.0)\n",
      "Requirement already satisfied: zipp>=0.5 in /usr/local/lib/python3.9/dist-packages (from importlib-metadata>=4.13.0->dask) (3.11.0)\n",
      "Requirement already satisfied: locket in /usr/local/lib/python3.9/dist-packages (from partd>=1.2.0->dask) (1.0.0)\n",
      "\u001b[33mWARNING: Running pip as the 'root' user can result in broken permissions and conflicting behaviour with the system package manager. It is recommended to use a virtual environment instead: https://pip.pypa.io/warnings/venv\u001b[0m\u001b[33m\n",
      "\u001b[0m"
     ]
    },
    {
     "name": "stderr",
     "output_type": "stream",
     "text": [
      "/usr/local/lib/python3.9/dist-packages/dask/dataframe/_pyarrow_compat.py:23: UserWarning: You are using pyarrow version 10.0.1 which is known to be insecure. See https://www.cve.org/CVERecord?id=CVE-2023-47248 for further details. Please upgrade to pyarrow>=14.0.1 or install pyarrow-hotfix to patch your current version.\n",
      "  warnings.warn(\n",
      "2023-12-21 19:08:33,804 Login Successful\n"
     ]
    },
    {
     "name": "stdin",
     "output_type": "stream",
     "text": [
      "Please write the desired study MSEL_00172\n"
     ]
    },
    {
     "name": "stderr",
     "output_type": "stream",
     "text": [
      "2023-12-21 19:08:36,414 >>> {\"query\": \"query studies($search_term: String, $limit: PaginationAmount, $offset: Int) {\\n  studies(searchTerm: $search_term, limit: $limit, offset: $offset) {\\n    id\\n    name\\n    patient {\\n      id\\n      user {\\n        fullName\\n      }\\n    }\\n  }\\n}\\n\", \"variables\": {\"search_term\": \"MSEL_00172\", \"limit\": 50, \"offset\": 0}}\n",
      "2023-12-21 19:08:37,204 <<< {\"data\":{\"studies\":[{\"id\":\"92434006-5506-4d4a-97e4-f7232dfd68bd\",\"name\":\"MSEL_00172\",\"patient\":null}]}}\n",
      "\n",
      "2023-12-21 19:08:37,725 >>> {\"query\": \"query studies($search_term: String, $limit: PaginationAmount, $offset: Int) {\\n  studies(searchTerm: $search_term, limit: $limit, offset: $offset) {\\n    id\\n    name\\n    patient {\\n      id\\n      user {\\n        fullName\\n      }\\n    }\\n  }\\n}\\n\", \"variables\": {\"search_term\": \"MSEL_00172\", \"limit\": 50, \"offset\": 50}}\n",
      "2023-12-21 19:08:38,536 <<< {\"data\":{\"studies\":[]}}\n",
      "\n",
      "2023-12-21 19:08:39,058 >>> {\"query\": \"query study_with_data($study_id: String!, $limit: PaginationAmount, $offset: Int) {\\n  study(id: $study_id) {\\n    id\\n    patient {\\n      id\\n      user {\\n        fullName\\n      }\\n    }\\n    name\\n    description\\n    startTime\\n    duration\\n    channelGroups {\\n      id\\n      name\\n      sampleRate\\n      samplesPerRecord\\n      recordLength\\n      chunkPeriod\\n      recordsPerChunk\\n      sampleEncoding\\n      compression\\n      signalMin\\n      signalMax\\n      units\\n      exponent\\n      timestamped\\n      channelGroupType {\\n        id\\n      }\\n      segments(limit: $limit, offset: $offset) {\\n        id\\n        startTime\\n        duration\\n        timezone\\n      }\\n      channels {\\n        id\\n        name\\n        channelType {\\n          name\\n          category\\n        }\\n      }\\n    }\\n  }\\n}\\n\", \"variables\": {\"study_id\": \"92434006-5506-4d4a-97e4-f7232dfd68bd\", \"offset\": 0, \"limit\": 5000}}\n",
      "2023-12-21 19:08:40,508 <<< {\"data\":{\"study\":{\"id\":\"92434006-5506-4d4a-97e4-f7232dfd68bd\",\"patient\":null,\"name\":\"MSEL_00172\",\"description\":\"\",\"startTime\":1556307768000,\"duration\":251944113.0900879,\"channelGroups\":[{\"id\":\"ca30f00e-c599-4280-97c9-5d935c39e4b4\",\"name\":\"Byteflies-accX\",\"sampleRate\":48.72959509117551,\"samplesPerRecord\":1000,\"recordLength\":20.52141,\"chunkPeriod\":205.2141,\"recordsPerChunk\":10,\"sampleEncoding\":\"int16\",\"compression\":\"gzip\",\"signalMin\":-19485,\"signalMax\":17408,\"units\":\"\",\"exponent\":9,\"timestamped\":false,\"channelGroupType\":{\"id\":\"generic\"},\"segments\":[{\"id\":\"a0c8f3f0-ba7c-4b2c-ad8b-7b26d7ff664f\",\"startTime\":1556307838000,\"duration\":3591246.75,\"timezone\":-5},{\"id\":\"ae2cb2d8-d87b-48be-9172-cd17d3029439\",\"startTime\":1556311429246.75,\"duration\":3591246.75,\"timezone\":-5},{\"id\":\"8dbaac1b-36ad-45be-af3c-00b613026e87\",\"startTime\":1556315020493.5,\"duration\":3591246.75,\"timezone\":-5},{\"id\":\"9b40ddd1-9e7e-430c-9756-672839ec90e0\",\"startTime\":1556318611740.25,\"duration\":3591246.75,\"timezone\":-5},{\"id\":\"8f6091a8-68d5-4ec2-88b8-b8e483d651d8\",\"startTime\":1556322202987,\"duration\":3591246.75,\"timezone\":-5},{\"id\":\"82d16dc1-9db5-47db-8528-e512e1a7bdb5\",\"startTime\":1556325794233.75,\"duration\":3591246.75,\"timezone\":-5},{\"id\":\"84475719-9596-4f32-96cc-c2f63d69d6d8\",\"startTime\":1556329385480.5,\"duration\":3591246.75,\"timezone\":-5},{\"id\":\"a490cb6a-9543-4408-9a4d-d01aa73d1534\",\"startTime\":1556332976727.25,\"duration\":3591246.75,\"timezone\":-5},{\"id\":\"1e629487-068f-4c4e-9dae-1accaab86868\",\"startTime\":1556336567974,\"duration\":3591246.75,\"timezone\":-5},{\"id\":\"66e29f17-c0bf-42ab-8f08-0f862f7f5b36\",\"startTime\":1556340159220.75,\"duration\":3591246.75,\"timezone\":-5},{\"id\":\"61ef7770-eefb-41f9-9f04-00fdf6fa0298\",\"startTime\":1556343750467.5,\"duration\":3591246.75,\"timezone\":-5},{\"id\":\"a5dfc09b-aa66-4c8e-af3f-9d1d1b722e19\",\"startTime\":1556347341714.25,\"duration\":3591246.75,\"timezone\":-5},{\"id\":\"fdda3acc-4425-4814-8030-ced36d79c90f\",\"startTime\":1556350932961,\"duration\":3591246.75,\"timezone\":-5},{\"id\":\"b1ce3614-c166-47fe-83d0-33ed114d3f57\",\"startTime\":1556354524207.75,\"duration\":3591246.75,\"timezone\":-5},{\"id\":\"73aaac67-a18f-4628-a1aa-5e71ad08ed0a\",\"startTime\":1556358115454.5,\"duration\":3591246.75,\"timezone\":-5},{\"id\":\"ba99af0b-547e-44b5-9336-f7abc7596e82\",\"startTime\":1556361706701.25,\"duration\":3591246.75,\"timezone\":-5},{\"id\":\"ddaea73d-6894-4389-a712-80106bb4b81d\",\"startTime\":1556365297948,\"duration\":3591246.75,\"timezone\":-5},{\"id\":\"32069164-f533-41cc-940a-78c4e36bdf8c\",\"startTime\":1556368889194.75,\"duration\":3591246.75,\"timezone\":-5},{\"id\":\"7c433eca-c331-46cb-bdc1-7f258634efe1\",\"startTime\":1556372480441.5,\"duration\":2626740.48,\"timezone\":-5},{\"id\":\"faf3979c-f5e9-41f2-be9e-0ab79e9e7915\",\"startTime\":1556375291000,\"duration\":3591246.75,\"timezone\":-5},{\"id\":\"03746069-2235-4eec-be35-0c0a91625a2f\",\"startTime\":1556378882246.75,\"duration\":3591246.75,\"timezone\":-5},{\"id\":\"aca16450-f49f-4f94-a7f6-c4d75a702f3d\",\"startTime\":1556382473493.5,\"duration\":3591246.75,\"timezone\":-5},{\"id\":\"29fb2c4c-25c9-43af-8fc4-2cd51d171ece\",\"startTime\":1556386064740.25,\"duration\":3591246.75,\"timezone\":-5},{\"id\":\"8f65161b-20fe-435c-8585-eaaa7a53920c\",\"startTime\":1556389655987,\"duration\":3591246.75,\"timezone\":-5},{\"id\":\"6c4ec4b6-0b23-4ec2-b493-a57fd82778d5\",\"startTime\":1556393247233.75,\"duration\":3591246.75,\"timezone\":-5},{\"id\":\"e6c23560-0791-4f50-9fa8-d3987635ed27\",\"startTime\":1556396838480.5,\"duration\":3591246.75,\"timezone\":-5},{\"id\":\"7acd5aaf-f9e6-4272-b698-812a873f2197\",\"startTime\":1556400429727.25,\"duration\":3591246.75,\"timezone\":-5},{\"id\":\"dca9f46e-bbae-401a-9dbe-24a74b8dc10a\",\"startTime\":1556404020974,\"duration\":3591246.75,\"timezone\":-5},{\"id\":\"eacbb7f7-0276-4954-8496-5414aff49f48\",\"startTime\":1556407612220.75,\"duration\":3591246.75,\"timezone\":-5},{\"id\":\"11134545-f7a6-4fe0-b19d-0bb97df888d6\",\"startTime\":1556411203467.5,\"duration\":3591246.75,\"timezone\":-5},{\"id\":\"5e97bbf3-5eb3-4da3-93d8-8b0e211e270c\",\"startTime\":1556414794714.25,\"duration\":3591246.75,\"timezone\":-5},{\"id\":\"02c34541-ab6e-4c08-8d39-ad28e497d763\",\"startTime\":1556418385961,\"duration\":3591246.75,\"timezone\":-5},{\"id\":\"4c002f0f-f622-422f-9506-9343aaf544d6\",\"startTime\":1556421977207.75,\"duration\":3591246.75,\"timezone\":-5},{\"id\":\"09f6a3fa-2ed8-4a23-a7ab-58786fa0108a\",\"startTime\":1556425568454.5,\"duration\":3591246.75,\"timezone\":-5},{\"id\":\"bf769979-fa00-43f2-b60f-cb8cfcc998b4\",\"startTime\":1556429159701.25,\"duration\":3591246.75,\"timezone\":-5},{\"id\":\"63304a3c-28e8-44ec-a7ae-7a498db31222\",\"startTime\":1556432750948,\"duration\":3591246.75,\"timezone\":-5},{\"id\":\"08a6752e-3ed0-475c-9c3b-f4f4acfe93fb\",\"startTime\":1556436342194.75,\"duration\":3591246.75,\"timezone\":-5},{\"id\":\"e65e91ad-a6f3-4dd0-9390-60d2b48670c9\",\"startTime\":1556439933441.5,\"duration\":3591246.75,\"timezone\":-5},{\"id\":\"a757e80f-91d8-48e2-8566-1bbb48085c8d\",\"startTime\":1556443524688.25,\"duration\":3591246.75,\"timezone\":-5},{\"id\":\"a66bfc37-5def-4730-9fef-674d83f6639b\",\"startTime\":1556447115935,\"duration\":3591246.75,\"timezone\":-5},{\"id\":\"d9e99b4a-f943-443d-a063-e6b14e28e812\",\"startTime\":1556550498000,\"duration\":3591246.75,\"timezone\":-5},{\"id\":\"e67fd384-6ff6-4e97-8886-53b439662295\",\"startTime\":1556554089246.75,\"duration\":3591246.75,\"timezone\":-5},{\"id\":\"717b3a49-6048-40ee-ba09-07189829525f\",\"startTime\":1556557680493.5,\"duration\":2031619.5899999999,\"timezone\":-5}],\"channels\":[{\"id\":\"2e1cb58d-be24-40a6-bd08-1a612c54ee0f\",\"name\":\"accX\",\"channelType\":{\"name\":\"Generic\",\"category\":\"generic\"}}]},{\"id\":\"cb0c5309-fb52-44a7-95f3-b856a3d03146\",\"name\":\"Byteflies-accY\",\"sampleRate\":48.72959509117551,\"samplesPerRecord\":1000,\"recordLength\":20.52141,\"chunkPeriod\":205.2141,\"recordsPerChunk\":10,\"sampleEncoding\":\"int16\",\"compression\":\"gzip\",\"signalMin\":-12656,\"signalMax\":7506,\"units\":\"\",\"exponent\":9,\"timestamped\":false,\"channelGroupType\":{\"id\":\"generic\"},\"segments\":[{\"id\":\"1835acaa-fd8d-4476-8190-a33360fa6d15\",\"startTime\":1556307838000,\"duration\":3591246.75,\"timezone\":-5},{\"id\":\"612c25d1-dc88-4d12-9e77-7ec4d9ebe5e4\",\"startTime\":1556311429246.75,\"duration\":3591246.75,\"timezone\":-5},{\"id\":\"67b18876-ae69-466f-94ff-d3b21428114b\",\"startTime\":1556315020493.5,\"duration\":3591246.75,\"timezone\":-5},{\"id\":\"3fc8e7ac-464c-4bec-8f4a-218348a455d4\",\"startTime\":1556318611740.25,\"duration\":3591246.75,\"timezone\":-5},{\"id\":\"2fe5ed35-9198-4562-bc1c-9e5985ff4a59\",\"startTime\":1556322202987,\"duration\":3591246.75,\"timezone\":-5},{\"id\":\"089caea2-9663-430f-b571-d4e5e6152bd5\",\"startTime\":1556325794233.75,\"duration\":3591246.75,\"timezone\":-5},{\"id\":\"c797399d-a804-4f36-9a55-bdacf7db5131\",\"startTime\":1556329385480.5,\"duration\":3591246.75,\"timezone\":-5},{\"id\":\"54a9a8ae-1fef-4874-beb6-4345f1c69838\",\"startTime\":1556332976727.25,\"duration\":3591246.75,\"timezone\":-5},{\"id\":\"47665123-fbc0-4c72-9a0c-348fb46df354\",\"startTime\":1556336567974,\"duration\":3591246.75,\"timezone\":-5},{\"id\":\"244c4599-8d58-4292-b71c-63f8a54623e7\",\"startTime\":1556340159220.75,\"duration\":3591246.75,\"timezone\":-5},{\"id\":\"b907465b-c233-4869-9648-7e1036b0c3d1\",\"startTime\":1556343750467.5,\"duration\":3591246.75,\"timezone\":-5},{\"id\":\"4611ee8c-ae5b-4b45-bca7-549dc9fa6f4e\",\"startTime\":1556347341714.25,\"duration\":3591246.75,\"timezone\":-5},{\"id\":\"49ca08a6-0994-48ba-b3ff-b9b86b8f4894\",\"startTime\":1556350932961,\"duration\":3591246.75,\"timezone\":-5},{\"id\":\"20b82544-0426-42e4-b0a2-3335de9d453c\",\"startTime\":1556354524207.75,\"duration\":3591246.75,\"timezone\":-5},{\"id\":\"58fe4d4d-4f8d-4964-bd40-f0e91a8d43c9\",\"startTime\":1556358115454.5,\"duration\":3591246.75,\"timezone\":-5},{\"id\":\"de1e19b9-df97-4735-93b5-f6ba9221244b\",\"startTime\":1556361706701.25,\"duration\":3591246.75,\"timezone\":-5},{\"id\":\"da12661f-2ba5-4278-9df6-9ecf7f73555b\",\"startTime\":1556365297948,\"duration\":3591246.75,\"timezone\":-5},{\"id\":\"f4c8d4d5-1d54-44ae-b075-a6396251e7d1\",\"startTime\":1556368889194.75,\"duration\":3591246.75,\"timezone\":-5},{\"id\":\"42ef5738-1d34-4b4a-abd4-54faa5082e0e\",\"startTime\":1556372480441.5,\"duration\":2626740.48,\"timezone\":-5},{\"id\":\"3d57d430-b50c-4d3a-b93d-3718616fe815\",\"startTime\":1556375291000,\"duration\":3591246.75,\"timezone\":-5},{\"id\":\"33e73dbb-9fb0-421f-854d-a0605806bbed\",\"startTime\":1556378882246.75,\"duration\":3591246.75,\"timezone\":-5},{\"id\":\"43f1db2d-0148-493a-b576-c71d02c1d0c1\",\"startTime\":1556382473493.5,\"duration\":3591246.75,\"timezone\":-5},{\"id\":\"6ae5b6f1-df64-4eef-8a19-63872493d87d\",\"startTime\":1556386064740.25,\"duration\":3591246.75,\"timezone\":-5},{\"id\":\"a2864856-4c84-4426-bb62-a4690d7fab46\",\"startTime\":1556389655987,\"duration\":3591246.75,\"timezone\":-5},{\"id\":\"fe576fca-c105-42c5-b607-46d2b9c6bf82\",\"startTime\":1556393247233.75,\"duration\":3591246.75,\"timezone\":-5},{\"id\":\"c63fb34e-31ce-4264-a049-c303419fce23\",\"startTime\":1556396838480.5,\"duration\":3591246.75,\"timezone\":-5},{\"id\":\"e30409ba-053a-43a8-9eef-d8cb4dccc96b\",\"startTime\":1556400429727.25,\"duration\":3591246.75,\"timezone\":-5},{\"id\":\"51b4c86a-c6c0-419b-980f-e6ee49567c6d\",\"startTime\":1556404020974,\"duration\":3591246.75,\"timezone\":-5},{\"id\":\"9eae0861-a890-4607-9f51-6e97b6852b30\",\"startTime\":1556407612220.75,\"duration\":3591246.75,\"timezone\":-5},{\"id\":\"665d8578-4050-4341-94fb-abe658c4207c\",\"startTime\":1556411203467.5,\"duration\":3591246.75,\"timezone\":-5},{\"id\":\"ec4f3b21-8c45-40de-821f-035dbc760857\",\"startTime\":1556414794714.25,\"duration\":3591246.75,\"timezone\":-5},{\"id\":\"c1ed2d55-3704-4659-9932-a3182fbc8577\",\"startTime\":1556418385961,\"duration\":3591246.75,\"timezone\":-5},{\"id\":\"b2eebd2a-5ad1-4600-86aa-5730e3e65152\",\"startTime\":1556421977207.75,\"duration\":3591246.75,\"timezone\":-5},{\"id\":\"79d9ff71-e7c4-4ffb-8041-44f19940ed9f\",\"startTime\":1556425568454.5,\"duration\":3591246.75,\"timezone\":-5},{\"id\":\"d47bf460-935e-4b21-879b-c854bac6b1a8\",\"startTime\":1556429159701.25,\"duration\":3591246.75,\"timezone\":-5},{\"id\":\"db781362-f7cf-4a86-981d-1f9577bff08c\",\"startTime\":1556432750948,\"duration\":3591246.75,\"timezone\":-5},{\"id\":\"ddccec84-1cc8-418c-9615-a6bc3885c16a\",\"startTime\":1556436342194.75,\"duration\":3591246.75,\"timezone\":-5},{\"id\":\"cf1ebaf9-19b6-49fd-9e0c-2588436cda85\",\"startTime\":1556439933441.5,\"duration\":3591246.75,\"timezone\":-5},{\"id\":\"57376127-b418-4233-9bbc-7b816462eba5\",\"startTime\":1556550498000,\"duration\":3591246.75,\"timezone\":-5},{\"id\":\"4fb30313-be05-45ce-8e5f-28f332af6b63\",\"startTime\":1556554089246.75,\"duration\":3591246.75,\"timezone\":-5},{\"id\":\"42a6afb6-964b-4d3b-b655-1230b15cce6c\",\"startTime\":1556557680493.5,\"duration\":2031619.5899999999,\"timezone\":-5}],\"channels\":[{\"id\":\"771a586f-9f17-4215-8823-c1ff31fc215a\",\"name\":\"accY\",\"channelType\":{\"name\":\"Generic\",\"category\":\"generic\"}}]},{\"id\":\"d1ab90ef-7ce6-4f4b-8a2e-af46e520c5d4\",\"name\":\"Byteflies-accZ\",\"sampleRate\":48.72959509117551,\"samplesPerRecord\":1000,\"recordLength\":20.52141,\"chunkPeriod\":205.2141,\"recordsPerChunk\":10,\"sampleEncoding\":\"int16\",\"compression\":\"gzip\",\"signalMin\":-19225,\"signalMax\":16978,\"units\":\"\",\"exponent\":9,\"timestamped\":false,\"channelGroupType\":{\"id\":\"generic\"},\"segments\":[{\"id\":\"94312802-f9f6-44bb-b3b4-29718743d093\",\"startTime\":1556307838000,\"duration\":3591246.75,\"timezone\":-5},{\"id\":\"6b0aebe6-2f28-437d-be37-92a620ec86a9\",\"startTime\":1556311429246.75,\"duration\":3591246.75,\"timezone\":-5},{\"id\":\"1a4b1715-bc8a-405f-8a1d-5a831d5a1b98\",\"startTime\":1556315020493.5,\"duration\":3591246.75,\"timezone\":-5},{\"id\":\"f00ddb84-8a79-4348-a32c-7c66934c2bd4\",\"startTime\":1556318611740.25,\"duration\":3591246.75,\"timezone\":-5},{\"id\":\"c107ceee-ec7a-44ac-9eae-bb1d6c03492b\",\"startTime\":1556322202987,\"duration\":3591246.75,\"timezone\":-5},{\"id\":\"e65029d7-67d2-45cf-b727-786f3c675a03\",\"startTime\":1556325794233.75,\"duration\":3591246.75,\"timezone\":-5},{\"id\":\"e1f3c307-985a-4ee1-ac7f-97fe6491c59f\",\"startTime\":1556329385480.5,\"duration\":3591246.75,\"timezone\":-5},{\"id\":\"a5593282-a19c-4613-a672-f4a202cc8c68\",\"startTime\":1556332976727.25,\"duration\":3591246.75,\"timezone\":-5},{\"id\":\"5bc31e4c-54d5-4eb8-825a-4f948c1e15d4\",\"startTime\":1556336567974,\"duration\":3591246.75,\"timezone\":-5},{\"id\":\"3e5bbb28-8a66-41bb-b37b-ab20b20871f6\",\"startTime\":1556340159220.75,\"duration\":3591246.75,\"timezone\":-5},{\"id\":\"51ea6afc-ff84-4dd8-b472-ac6a0ed7ea29\",\"startTime\":1556343750467.5,\"duration\":3591246.75,\"timezone\":-5},{\"id\":\"e3169bd1-c9e4-4e89-89fb-de0445bfadbe\",\"startTime\":1556347341714.25,\"duration\":3591246.75,\"timezone\":-5},{\"id\":\"e0210f0a-124e-483a-ac97-067381c5b0b7\",\"startTime\":1556350932961,\"duration\":3591246.75,\"timezone\":-5},{\"id\":\"5e461212-ad1c-4446-adbd-e889e6ae0826\",\"startTime\":1556354524207.75,\"duration\":3591246.75,\"timezone\":-5},{\"id\":\"931c15e7-a114-422d-ae30-78450c2420c1\",\"startTime\":1556358115454.5,\"duration\":3591246.75,\"timezone\":-5},{\"id\":\"b325e35a-515c-48f3-b753-54b032d00687\",\"startTime\":1556361706701.25,\"duration\":3591246.75,\"timezone\":-5},{\"id\":\"85afcca2-67bb-4451-9520-870bfb1528dd\",\"startTime\":1556365297948,\"duration\":3591246.75,\"timezone\":-5},{\"id\":\"b59a802e-41dc-4188-b777-b4a62594f656\",\"startTime\":1556368889194.75,\"duration\":3591246.75,\"timezone\":-5},{\"id\":\"cb22ee71-94c2-44ba-897d-99b553467960\",\"startTime\":1556372480441.5,\"duration\":2626740.48,\"timezone\":-5},{\"id\":\"f36c13de-a345-4fa2-bc4b-4573f084291a\",\"startTime\":1556375291000,\"duration\":3591246.75,\"timezone\":-5},{\"id\":\"8867888e-31db-4951-a73d-70cc2a39f702\",\"startTime\":1556378882246.75,\"duration\":3591246.75,\"timezone\":-5},{\"id\":\"2a530ae8-b216-4b5b-885d-51c9c94baf2a\",\"startTime\":1556382473493.5,\"duration\":3591246.75,\"timezone\":-5},{\"id\":\"184236fd-2f78-45ef-b2a7-dbb74a834416\",\"startTime\":1556386064740.25,\"duration\":3591246.75,\"timezone\":-5},{\"id\":\"ce960233-db2d-4ca0-8d69-893197f18bb3\",\"startTime\":1556389655987,\"duration\":3591246.75,\"timezone\":-5},{\"id\":\"bcccd17a-e4b9-49f5-abe1-b9cc820ff07a\",\"startTime\":1556393247233.75,\"duration\":3591246.75,\"timezone\":-5},{\"id\":\"fbc0f17a-ff5e-4da9-b9a0-a07283a03cec\",\"startTime\":1556396838480.5,\"duration\":3591246.75,\"timezone\":-5},{\"id\":\"62ba46cb-ed0b-4d2a-b49c-5bde8de5d1e0\",\"startTime\":1556400429727.25,\"duration\":3591246.75,\"timezone\":-5},{\"id\":\"581c0117-e6b5-4090-ad7c-1ebb69981b07\",\"startTime\":1556404020974,\"duration\":3591246.75,\"timezone\":-5},{\"id\":\"1415fad0-1ded-45a1-8321-7c1888e05370\",\"startTime\":1556407612220.75,\"duration\":3591246.75,\"timezone\":-5},{\"id\":\"f1c0b04f-9de6-4804-a85b-eaf11d2277f0\",\"startTime\":1556411203467.5,\"duration\":3591246.75,\"timezone\":-5},{\"id\":\"55b1d403-6a9e-4095-b002-7e09ade259c1\",\"startTime\":1556414794714.25,\"duration\":3591246.75,\"timezone\":-5},{\"id\":\"d571be75-eb22-4530-bdfc-a406f487a99b\",\"startTime\":1556418385961,\"duration\":3591246.75,\"timezone\":-5},{\"id\":\"4110cbfc-b52f-442f-a808-17bd8d73c133\",\"startTime\":1556421977207.75,\"duration\":3591246.75,\"timezone\":-5},{\"id\":\"0f6cc960-4632-4a9d-a0ea-91f2f8f71834\",\"startTime\":1556425568454.5,\"duration\":3591246.75,\"timezone\":-5},{\"id\":\"73e1cfa7-eefd-4fcc-806d-7b99bd3cc9bc\",\"startTime\":1556429159701.25,\"duration\":3591246.75,\"timezone\":-5},{\"id\":\"f2c8eeab-4458-40f0-9a9d-16cd4193754d\",\"startTime\":1556432750948,\"duration\":3591246.75,\"timezone\":-5},{\"id\":\"ea66c57e-e580-41db-b8fd-9e3956a732e9\",\"startTime\":1556436342194.75,\"duration\":3591246.75,\"timezone\":-5},{\"id\":\"d9c04921-556f-43e2-af2a-ecd54b9bbd18\",\"startTime\":1556439933441.5,\"duration\":3591246.75,\"timezone\":-5},{\"id\":\"b9794061-211d-4eb7-8a50-f7cc0438c52b\",\"startTime\":1556550498000,\"duration\":3591246.75,\"timezone\":-5},{\"id\":\"f64a6c9a-00e3-427f-a3d1-9360ff5a98dd\",\"startTime\":1556554089246.75,\"duration\":3591246.75,\"timezone\":-5},{\"id\":\"ce7c72b7-ca1e-43df-8f7b-6c69a7d3627e\",\"startTime\":1556557680493.5,\"duration\":2031619.5899999999,\"timezone\":-5}],\"channels\":[{\"id\":\"00f24e0c-7fcf-46f5-8864-dbc3be94b5ba\",\"name\":\"accZ\",\"channelType\":{\"name\":\"Cz\",\"category\":\"eeg\"}}]},{\"id\":\"8841b63a-9f9b-4e6c-8276-bf0d658876f6\",\"name\":\"Byteflies-emg\",\"sampleRate\":243.6480941846073,\"samplesPerRecord\":1000,\"recordLength\":4.10428,\"chunkPeriod\":41.0428,\"recordsPerChunk\":10,\"sampleEncoding\":\"int16\",\"compression\":\"gzip\",\"signalMin\":-8282614,\"signalMax\":8132128,\"units\":\"\",\"exponent\":9,\"timestamped\":false,\"channelGroupType\":{\"id\":\"generic\"},\"segments\":[{\"id\":\"d919d828-4194-48d1-8624-bef54a58d506\",\"startTime\":1556307838000,\"duration\":3599453.56,\"timezone\":-5},{\"id\":\"1707f798-9b1d-467c-9ad7-e97aec9ba9d8\",\"startTime\":1556311437453.56,\"duration\":3599453.56,\"timezone\":-5},{\"id\":\"7b62d6c9-f2af-4588-802b-e4669f398ff6\",\"startTime\":1556315036907.12,\"duration\":3599453.56,\"timezone\":-5},{\"id\":\"151f1655-1481-4869-8bbb-eb44254a12b2\",\"startTime\":1556318636360.68,\"duration\":3599453.56,\"timezone\":-5},{\"id\":\"8fb802cd-a511-4a49-8627-af947db190dd\",\"startTime\":1556322235830.6572,\"duration\":355980.62152,\"timezone\":-5},{\"id\":\"f413ed79-50ee-40e6-9a4c-a684323e2252\",\"startTime\":1556322592394.0864,\"duration\":783.91748,\"timezone\":-5},{\"id\":\"42d9f732-4a44-4640-ab00-920c63b36ff0\",\"startTime\":1556322593576.1191,\"duration\":525.34784,\"timezone\":-5},{\"id\":\"83fcc6a6-344d-4815-8745-f67beeba2f84\",\"startTime\":1556322594380.558,\"duration\":2487.19368,\"timezone\":-5},{\"id\":\"649ab499-74d9-4677-9bb8-be28fe1cd9f8\",\"startTime\":1556322597142.7385,\"duration\":1699.17192,\"timezone\":-5},{\"id\":\"f51fed53-ec74-4cfc-b12d-bb4eec5f6851\",\"startTime\":1556322599248.2341,\"duration\":496.61788,\"timezone\":-5},{\"id\":\"a3c6f2d5-200a-4bb1-ba15-fe8509a89b74\",\"startTime\":1556322600019.8389,\"duration\":898.8373200000001,\"timezone\":-5},{\"id\":\"4a7358bb-05c2-414c-b98c-4e05f7324e7c\",\"startTime\":1556322601127.9944,\"duration\":106.71128,\"timezone\":-5},{\"id\":\"274d7e9d-0aef-4319-a549-d4070a45d3e3\",\"startTime\":1556322601825.722,\"duration\":1707.38048,\"timezone\":-5},{\"id\":\"d4adba05-ea1f-4a8c-824a-8fa1f08fcb19\",\"startTime\":1556322603762.9421,\"duration\":4.10428,\"timezone\":-5},{\"id\":\"9ed959c2-1093-4a63-a91d-377ee0f4bf24\",\"startTime\":1556322604000.9905,\"duration\":418.63656,\"timezone\":-5},{\"id\":\"c2b57fbc-164a-42bd-8567-3b570a7894f4\",\"startTime\":1556322604719.2395,\"duration\":3303.9454,\"timezone\":-5},{\"id\":\"a0e2237e-d19d-42d3-8a62-2b7bb88c306b\",\"startTime\":1556322608269.4417,\"duration\":21042.643559999997,\"timezone\":-5},{\"id\":\"5d4936bf-3fb7-403e-86d5-5d003df73d1a\",\"startTime\":1556322629763.556,\"duration\":13544.124,\"timezone\":-5},{\"id\":\"aacda4eb-7fe0-4bc5-b3ef-080d949a7b3e\",\"startTime\":1556322643582.6667,\"duration\":15132.480360000001,\"timezone\":-5},{\"id\":\"50a20ec2-9c52-4dfd-a4db-09c47ee4cd50\",\"startTime\":1556322659014.7595,\"duration\":7851.48764,\"timezone\":-5},{\"id\":\"549a3a81-6375-4ba3-9c42-d86db4103f42\",\"startTime\":1556322667543.4534,\"duration\":673.1019200000001,\"timezone\":-5},{\"id\":\"5099f1c0-62d3-4e8f-bec4-458315864f4d\",\"startTime\":1556322668643.4004,\"duration\":4301.28544,\"timezone\":-5},{\"id\":\"73bab12a-cf4c-44bd-9d07-70a346555ab2\",\"startTime\":1556322673297.6538,\"duration\":2868.89172,\"timezone\":-5},{\"id\":\"1bac289b-4ebe-4a0a-9c96-0abe2d6d579a\",\"startTime\":1556322676371.7595,\"duration\":328.3424,\"timezone\":-5},{\"id\":\"74fa35e7-63c1-48a5-a35b-09a0b426bc22\",\"startTime\":1556322677003.8186,\"duration\":366479.36976,\"timezone\":-5},{\"id\":\"727229d4-8f7e-4483-bbbe-49c02425c4b7\",\"startTime\":1556323043766.3838,\"duration\":1493.9579199999998,\"timezone\":-5},{\"id\":\"7461ab07-f353-4c0c-a5cc-007f5af6f6ad\",\"startTime\":1556323045481.973,\"duration\":5856.80756,\"timezone\":-5},{\"id\":\"6e66a059-d20a-43ac-b9d9-7b084d63fbcb\",\"startTime\":1556323051777.9385,\"duration\":2783489.861760001,\"timezone\":-5},{\"id\":\"fe03e81a-2176-468e-908e-722b53b02b30\",\"startTime\":1556325835267.8,\"duration\":3599453.56,\"timezone\":-5},{\"id\":\"59928de3-6fe2-4b5e-8363-ed43384041b3\",\"startTime\":1556329434721.36,\"duration\":3599453.56,\"timezone\":-5},{\"id\":\"2e17d2f3-d039-40ea-8fc6-46ceef0448cf\",\"startTime\":1556333034174.92,\"duration\":3599453.56,\"timezone\":-5},{\"id\":\"527dae38-12e8-4c60-ba34-f695ca8fcea9\",\"startTime\":1556336633628.48,\"duration\":3599453.56,\"timezone\":-5},{\"id\":\"828a0ccb-e9d8-4a1e-af02-a2a282199ab4\",\"startTime\":1556340233082.04,\"duration\":3599453.56,\"timezone\":-5},{\"id\":\"65d10a9d-74f3-4bd0-aa80-985e9733077e\",\"startTime\":1556343832535.6,\"duration\":3599453.56,\"timezone\":-5},{\"id\":\"a5232f4b-e547-4444-b6ee-3d91bde6176c\",\"startTime\":1556347431989.16,\"duration\":3599453.56,\"timezone\":-5},{\"id\":\"d4fa9c91-e052-4882-a1c3-b43482df519e\",\"startTime\":1556351031442.72,\"duration\":3599453.56,\"timezone\":-5},{\"id\":\"81ea3eeb-5b2f-49cb-ba95-fb989daa2731\",\"startTime\":1556354630896.28,\"duration\":878012.20328,\"timezone\":-5},{\"id\":\"636dcf69-2cca-459d-b150-f986d276ed23\",\"startTime\":1556355509548.751,\"duration\":291.40388,\"timezone\":-5},{\"id\":\"9f4327ff-112d-4ec3-8fba-244bd79ecaca\",\"startTime\":1556355510123.35,\"duration\":41.0428,\"timezone\":-5},{\"id\":\"d9103ccd-4192-4909-9de1-7b7d7a939721\",\"startTime\":1556355510706.158,\"duration\":1479297.43184,\"timezone\":-5},{\"id\":\"cba59c8e-49d5-49df-a173-805fe8f52c1e\",\"startTime\":1556356990471.4778,\"duration\":6033.2916000000005,\"timezone\":-5},{\"id\":\"15a96dcf-30d3-4e26-8f67-f6a0d6001b47\",\"startTime\":1556356997239.4355,\"duration\":615.642,\"timezone\":-5},{\"id\":\"92b4dc8b-7852-4729-ba85-56aad7ad2f60\",\"startTime\":1556356998536.388,\"duration\":20907.20232,\"timezone\":-5},{\"id\":\"27a965fe-aff5-4b91-a40a-0b0880642ee6\",\"startTime\":1556357019997.668,\"duration\":730.5618400000001,\"timezone\":-5},{\"id\":\"eb982b6a-56f1-47b2-98ec-9614c2404bc4\",\"startTime\":1556357021023.738,\"duration\":960.40152,\"timezone\":-5},{\"id\":\"6f25f578-d2a7-41e1-87c6-ff96dcf71181\",\"startTime\":1556357022546.426,\"duration\":578.70348,\"timezone\":-5},{\"id\":\"0a2060a6-6073-4d3e-81d2-5556d5a4e3cd\",\"startTime\":1556357023642.2688,\"duration\":20.5214,\"timezone\":-5},{\"id\":\"7e63f8fc-032c-4493-93c0-2a73af276b56\",\"startTime\":1556357023900.8384,\"duration\":258.56964,\"timezone\":-5},{\"id\":\"39350930-7776-4495-8195-bf49eb29ec8d\",\"startTime\":1556357024368.7263,\"duration\":65.66848,\"timezone\":-5},{\"id\":\"70dd923d-39cc-4e0e-ba7c-09ed74cb6835\",\"startTime\":1556357025201.8953,\"duration\":558.18208,\"timezone\":-5},{\"id\":\"88e1bf03-96c6-4bca-9d46-679c48003598\",\"startTime\":1556357026076.107,\"duration\":2006.9929200000001,\"timezone\":-5},{\"id\":\"bcd9ef84-d7d4-477a-b93f-805e481ea6da\",\"startTime\":1556357028296.5225,\"duration\":61.5642,\"timezone\":-5},{\"id\":\"f6a46d6d-1ca3-4292-bfaf-80749a2163bc\",\"startTime\":1556357029100.9614,\"duration\":586.9120399999999,\"timezone\":-5},{\"id\":\"392afd14-9a6d-4047-ada5-6e2eb184933c\",\"startTime\":1556357030385.601,\"duration\":291.40388,\"timezone\":-5},{\"id\":\"5c7cd313-f9c3-4520-9274-1b2e2424ea12\",\"startTime\":1556357030878.1147,\"duration\":607.43344,\"timezone\":-5},{\"id\":\"6f43c2a0-749f-495e-9088-01fde4e93df5\",\"startTime\":1556357031694.8665,\"duration\":11097.97312,\"timezone\":-5},{\"id\":\"ab4ab789-8d34-4647-8822-d339d80f76a9\",\"startTime\":1556357043248.4146,\"duration\":619.74628,\"timezone\":-5},{\"id\":\"a1ba8a91-1ff0-4071-b4da-c6db1b2fbcd0\",\"startTime\":1556357044561.7842,\"duration\":599.22488,\"timezone\":-5},{\"id\":\"223059e4-a927-4a87-84a6-52c0f6a1905b\",\"startTime\":1556357045862.8408,\"duration\":574.5992,\"timezone\":-5},{\"id\":\"0a94e9d7-d044-4e6f-a997-b7912c9a4690\",\"startTime\":1556357047282.9216,\"duration\":217.52684,\"timezone\":-5},{\"id\":\"c83f13ed-7a28-4ecf-9f49-5ff32215fa39\",\"startTime\":1556357047726.1838,\"duration\":45.14708,\"timezone\":-5},{\"id\":\"bf23afa7-b8e7-4084-8fc2-c9ffe9969b4c\",\"startTime\":1556357048551.144,\"duration\":2212.2069199999996,\"timezone\":-5},{\"id\":\"0695e517-e01a-442b-acd4-6a12ba33a9b0\",\"startTime\":1556357051165.5703,\"duration\":607.43344,\"timezone\":-5},{\"id\":\"c8e99acb-24aa-49b5-8c99-bf735fa0da6d\",\"startTime\":1556357052610.2769,\"duration\":217.52684,\"timezone\":-5},{\"id\":\"735ad43e-7966-43fa-9094-5a4d81e3a004\",\"startTime\":1556357053041.2263,\"duration\":1539.105,\"timezone\":-5},{\"id\":\"16ba1d61-c8a3-45ec-aa15-1fcca1c1d9cb\",\"startTime\":1556357055105.6792,\"duration\":829.0645599999999,\"timezone\":-5},{\"id\":\"fb61bb5c-fe94-4388-8aae-34784a6880a8\",\"startTime\":1556357056447.7788,\"duration\":283.19532,\"timezone\":-5},{\"id\":\"32d10b4f-fb25-4377-aeb0-eeea6fb7e666\",\"startTime\":1556357056936.1882,\"duration\":94.39844,\"timezone\":-5},{\"id\":\"ab954abd-7507-4448-bd06-8829d44c4008\",\"startTime\":1556357057806.2957,\"duration\":254.46535999999998,\"timezone\":-5},{\"id\":\"89691078-d24a-4f07-b248-092dbf1d0a30\",\"startTime\":1556357058270.0793,\"duration\":82.0856,\"timezone\":-5},{\"id\":\"d6eb9596-13f4-417a-a01d-7e6b4f24774b\",\"startTime\":1556357059119.6653,\"duration\":258.56964,\"timezone\":-5},{\"id\":\"311c38fb-f3cb-4ad8-8976-b691c0bd2062\",\"startTime\":1556357059587.5532,\"duration\":65.66848,\"timezone\":-5},{\"id\":\"ec29fa9f-4258-499e-8519-83cd38e7c6e5\",\"startTime\":1556357060166.2566,\"duration\":1793.57036,\"timezone\":-5},{\"id\":\"0d7764ec-ecd7-4932-9a07-a8caad9ee39f\",\"startTime\":1556357062169.1453,\"duration\":69.77276,\"timezone\":-5},{\"id\":\"3ca87745-d78e-4650-86be-258d5ee4dac6\",\"startTime\":1556357062587.7817,\"duration\":2269.6668400000003,\"timezone\":-5},{\"id\":\"e7648052-0906-4426-b882-f7ff7903bf43\",\"startTime\":1556357065546.9675,\"duration\":591.0163200000001,\"timezone\":-5},{\"id\":\"f1c5c916-1e6d-4da8-8aaf-da01ae833ddb\",\"startTime\":1556357066343.1978,\"duration\":4.10428,\"timezone\":-5},{\"id\":\"6e61652e-097e-4504-a8c8-28c7b272101a\",\"startTime\":1556357066831.6072,\"duration\":820.856,\"timezone\":-5},{\"id\":\"0cf054e4-d35f-4416-8538-b182ef716747\",\"startTime\":1556357068173.7068,\"duration\":299.61244,\"timezone\":-5},{\"id\":\"514d1a5c-86a2-41d2-8c53-2da0d39dd657\",\"startTime\":1556357068674.429,\"duration\":77.98132000000001,\"timezone\":-5},{\"id\":\"3c0723c8-6052-4434-871f-ce35d0bf808f\",\"startTime\":1556357069560.9534,\"duration\":521.24356,\"timezone\":-5},{\"id\":\"7bc86790-aa7e-4f83-b775-eaff7a1dce8b\",\"startTime\":1556357070837.3845,\"duration\":521.24356,\"timezone\":-5},{\"id\":\"0c2555b0-ff24-4810-bf36-600063b2e2f8\",\"startTime\":1556357072060.46,\"duration\":603.32916,\"timezone\":-5},{\"id\":\"adca5553-eb88-4d19-9762-073e48c34c37\",\"startTime\":1556357073217.867,\"duration\":800.3346,\"timezone\":-5},{\"id\":\"e159a093-ffd3-4b64-9fd3-6f37d22e35d7\",\"startTime\":1556357074818.5361,\"duration\":521.24356,\"timezone\":-5},{\"id\":\"0a507fcd-799e-47d4-96aa-4f418ddff296\",\"startTime\":1556357075988.2559,\"duration\":324.23812000000004,\"timezone\":-5},{\"id\":\"ebc1e443-cdd8-42e3-af07-fedb9255ed37\",\"startTime\":1556357076542.3337,\"duration\":480.20076,\"timezone\":-5},{\"id\":\"eabb31f5-2775-42ee-9c7c-be7ed804fa7d\",\"startTime\":1556357077334.4597,\"duration\":287.2996,\"timezone\":-5},{\"id\":\"a7f6693d-8281-45f7-bc8d-ab60b1f9b041\",\"startTime\":1556357077855.7034,\"duration\":2634.94776,\"timezone\":-5},{\"id\":\"66a115bd-4f5d-41e6-91b3-300039c33220\",\"startTime\":1556357081196.5874,\"duration\":320.13384,\"timezone\":-5},{\"id\":\"36ee131a-fba0-4c04-9c60-7a2e40c97d74\",\"startTime\":1556357081767.0823,\"duration\":3931.90024,\"timezone\":-5},{\"id\":\"abc7ea1d-5301-41ff-a997-07a18287ebc0\",\"startTime\":1556357086425.4402,\"duration\":623.8505600000001,\"timezone\":-5},{\"id\":\"752a8595-b95f-4625-a249-2e62e898cbbc\",\"startTime\":1556357087767.5398,\"duration\":595.1206,\"timezone\":-5},{\"id\":\"752b13c1-1509-4141-bb62-706b6c2846d4\",\"startTime\":1556357088588.3958,\"duration\":16.41712,\"timezone\":-5},{\"id\":\"7240ab87-e2d8-4392-beb4-d531bade4ae3\",\"startTime\":1556357089085.0137,\"duration\":324.23812000000004,\"timezone\":-5},{\"id\":\"c2432e88-2a84-4b8b-9add-2db9cf82fcf8\",\"startTime\":1556357089610.3616,\"duration\":106.71128,\"timezone\":-5},{\"id\":\"16d04516-df15-4fc3-9adf-4c4a0c55e5ea\",\"startTime\":1556357090525.616,\"duration\":558.18208,\"timezone\":-5},{\"id\":\"95e6739d-2a78-46f7-95fa-ae837d279b59\",\"startTime\":1556357092031.8867,\"duration\":23694.00844,\"timezone\":-5},{\"id\":\"1f28a558-84b0-4585-93a1-72d189a4996c\",\"startTime\":1556357116526.2297,\"duration\":254.46535999999998,\"timezone\":-5},{\"id\":\"381e7174-817d-465a-b129-327a227e01c3\",\"startTime\":1556357116985.9092,\"duration\":94.39844,\"timezone\":-5},{\"id\":\"1968a966-7b88-471f-9aae-4e44e5e916de\",\"startTime\":1556357117839.5994,\"duration\":3677.43488,\"timezone\":-5},{\"id\":\"86d402c3-ce16-44de-93ea-9e512a7e5841\",\"startTime\":1556357121870.0024,\"duration\":1933.1158799999998,\"timezone\":-5},{\"id\":\"49642162-bdfb-41c4-b1fe-c8d9d1b56bb1\",\"startTime\":1556357124521.3674,\"duration\":644.37196,\"timezone\":-5},{\"id\":\"fa10f920-45d9-403a-a3b2-35c1f31f2354\",\"startTime\":1556357125883.9883,\"duration\":3681.53916,\"timezone\":-5},{\"id\":\"92c7c676-1009-4744-accf-678b7b90a2ee\",\"startTime\":1556357129791.263,\"duration\":845.48168,\"timezone\":-5},{\"id\":\"f6ae82c9-f5cc-4584-a742-da771341c473\",\"startTime\":1556357131141.571,\"duration\":632.05912,\"timezone\":-5},{\"id\":\"c3fde7e4-4d59-4998-842d-3c0683445b12\",\"startTime\":1556357132495.9834,\"duration\":878.31592,\"timezone\":-5},{\"id\":\"75d9b446-8630-46dd-aecc-a2c6e6bd35c7\",\"startTime\":1556357133833.9788,\"duration\":599.22488,\"timezone\":-5},{\"id\":\"d8f81477-e81b-4309-9626-7a084deeb2bd\",\"startTime\":1556357135274.581,\"duration\":554.0777999999999,\"timezone\":-5},{\"id\":\"987e1f64-e636-4c63-822f-00735f096ee0\",\"startTime\":1556357136095.437,\"duration\":1112.25988,\"timezone\":-5},{\"id\":\"1c6d2563-cfd4-4b43-ba63-7031abee0e57\",\"startTime\":1556357138069.5957,\"duration\":521.24356,\"timezone\":-5},{\"id\":\"5a21b1c0-ef39-493d-90b7-b86939cad140\",\"startTime\":1556357139346.0269,\"duration\":591.0163200000001,\"timezone\":-5},{\"id\":\"d7a8fd6c-22ef-4258-b711-569d33320885\",\"startTime\":1556357140725.065,\"duration\":11282.66572,\"timezone\":-5},{\"id\":\"04bb0a60-f8f2-422a-b3b4-5a9f0c2b1257\",\"startTime\":1556357152730.084,\"duration\":636.1634,\"timezone\":-5},{\"id\":\"b39e8771-a845-4efb-8096-aeb4eafde7ba\",\"startTime\":1556357154330.7532,\"duration\":1838.71744,\"timezone\":-5},{\"id\":\"4f45dab5-c52a-4546-a7b9-417b39359c80\",\"startTime\":1556357156957.4924,\"duration\":6250.81844,\"timezone\":-5},{\"id\":\"6194107e-361c-43b6-9fde-106f17b5ef24\",\"startTime\":1556357163692.616,\"duration\":299.61244,\"timezone\":-5},{\"id\":\"87aaf998-dd53-4ef4-8846-29436937813d\",\"startTime\":1556357164193.3381,\"duration\":106.71128,\"timezone\":-5},{\"id\":\"dc27ac69-17da-463d-ad59-ec35ac65c822\",\"startTime\":1556357164866.44,\"duration\":1826.4046,\"timezone\":-5},{\"id\":\"b1a40ea6-d563-4524-83cc-718647369917\",\"startTime\":1556357166914.4756,\"duration\":3262.9026,\"timezone\":-5},{\"id\":\"112726cb-cc9a-4648-838c-04c5a34e09ee\",\"startTime\":1556357170448.2607,\"duration\":841.3774000000001,\"timezone\":-5},{\"id\":\"e110bee1-0db6-4e56-a38c-c4e34ebd12d1\",\"startTime\":1556357171704.1704,\"duration\":4957.97024,\"timezone\":-5},{\"id\":\"d9110947-af2e-4e67-b96c-807dc00faf78\",\"startTime\":1556357177064.36,\"duration\":611.5377199999999,\"timezone\":-5},{\"id\":\"013c1932-6d0c-4661-8555-3c1d9d08aa37\",\"startTime\":1556357178283.3313,\"duration\":935.77584,\"timezone\":-5},{\"id\":\"3ba7090a-6616-44ff-9dc3-7295bda5a6c2\",\"startTime\":1556357179711.6208,\"duration\":627.95484,\"timezone\":-5},{\"id\":\"a2e2c959-31cf-4c95-bffa-177f01a156af\",\"startTime\":1556357181078.3462,\"duration\":607.43344,\"timezone\":-5},{\"id\":\"9ca5c585-b99f-41b8-95fc-458309aee4c0\",\"startTime\":1556357182465.5928,\"duration\":582.80776,\"timezone\":-5},{\"id\":\"369e7dea-c7b3-45d8-97b9-01347c2352e0\",\"startTime\":1556357183778.9624,\"duration\":574.5992,\"timezone\":-5},{\"id\":\"005a6bcd-7774-4348-9ed1-ae010de3bf95\",\"startTime\":1556357185116.9578,\"duration\":853.69024,\"timezone\":-5},{\"id\":\"3858b0ae-b71f-4d1e-91e4-4a9ea83471fd\",\"startTime\":1556357186434.4316,\"duration\":816.75172,\"timezone\":-5},{\"id\":\"9ab78e7d-eba6-467d-b120-c5d461aa224c\",\"startTime\":1556357187505.6487,\"duration\":2162.95556,\"timezone\":-5},{\"id\":\"72bb05a5-f02d-4263-afb3-b118c1a600dc\",\"startTime\":1556357190378.6448,\"duration\":279.09104,\"timezone\":-5},{\"id\":\"84b1efd8-6261-41ae-a5e4-5e8c7579ae27\",\"startTime\":1556357190875.2627,\"duration\":73.87704000000001,\"timezone\":-5},{\"id\":\"4548c252-599a-42d6-90cb-01b409df5a53\",\"startTime\":1556357191720.7444,\"duration\":582.80776,\"timezone\":-5},{\"id\":\"58970d0e-f7c4-45ad-b6f4-b271b3fd3b6d\",\"startTime\":1556357192718.0845,\"duration\":902.9416,\"timezone\":-5},{\"id\":\"9fad12b0-0196-4776-b6d0-b40f09ecee85\",\"startTime\":1556357193953.4727,\"duration\":3480.42944,\"timezone\":-5},{\"id\":\"c9cce457-efed-4ed7-a967-9e1e50ca9c37\",\"startTime\":1556357197663.7417,\"duration\":41.0428,\"timezone\":-5},{\"id\":\"26adba46-2ab8-4f58-84b2-282efa08d910\",\"startTime\":1556357198669.2903,\"duration\":648.4762400000001,\"timezone\":-5},{\"id\":\"5554482a-9eeb-467a-9b1d-bc8562ef8ce1\",\"startTime\":1556357199806.1758,\"duration\":1009.65288,\"timezone\":-5},{\"id\":\"7e2ab01c-6552-4820-908d-bca82b5863c6\",\"startTime\":1556357201123.6497,\"duration\":6250.81844,\"timezone\":-5},{\"id\":\"0c6d41a3-97e7-4ecf-bc29-392689b26cd1\",\"startTime\":1556357207596.099,\"duration\":3882.64888,\"timezone\":-5},{\"id\":\"d112813a-d4bb-43e0-910a-f92a999d6fe3\",\"startTime\":1556357211725.005,\"duration\":956.2972400000001,\"timezone\":-5},{\"id\":\"a966fb92-2d0a-49d5-80b5-bc099234f3da\",\"startTime\":1556357213108.1472,\"duration\":870.10736,\"timezone\":-5},{\"id\":\"50fadd6b-8742-46bc-8a79-a6ca6b20b637\",\"startTime\":1556357214400.9954,\"duration\":734.66612,\"timezone\":-5},{\"id\":\"327fa27c-51ed-48db-be37-c6b124e40aee\",\"startTime\":1556357215669.2178,\"duration\":586.9120399999999,\"timezone\":-5},{\"id\":\"e8b56a47-3f3e-433d-8b8d-9ff9ce7e7a61\",\"startTime\":1556357217011.3174,\"duration\":258.56964,\"timezone\":-5},{\"id\":\"d8b17593-d2d2-430f-857a-3d11b26e3998\",\"startTime\":1556357217470.9968,\"duration\":77.98132000000001,\"timezone\":-5},{\"id\":\"45f551a3-be19-40d0-aac5-9df94a328d5d\",\"startTime\":1556357218291.8528,\"duration\":603.32916,\"timezone\":-5},{\"id\":\"a5f2f4eb-c188-4cda-a99e-bd19e6b90c09\",\"startTime\":1556357219395.904,\"duration\":525.34784,\"timezone\":-5},{\"id\":\"08bcdf7e-3fa7-4ef2-a923-9c4050abfe27\",\"startTime\":1556357220122.3616,\"duration\":86.18988,\"timezone\":-5},{\"id\":\"83774b3e-a4c8-434c-8217-8cac7c9ea862\",\"startTime\":1556357220610.771,\"duration\":41.0428,\"timezone\":-5},{\"id\":\"9e176419-dada-4131-a116-c747c54d4b3b\",\"startTime\":1556357220930.9048,\"duration\":262.67392,\"timezone\":-5},{\"id\":\"6cea807e-42fb-4a7b-a039-9cd1cc164100\",\"startTime\":1556357221394.6885,\"duration\":86.18988,\"timezone\":-5},{\"id\":\"bab02dd6-71c2-4a3a-9a5f-650bb04c5355\",\"startTime\":1556357222256.5872,\"duration\":599.22488,\"timezone\":-5},{\"id\":\"a408a32a-cbfc-466e-afad-620fb18bd6c8\",\"startTime\":1556357223253.9272,\"duration\":5175.49708,\"timezone\":-5},{\"id\":\"65eb1d2c-767a-4a2c-8b28-38795ea9eec9\",\"startTime\":1556357228696.2026,\"duration\":5093.411480000001,\"timezone\":-5},{\"id\":\"a3f6ac1c-7a1c-4bd5-b834-324db5726529\",\"startTime\":1556357234224.6677,\"duration\":927.56728,\"timezone\":-5},{\"id\":\"8e2dd26b-ceb0-47fd-abc0-4919b5f730ba\",\"startTime\":1556357235611.9143,\"duration\":619.74628,\"timezone\":-5},{\"id\":\"5c6b05d2-933a-4775-9a36-82cae8e88473\",\"startTime\":1556357236555.8987,\"duration\":956.2972400000001,\"timezone\":-5},{\"id\":\"8cf31c78-80ba-417a-af60-126560b2a352\",\"startTime\":1556357238250.9663,\"duration\":993.23576,\"timezone\":-5},{\"id\":\"7920756a-1c94-49d8-9fbb-e3ef3feecedf\",\"startTime\":1556357239617.6917,\"duration\":324.23812000000004,\"timezone\":-5},{\"id\":\"b50e4223-fe5a-47e3-b3a1-d76cc2bdc40b\",\"startTime\":1556357240143.0396,\"duration\":106.71128,\"timezone\":-5},{\"id\":\"86360ffb-6fb3-4908-9da6-2444190522ef\",\"startTime\":1556357240697.1174,\"duration\":4.10428,\"timezone\":-5},{\"id\":\"12ba2037-607d-4e70-9492-cf2386c17d39\",\"startTime\":1556357241021.3555,\"duration\":623.8505600000001,\"timezone\":-5},{\"id\":\"9fa5e0e7-8f90-42a6-a411-9aac56304f6f\",\"startTime\":1556357242310.0994,\"duration\":829.0645599999999,\"timezone\":-5},{\"id\":\"3e88f3ca-c181-486a-8642-0841ab2d3b0b\",\"startTime\":1556357243680.929,\"duration\":607.43344,\"timezone\":-5},{\"id\":\"53d4716d-d942-4dbc-8474-e38c160ebb1a\",\"startTime\":1556357245064.0713,\"duration\":279.09104,\"timezone\":-5},{\"id\":\"c8031703-7808-4182-9b18-76c51401e562\",\"startTime\":1556357245548.3762,\"duration\":90.29416,\"timezone\":-5},{\"id\":\"adee81fe-8e87-48c8-aebb-1c2d881c5344\",\"startTime\":1556357246447.2136,\"duration\":254.46535999999998,\"timezone\":-5},{\"id\":\"222a2c5d-3600-4a82-a933-26d7b3887f43\",\"startTime\":1556357246923.31,\"duration\":61.5642,\"timezone\":-5},{\"id\":\"5657b454-6643-456b-a5c2-73a9058a399c\",\"startTime\":1556357247752.3745,\"duration\":270.88248,\"timezone\":-5},{\"id\":\"e44df36c-5da6-4f41-bceb-619176d2bf54\",\"startTime\":1556357248240.784,\"duration\":4592.6893199999995,\"timezone\":-5},{\"id\":\"c2ce9080-370b-45a4-87d2-05c46ccf0b60\",\"startTime\":1556357253079.73,\"duration\":537.66068,\"timezone\":-5},{\"id\":\"cb374bf3-cb43-4913-a07f-6e2e377e3439\",\"startTime\":1556357253912.899,\"duration\":788.02176,\"timezone\":-5},{\"id\":\"2c99ab4e-ee4f-4cd9-b8c5-7e1ccbb61e8d\",\"startTime\":1556357254922.5518,\"duration\":1112.25988,\"timezone\":-5},{\"id\":\"cb438cf4-4091-46a4-9cf3-d5045bf5cf60\",\"startTime\":1556357256244.13,\"duration\":65.66848,\"timezone\":-5},{\"id\":\"095e2c9b-8ccb-4cc3-8966-280f3a7d685f\",\"startTime\":1556357256576.5767,\"duration\":2347.6481599999997,\"timezone\":-5},{\"id\":\"543af8d9-b3eb-49c7-853f-680a3a24d981\",\"startTime\":1556357259679.4124,\"duration\":307.821,\"timezone\":-5},{\"id\":\"b92c047b-c966-4e76-aa03-a8dcac957da7\",\"startTime\":1556357260266.3245,\"duration\":8.20856,\"timezone\":-5},{\"id\":\"4e3cda22-24ef-4d21-94d1-f5f904d396de\",\"startTime\":1556357260923.0093,\"duration\":652.58052,\"timezone\":-5},{\"id\":\"cdd4cea3-a1b6-4102-9ea1-b5f024232b1f\",\"startTime\":1556357262269.2131,\"duration\":332.44668,\"timezone\":-5},{\"id\":\"e8ee47a8-2db4-448c-8f44-332fb4099764\",\"startTime\":1556357262806.8738,\"duration\":61.5642,\"timezone\":-5},{\"id\":\"c8227210-5f44-4c1c-8eb2-9092c90e0c34\",\"startTime\":1556357263377.3687,\"duration\":833.16884,\"timezone\":-5},{\"id\":\"b7e35d66-c266-4cbf-bf0e-3efe532e2080\",\"startTime\":1556357264723.5725,\"duration\":1896.1773600000001,\"timezone\":-5},{\"id\":\"4a30bd18-b0b4-451a-924e-c28583ed578f\",\"startTime\":1556357266849.5896,\"duration\":6624.307919999999,\"timezone\":-5},{\"id\":\"397df6d2-716a-4a0b-a46e-dac0466a198c\",\"startTime\":1556357273744.78,\"duration\":2380.4824,\"timezone\":-5},{\"id\":\"34f02184-20ec-435a-999a-a7c8f678ea7a\",\"startTime\":1556357276929.7014,\"duration\":274.98676,\"timezone\":-5},{\"id\":\"e1ca339e-bd96-4703-8103-93736e12fe98\",\"startTime\":1556357277418.1108,\"duration\":1436.498,\"timezone\":-5},{\"id\":\"5575aeec-e8c9-4959-9518-24ee74927af4\",\"startTime\":1556357279158.3254,\"duration\":94.39844,\"timezone\":-5},{\"id\":\"a24069ab-7ae1-4a8b-817d-d4fd341235ea\",\"startTime\":1556357279560.545,\"duration\":3336.77964,\"timezone\":-5},{\"id\":\"369639b7-035b-494c-a954-872faa4d7311\",\"startTime\":1556357283685.3464,\"duration\":258.56964,\"timezone\":-5},{\"id\":\"edb68e5f-ef7e-4e0f-a3c6-d6c1cf1b9313\",\"startTime\":1556357284153.2344,\"duration\":86.18988,\"timezone\":-5},{\"id\":\"9d000e00-dd8c-4738-8a4b-0c2e816a4bec\",\"startTime\":1556357285027.446,\"duration\":258.56964,\"timezone\":-5},{\"id\":\"8288a1af-61fc-4014-9d41-00b9a601e6c2\",\"startTime\":1556357285511.751,\"duration\":57.45992,\"timezone\":-5},{\"id\":\"68e5a071-f970-4abd-a470-c2254653d955\",\"startTime\":1556357286299.7727,\"duration\":291.40388,\"timezone\":-5},{\"id\":\"8826833f-6b43-4a53-b134-9d051493ab8d\",\"startTime\":1556357286796.3906,\"duration\":90.29416,\"timezone\":-5},{\"id\":\"7a0f79a1-eeeb-4387-b610-6dc7e8965b14\",\"startTime\":1556357287691.1238,\"duration\":266.7782,\"timezone\":-5},{\"id\":\"06b916d0-24da-4d04-aca5-25fe009d7887\",\"startTime\":1556357288179.5332,\"duration\":41.0428,\"timezone\":-5},{\"id\":\"99fb243b-faf8-45b5-8aa7-f04a4d6c7dbe\",\"startTime\":1556357288528.397,\"duration\":1071.2170800000001,\"timezone\":-5},{\"id\":\"ea8f7cfb-95e4-44d0-b656-0065bb2a039a\",\"startTime\":1556357290404.053,\"duration\":287.2996,\"timezone\":-5},{\"id\":\"c24dbe4e-4fe8-4b84-806c-4e820439e022\",\"startTime\":1556357290904.7751,\"duration\":65.66848,\"timezone\":-5},{\"id\":\"23458c02-9206-4cb9-a7f4-a753e6b3dab7\",\"startTime\":1556357291270.0562,\"duration\":4.10428,\"timezone\":-5},{\"id\":\"9040898b-7a58-4c46-9f0e-55321af4b823\",\"startTime\":1556357291586.0857,\"duration\":194255.5724,\"timezone\":-5},{\"id\":\"53d7b4c7-c3fb-406a-870c-cb6478932b4c\",\"startTime\":1556357486650.2012,\"duration\":209.31828,\"timezone\":-5},{\"id\":\"1b6cdfbd-81c6-472c-b26e-c51f368f6cbc\",\"startTime\":1556357487068.8376,\"duration\":5097.51576,\"timezone\":-5},{\"id\":\"f05b7ce3-5d48-4c1f-8149-934c6e6e0e7a\",\"startTime\":1556357492387.9846,\"duration\":57.45992,\"timezone\":-5},{\"id\":\"d591b3e8-bc0b-4227-a9f9-a142cc618057\",\"startTime\":1556357492695.8057,\"duration\":2384.58668,\"timezone\":-5},{\"id\":\"260e298e-4bac-405d-a035-9523a4143e33\",\"startTime\":1556357495638.5745,\"duration\":283.19532,\"timezone\":-5},{\"id\":\"60ee58bc-ca91-49cc-8a52-018f6a63c36e\",\"startTime\":1556357496180.3394,\"duration\":1391.35092,\"timezone\":-5},{\"id\":\"55a0a679-f9c2-4fa6-a6cf-3da15aa5ab4b\",\"startTime\":1556357497809.7385,\"duration\":209.31828,\"timezone\":-5},{\"id\":\"326eb1a7-afd0-43ed-b5e3-c8e21c7f7949\",\"startTime\":1556357498253.0007,\"duration\":254.46535999999998,\"timezone\":-5},{\"id\":\"57c94f17-a7b0-44d3-a242-be88408415e8\",\"startTime\":1556357498724.993,\"duration\":1063.0085199999999,\"timezone\":-5},{\"id\":\"df243cb1-090b-47eb-80a4-e0711250d988\",\"startTime\":1556357499993.2153,\"duration\":90.29416,\"timezone\":-5},{\"id\":\"f4aa5eef-72fb-4f6f-9f6e-875eea556b37\",\"startTime\":1556357500571.9187,\"duration\":459.67936,\"timezone\":-5},{\"id\":\"e6cff562-c6b2-4d5f-b65d-20e5c8b785b4\",\"startTime\":1556357501236.812,\"duration\":61.5642,\"timezone\":-5},{\"id\":\"2fdc537e-9ca2-43cc-9a86-8ab98de09f89\",\"startTime\":1556357502061.7722,\"duration\":558.18208,\"timezone\":-5},{\"id\":\"e9dee280-56fa-4765-8782-1956f7288d12\",\"startTime\":1556357503284.8477,\"duration\":2286.08396,\"timezone\":-5},{\"id\":\"e4771005-1cc8-4008-a29e-f5b280435c78\",\"startTime\":1556357505817.1885,\"duration\":1071.2170800000001,\"timezone\":-5},{\"id\":\"79e5453a-56bd-4cb0-8c90-d55c37dc9043\",\"startTime\":1556357507130.558,\"duration\":33183.1038,\"timezone\":-5},{\"id\":\"1033185d-eeb5-4bc3-8eae-6e0de5ef86c5\",\"startTime\":1556357540527.0845,\"duration\":2384.58668,\"timezone\":-5},{\"id\":\"590a5ba0-7902-40da-aab3-76f3666a3e6f\",\"startTime\":1556357543350.829,\"duration\":320.13384,\"timezone\":-5},{\"id\":\"de7a0707-4214-49ca-846b-ac37ed4d07e4\",\"startTime\":1556357543904.907,\"duration\":1358.51668,\"timezone\":-5},{\"id\":\"c27c91d9-df89-461f-9e3f-2c1b056bdab9\",\"startTime\":1556357545612.2874,\"duration\":668.9976399999999,\"timezone\":-5},{\"id\":\"4c0b1d06-d1aa-4720-844f-1166d28e240d\",\"startTime\":1556357546502.916,\"duration\":49.25136,\"timezone\":-5},{\"id\":\"9d1f36c1-7ea0-4c7f-be2f-8273e22e47cd\",\"startTime\":1556357547192.435,\"duration\":58449.05148,\"timezone\":-5},{\"id\":\"3402f374-f864-4f8b-9f28-732e9bb6c792\",\"startTime\":1556357606380.2568,\"duration\":217.52684,\"timezone\":-5},{\"id\":\"f47d91a8-a3d1-414e-abe0-8ffb4019af1b\",\"startTime\":1556357606802.9976,\"duration\":197.00544,\"timezone\":-5},{\"id\":\"bafd8fdb-d711-4585-88f2-5367f0475495\",\"startTime\":1556357607311.9282,\"duration\":623.8505600000001,\"timezone\":-5},{\"id\":\"610bce27-1560-4508-a599-0a5b396d25bf\",\"startTime\":1556357608145.0972,\"duration\":61.5642,\"timezone\":-5},{\"id\":\"cd62f977-666e-4128-a500-a3ebf4eb3d9c\",\"startTime\":1556357609019.3088,\"duration\":262.67392,\"timezone\":-5},{\"id\":\"e3cd7f48-6ebd-4264-b1e8-e4487da17897\",\"startTime\":1556357609499.5095,\"duration\":6492.97096,\"timezone\":-5},{\"id\":\"68d62125-8fd8-4a55-9dcd-8f8e98dd12f7\",\"startTime\":1556357616201.7988,\"duration\":2532.34076,\"timezone\":-5},{\"id\":\"90baa941-3c30-4719-b5ea-e78c5a76edc4\",\"startTime\":1556357618939.3535,\"duration\":168.27548000000002,\"timezone\":-5},{\"id\":\"497ebcaa-1047-4c3a-8d57-372945b94e31\",\"startTime\":1556357619312.843,\"duration\":1054.79996,\"timezone\":-5},{\"id\":\"14ec8e48-88b1-4d13-a2df-03816fc8e6fe\",\"startTime\":1556357621126.9348,\"duration\":7966.40748,\"timezone\":-5},{\"id\":\"d3b9c7bb-19bf-4811-b0b6-cfb9d903cb8a\",\"startTime\":1556357629454.519,\"duration\":771.6046399999999,\"timezone\":-5},{\"id\":\"d1a87ccb-eb35-46e6-b587-a2d1cefcb8a4\",\"startTime\":1556357630776.0972,\"duration\":13503.0812,\"timezone\":-5},{\"id\":\"8270af00-0c94-4d69-b1cb-a1d9fd32cbc8\",\"startTime\":1556357644509.018,\"duration\":2384.58668,\"timezone\":-5},{\"id\":\"6b1eda30-f5cb-4909-b26d-a98dcec7e2f4\",\"startTime\":1556357647098.8188,\"duration\":69.77276,\"timezone\":-5},{\"id\":\"5d99701c-927f-41ab-b551-62c813151169\",\"startTime\":1556357647533.8726,\"duration\":45.14708,\"timezone\":-5},{\"id\":\"494341e5-2456-4a98-9f27-30fc83154683\",\"startTime\":1556357647981.239,\"duration\":11730.03224,\"timezone\":-5},{\"id\":\"094e43fc-5cd5-48de-8d7b-75c91e13aaa1\",\"startTime\":1556357660092.9692,\"duration\":225.7354,\"timezone\":-5},{\"id\":\"63f838db-2aef-4f59-b7bf-4bbce2251dc4\",\"startTime\":1556357660523.9187,\"duration\":73.87704000000001,\"timezone\":-5},{\"id\":\"7e64839d-ea38-4f54-a325-30dbc3b9c3a0\",\"startTime\":1556357661283.2104,\"duration\":5963.51884,\"timezone\":-5},{\"id\":\"03b15300-a266-4a81-b9ab-47811d02c813\",\"startTime\":1556357667809.0156,\"duration\":5930.6846000000005,\"timezone\":-5},{\"id\":\"118293c7-e985-421f-bbca-838a98dc57cb\",\"startTime\":1556357673957.227,\"duration\":3788.2504400000003,\"timezone\":-5},{\"id\":\"6879f6ba-9c1d-4056-bd3c-8791fb3fec9a\",\"startTime\":1556357677954.7957,\"duration\":1444.70656,\"timezone\":-5},{\"id\":\"aa4468fb-7bf9-49e4-9bd9-d6638ece576a\",\"startTime\":1556357679785.3044,\"duration\":32.83424,\"timezone\":-5},{\"id\":\"bdfb8580-4e81-46bd-96ee-a7d0d194d6de\",\"startTime\":1556357680240.8796,\"duration\":714.14472,\"timezone\":-5},{\"id\":\"e2932cd4-94c9-42c8-975d-99735366db15\",\"startTime\":1556357681611.7092,\"duration\":554.0777999999999,\"timezone\":-5},{\"id\":\"7204b4b9-14bf-40d5-ab22-88f43e61b2f5\",\"startTime\":1556357682592.632,\"duration\":36322.878000000004,\"timezone\":-5},{\"id\":\"28804879-e554-476c-9bf9-0140e8a0d4ba\",\"startTime\":1556357719161.7668,\"duration\":993.23576,\"timezone\":-5},{\"id\":\"3004b04b-0b34-419d-a098-5c228f78e152\",\"startTime\":1556357720388.9465,\"duration\":65.66848,\"timezone\":-5},{\"id\":\"fdb07daf-6768-41fe-a7f3-1ba8037a014c\",\"startTime\":1556357720668.0376,\"duration\":935.77584,\"timezone\":-5},{\"id\":\"f2b489df-5687-43e2-969b-c4cd5df69e62\",\"startTime\":1556357722190.7256,\"duration\":508159.11535999906,\"timezone\":-5},{\"id\":\"0253564f-c3eb-4232-87ca-eb3b25de6476\",\"startTime\":1556358230349.84,\"duration\":764085.59904,\"timezone\":-5},{\"id\":\"0f097aaf-ac26-478f-8bdb-54130cb69210\",\"startTime\":1556358995145.4795,\"duration\":722.35328,\"timezone\":-5},{\"id\":\"edf96387-1e2e-4e1e-b49d-f86a37aacb64\",\"startTime\":1556358996573.769,\"duration\":976.81864,\"timezone\":-5},{\"id\":\"610ba9fb-f143-4801-94ba-cceb27d07311\",\"startTime\":1556358997800.9487,\"duration\":632.05912,\"timezone\":-5},{\"id\":\"e26f8346-4fc8-4b5e-828c-18da79dd004b\",\"startTime\":1556358999114.3184,\"duration\":595.1206,\"timezone\":-5},{\"id\":\"bf6e822c-289b-4858-b6a8-ffb850f6e9d0\",\"startTime\":1556358999931.07,\"duration\":2450.25516,\"timezone\":-5},{\"id\":\"b0da4902-4f26-403f-89b0-60f4a1a80b5d\",\"startTime\":1556359003189.8684,\"duration\":529.4521199999999,\"timezone\":-5},{\"id\":\"4198d6f5-9efa-4ff7-9c26-d73890e5c6c2\",\"startTime\":1556359004224.147,\"duration\":816.75172,\"timezone\":-5},{\"id\":\"13a0776e-d071-49e3-bbdf-9c359741fa85\",\"startTime\":1556359005603.185,\"duration\":767.50036,\"timezone\":-5},{\"id\":\"f5b94773-c55d-4554-8e0d-180e3885e26f\",\"startTime\":1556359006846.782,\"duration\":870.10736,\"timezone\":-5},{\"id\":\"61ecd681-c128-4d0e-a794-3b619ccc537d\",\"startTime\":1556359008435.1384,\"duration\":759.2918,\"timezone\":-5},{\"id\":\"c757aff4-e074-48df-be18-f4de559930ee\",\"startTime\":1556359009789.5508,\"duration\":7034.73592,\"timezone\":-5},{\"id\":\"f739372e-06b9-4143-96ea-8de513f64fa8\",\"startTime\":1556359017300.3833,\"duration\":3061.79288,\"timezone\":-5},{\"id\":\"519f9501-e566-4867-8ec7-c7fd407b0caf\",\"startTime\":1556359020752.0828,\"duration\":1169.7198,\"timezone\":-5},{\"id\":\"018f3612-9b22-43d9-b1e0-0190ced7cfeb\",\"startTime\":1556359022262.4578,\"duration\":1818.1960399999998,\"timezone\":-5},{\"id\":\"d4001268-a62d-4778-a7bf-8f67d2a91de0\",\"startTime\":1556359024737.3386,\"duration\":545.86924,\"timezone\":-5},{\"id\":\"7c546735-41b4-4d76-8b32-f447b3a43efe\",\"startTime\":1556359025549.986,\"duration\":1182.0326400000001,\"timezone\":-5},{\"id\":\"bbe1cab6-b159-472e-bde8-ee7dc52f0adb\",\"startTime\":1556359027273.7837,\"duration\":1986.47152,\"timezone\":-5},{\"id\":\"66215166-f2e6-40de-81a6-f8ba2a3eb10c\",\"startTime\":1556359029777.3945,\"duration\":541.76496,\"timezone\":-5},{\"id\":\"4fd68991-b846-48fe-8e99-50c08558703a\",\"startTime\":1556359030770.6304,\"duration\":824.96028,\"timezone\":-5},{\"id\":\"1e682962-0f95-4a7b-afde-1929cb345325\",\"startTime\":1556359031866.4731,\"duration\":180.58832,\"timezone\":-5},{\"id\":\"1d36cd6b-b043-40ef-b354-c07f650baae8\",\"startTime\":1556359032289.2139,\"duration\":2076.76568,\"timezone\":-5},{\"id\":\"766296e2-fb8f-4ac1-b85d-96241a7ad0d8\",\"startTime\":1556359034887.2231,\"duration\":2240.93688,\"timezone\":-5},{\"id\":\"1282bedd-0522-48f0-a13b-53ad5c161b99\",\"startTime\":1556359037431.8767,\"duration\":1064075.6328,\"timezone\":-5},{\"id\":\"8f00c263-27e8-4b13-addf-936b6385fb0e\",\"startTime\":1556360101786.6006,\"duration\":816.75172,\"timezone\":-5},{\"id\":\"1891d130-73a3-4552-8ff8-be1706899b6a\",\"startTime\":1556360103173.8472,\"duration\":4568.06364,\"timezone\":-5},{\"id\":\"4fb9fa00-fce4-463f-b9a7-8f73e1296005\",\"startTime\":1556360108406.8042,\"duration\":3365.5096000000003,\"timezone\":-5},{\"id\":\"9b2d27cd-6718-466e-81d3-59657f518202\",\"startTime\":1556360112478.25,\"duration\":591.0163200000001,\"timezone\":-5},{\"id\":\"0768c5c5-468f-4bf7-b3ee-0b02af7e9b45\",\"startTime\":1556360113561.78,\"duration\":4945.6574,\"timezone\":-5},{\"id\":\"d14bb35e-1170-45be-a89a-e76982fe924d\",\"startTime\":1556360118749.5898,\"duration\":820.856,\"timezone\":-5},{\"id\":\"91c5790c-dd0e-4fe5-a002-43542b7dd3ff\",\"startTime\":1556360120017.8123,\"duration\":2150.64272,\"timezone\":-5},{\"id\":\"df833d60-157c-433c-a44e-e43fd90c0b58\",\"startTime\":1556360122726.637,\"duration\":4.10428,\"timezone\":-5},{\"id\":\"838f465b-f2ac-47f0-9e4a-ec534ef129e1\",\"startTime\":1556360122931.851,\"duration\":521.24356,\"timezone\":-5},{\"id\":\"cb5f1e13-97b8-4b33-b337-8d6f1a973e7d\",\"startTime\":1556360123970.234,\"duration\":722.35328,\"timezone\":-5},{\"id\":\"7ae00e92-7f6a-4b3b-81a5-22ce67bec7fb\",\"startTime\":1556360125016.8252,\"duration\":2524.1322,\"timezone\":-5},{\"id\":\"197e8f34-165c-42b0-9abe-0c34cb129904\",\"startTime\":1556360127807.7356,\"duration\":65.66848,\"timezone\":-5},{\"id\":\"68d83e6c-4b39-4435-96eb-cc5758fe74d0\",\"startTime\":1556360128119.661,\"duration\":570.49492,\"timezone\":-5},{\"id\":\"40a797af-3879-469c-a63d-ba6b395d1e43\",\"startTime\":1556360128899.474,\"duration\":1083.52992,\"timezone\":-5},{\"id\":\"641206a5-87ac-4c68-aa26-703b45045199\",\"startTime\":1556360130602.7502,\"duration\":648.4762400000001,\"timezone\":-5},{\"id\":\"afeb5ad1-74e1-44d0-a178-19b566de9efa\",\"startTime\":1556360131612.403,\"duration\":20.5214,\"timezone\":-5},{\"id\":\"eeb0b0e5-1fed-4a88-b989-c93d7eaf35fe\",\"startTime\":1556360131924.3284,\"duration\":619.74628,\"timezone\":-5},{\"id\":\"a25593c7-9952-4b6f-ac72-6e8fee580210\",\"startTime\":1556360133180.238,\"duration\":4871.78036,\"timezone\":-5},{\"id\":\"6f1622a2-9661-4fd8-a481-03c1ea3b27d5\",\"startTime\":1556360138310.5881,\"duration\":1050.69568,\"timezone\":-5},{\"id\":\"42e2f5c8-0b30-4789-8c54-ed3723a87be9\",\"startTime\":1556360139603.4363,\"duration\":3595.3492800000004,\"timezone\":-5},{\"id\":\"57689ab3-a6ed-4549-b879-11b42674e9ed\",\"startTime\":1556360143449.1467,\"duration\":607.43344,\"timezone\":-5},{\"id\":\"e1051557-988b-4d26-94fd-4855369bf0c8\",\"startTime\":1556360144717.3691,\"duration\":960.40152,\"timezone\":-5},{\"id\":\"4fec1182-7b0e-4984-928e-57fcc9601cfb\",\"startTime\":1556360145993.8003,\"duration\":636.1634,\"timezone\":-5},{\"id\":\"7f7ab0c5-02a0-470f-8ffc-2b64e9c34172\",\"startTime\":1556360147298.9614,\"duration\":3205.44268,\"timezone\":-5},{\"id\":\"48ef0481-48c0-42db-afb9-34a0e8666b47\",\"startTime\":1556360151165.193,\"duration\":595.1206,\"timezone\":-5},{\"id\":\"c107ca6a-7839-49f4-8f53-694cfe8ef44d\",\"startTime\":1556360152523.7097,\"duration\":582.80776,\"timezone\":-5},{\"id\":\"15fa6151-869d-48e1-877c-8c44e153c0c3\",\"startTime\":1556360153775.5151,\"duration\":4403.89244,\"timezone\":-5},{\"id\":\"aa798d7c-c785-42c4-b5b4-f1ab40d658a6\",\"startTime\":1556360158405.143,\"duration\":1116.36416,\"timezone\":-5},{\"id\":\"f1029600-6fdf-4906-b8c5-c8085d3edc1b\",\"startTime\":1556360159964.7695,\"duration\":6480.65812,\"timezone\":-5},{\"id\":\"4f881bb8-e3b7-4b31-a207-044b0cfc29e7\",\"startTime\":1556360166720.4143,\"duration\":829.0645599999999,\"timezone\":-5},{\"id\":\"4397c6bf-4526-41e1-9130-557443712fde\",\"startTime\":1556360168058.4097,\"duration\":2187.58124,\"timezone\":-5},{\"id\":\"eebbc658-51f5-41bc-9237-a4415dff2b59\",\"startTime\":1556360171017.5955,\"duration\":734.66612,\"timezone\":-5},{\"id\":\"6b20626a-a27b-4cb1-a571-f04a38d12249\",\"startTime\":1556360171977.997,\"duration\":1239.49256,\"timezone\":-5},{\"id\":\"02717fed-7100-422a-89f9-62afbae9dcac\",\"startTime\":1556360173430.912,\"duration\":788.02176,\"timezone\":-5},{\"id\":\"83ca9a2c-4e08-4460-bc9d-398bb65a203a\",\"startTime\":1556360174937.1829,\"duration\":1026.07,\"timezone\":-5},{\"id\":\"755a3e3c-3320-485f-8e47-a540b5dec64b\",\"startTime\":1556360176287.491,\"duration\":693.62332,\"timezone\":-5},{\"id\":\"0cc6645a-6e36-40ef-85c5-9aca3e702625\",\"startTime\":1556360177186.3284,\"duration\":12.31284,\"timezone\":-5},{\"id\":\"244b0b85-c7f3-4429-b922-636333f29f88\",\"startTime\":1556360177592.652,\"duration\":1054.79996,\"timezone\":-5},{\"id\":\"4fb95505-5484-42c2-93d0-b2849a88d977\",\"startTime\":1556360178901.9175,\"duration\":632.05912,\"timezone\":-5},{\"id\":\"7a857328-3430-4fc7-8874-7ac2bb070dfe\",\"startTime\":1556360180116.7844,\"duration\":7264.5756,\"timezone\":-5},{\"id\":\"feb256cb-331c-4aa9-bee9-c9daedd25eab\",\"startTime\":1556360187919.0208,\"duration\":808.5431600000001,\"timezone\":-5},{\"id\":\"12d73fdf-2375-4e09-a658-135a25c1bbbf\",\"startTime\":1556360189486.8557,\"duration\":595.1206,\"timezone\":-5},{\"id\":\"3aca91db-39e0-42bf-9401-fd7e7c403021\",\"startTime\":1556360190664.7842,\"duration\":677.2062,\"timezone\":-5},{\"id\":\"da9e8822-efc8-47f6-aa92-019cb5deee75\",\"startTime\":1556360192072.5522,\"duration\":591.0163200000001,\"timezone\":-5},{\"id\":\"ef8db231-bdc3-49ae-9b45-fe8cddb79316\",\"startTime\":1556360192918.034,\"duration\":7826.861959999999,\"timezone\":-5},{\"id\":\"2ec6568f-e4e2-4f1d-afab-7cf8d8e950ec\",\"startTime\":1556360200995.257,\"duration\":41.0428,\"timezone\":-5},{\"id\":\"00ceee1e-7f2f-4e8e-a187-ef7aff11bd3b\",\"startTime\":1556360201381.0593,\"duration\":1013.7571599999999,\"timezone\":-5},{\"id\":\"126f91ba-03d9-4372-a861-3fbb68c5cd39\",\"startTime\":1556360202760.0974,\"duration\":86649.55936,\"timezone\":-5},{\"id\":\"cf9641d1-6fb0-4988-9c74-8b7808171e38\",\"startTime\":1556360289696.9563,\"duration\":7371.286880000001,\"timezone\":-5},{\"id\":\"6151798d-4334-49e6-aaca-c351fbb0aa2c\",\"startTime\":1556360297339.1257,\"duration\":24732.391280000003,\"timezone\":-5},{\"id\":\"fa13554d-4791-4715-a287-77913eec5a7f\",\"startTime\":1556360322367.0251,\"duration\":5204.22704,\"timezone\":-5},{\"id\":\"0b9d4f12-393c-4035-9b72-3edd681e447a\",\"startTime\":1556360327833.926,\"duration\":8824.202,\"timezone\":-5},{\"id\":\"b47aeced-518a-4833-90e8-154a73529f69\",\"startTime\":1556360337187.58,\"duration\":882.4202,\"timezone\":-5},{\"id\":\"dbb6e1c1-623c-418c-bb61-21eb3d6a5c50\",\"startTime\":1556360338324.4656,\"duration\":4.10428,\"timezone\":-5},{\"id\":\"235fd23e-ec6a-41f0-8103-95fb7c8eda9b\",\"startTime\":1556360338800.562,\"duration\":1058.9042399999998,\"timezone\":-5},{\"id\":\"cae003f7-2349-4c6d-9c45-157e1dc54dd9\",\"startTime\":1556360340232.9558,\"duration\":549.97352,\"timezone\":-5},{\"id\":\"0e9d53f2-ed8b-49e9-98a7-252cdd3d9bf9\",\"startTime\":1556360341603.7854,\"duration\":537.66068,\"timezone\":-5},{\"id\":\"3e832dfc-00b2-4cdc-a9c6-71ba4c7584d8\",\"startTime\":1556360342896.6335,\"duration\":619.74628,\"timezone\":-5},{\"id\":\"37a8154e-b0a1-4e42-9afe-ba07d971b5ef\",\"startTime\":1556360343803.6794,\"duration\":168.27548000000002,\"timezone\":-5},{\"id\":\"3a41f06e-c18d-4d16-9f05-3f72b02593a4\",\"startTime\":1556360344238.7332,\"duration\":644.37196,\"timezone\":-5},{\"id\":\"19da5908-2ff7-407f-9c5a-f989c68bcb92\",\"startTime\":1556360345527.477,\"duration\":685.41476,\"timezone\":-5},{\"id\":\"5e197660-2cc2-4d6a-a51f-9108b758a759\",\"startTime\":1556360346992.705,\"duration\":586.9120399999999,\"timezone\":-5},{\"id\":\"0e1c58c8-5a6b-4193-a22b-f5ee97f4e238\",\"startTime\":1556360348322.4917,\"duration\":632.05912,\"timezone\":-5},{\"id\":\"1ec0ecfb-0927-41a5-bc65-3a196a79223f\",\"startTime\":1556360349689.217,\"duration\":726.45756,\"timezone\":-5},{\"id\":\"6be668cf-bd83-46af-bdec-da0821eb8463\",\"startTime\":1556360350633.2014,\"duration\":139.54552,\"timezone\":-5},{\"id\":\"e12a4fa0-2cfd-4236-adbd-a3118395cdde\",\"startTime\":1556360351039.5251,\"duration\":1038.38284,\"timezone\":-5},{\"id\":\"8281ff8a-1786-4b1e-a38f-b51dece362cc\",\"startTime\":1556360352402.146,\"duration\":939.88012,\"timezone\":-5},{\"id\":\"edf6e6fd-3b6f-4be9-92b8-a36a50cc30fb\",\"startTime\":1556360353760.6626,\"duration\":7449.2681999999995,\"timezone\":-5},{\"id\":\"fa7719c2-1ffa-4f8e-9188-d25bd4eddda6\",\"startTime\":1556360361755.8,\"duration\":632.05912,\"timezone\":-5},{\"id\":\"81146f98-25ef-4446-a8eb-6559d90b0ec1\",\"startTime\":1556360362605.386,\"duration\":16.41712,\"timezone\":-5},{\"id\":\"11a68e42-da50-4224-ae41-c5ad4cdf2a75\",\"startTime\":1556360363060.9612,\"duration\":7141.4472,\"timezone\":-5},{\"id\":\"494d4f91-7bc1-4349-8747-5228c77fbea0\",\"startTime\":1556360370781.1118,\"duration\":697.7276,\"timezone\":-5},{\"id\":\"e8e85d0a-e611-4f69-94b2-c1a4a29379cf\",\"startTime\":1556360371798.9731,\"duration\":1458004.4272000005,\"timezone\":-5},{\"id\":\"523ad2a2-bfd7-4382-ba89-9ee91a961240\",\"startTime\":1556361829803.4,\"duration\":3599453.56,\"timezone\":-5},{\"id\":\"f7562302-fb84-4157-adfc-69c5fc50b7f5\",\"startTime\":1556365429256.96,\"duration\":3599453.56,\"timezone\":-5},{\"id\":\"3cdd407a-92d9-4404-b447-4d4e5d143ef2\",\"startTime\":1556369028710.52,\"duration\":3599453.56,\"timezone\":-5},{\"id\":\"1222b6ac-eacf-499a-88c4-089a42a3c06d\",\"startTime\":1556372628164.08,\"duration\":2462568,\"timezone\":-5},{\"id\":\"08801ea6-8ab8-46c4-ad32-b22e61668bd5\",\"startTime\":1556375291000,\"duration\":3599453.56,\"timezone\":-5},{\"id\":\"092cc6c7-4f37-46fa-8ab9-4610c110bc5d\",\"startTime\":1556378890453.56,\"duration\":3599453.56,\"timezone\":-5},{\"id\":\"9b89a8b3-397c-408e-bab0-7ea1c6f36afa\",\"startTime\":1556382489907.12,\"duration\":453014.00928,\"timezone\":-5},{\"id\":\"06ef2ef3-4632-45d8-a70f-8bb1b7a90230\",\"startTime\":1556382943306.9316,\"duration\":3146053.7484,\"timezone\":-5},{\"id\":\"2d082616-7982-4bee-8958-8414e0cef8a9\",\"startTime\":1556386089360.68,\"duration\":3599453.56,\"timezone\":-5},{\"id\":\"29e10466-7569-43c4-88ba-6e97167c20bf\",\"startTime\":1556389688814.24,\"duration\":3599453.56,\"timezone\":-5},{\"id\":\"6e7661f2-5abe-4d67-9407-2d7157443ed1\",\"startTime\":1556393288267.8,\"duration\":1056753.5972799999,\"timezone\":-5},{\"id\":\"3e2348f0-bfdd-4982-a8ca-d88937200f66\",\"startTime\":1556394345267.654,\"duration\":2542453.70592,\"timezone\":-5},{\"id\":\"b48130b6-4773-4ecd-8c34-d28dea2e3ebf\",\"startTime\":1556396887721.36,\"duration\":780933.66844,\"timezone\":-5},{\"id\":\"e1c2a59f-f17b-4f47-9a5c-68e9eb36aab6\",\"startTime\":1556397668958.7454,\"duration\":45.14708,\"timezone\":-5},{\"id\":\"c3e6f680-8872-4c3e-93a4-8d3f2c10bece\",\"startTime\":1556397669225.5237,\"duration\":171755.90944000002,\"timezone\":-5},{\"id\":\"d4f9c6c9-1c8b-4985-8ffd-6ade8d0bcbbb\",\"startTime\":1556397841629.9094,\"duration\":1949.533,\"timezone\":-5},{\"id\":\"021b47c8-b09d-498b-8fd9-c37202159e20\",\"startTime\":1556397843792.865,\"duration\":2643382.0554,\"timezone\":-5},{\"id\":\"f1df83fa-0b58-4640-84a8-d7e961989f21\",\"startTime\":1556400487174.92,\"duration\":3599453.56,\"timezone\":-5},{\"id\":\"86061ebb-a0b8-4b68-a799-bc5909f04127\",\"startTime\":1556404086628.48,\"duration\":3599453.56,\"timezone\":-5},{\"id\":\"cd8b0ba1-6294-4f70-afd7-3755bf551231\",\"startTime\":1556407686082.04,\"duration\":492841.9424,\"timezone\":-5},{\"id\":\"88cf4e97-e136-4dcf-aa84-aef2c7184be2\",\"startTime\":1556408179420.6003,\"duration\":697.7276,\"timezone\":-5},{\"id\":\"e4dfca83-712d-4aa4-b230-da8418033e91\",\"startTime\":1556408180594.4243,\"duration\":545.86924,\"timezone\":-5},{\"id\":\"7fd77f03-d797-4ac0-9380-c4f5005ff2c3\",\"startTime\":1556408181755.9355,\"duration\":500.72216000000003,\"timezone\":-5},{\"id\":\"e0764d35-eb5a-48dd-8ed7-5e5e1871a49a\",\"startTime\":1556408182736.8584,\"duration\":6677.66356,\"timezone\":-5},{\"id\":\"d0fbf745-2de1-48c4-801f-4a7e170df770\",\"startTime\":1556408189673.0916,\"duration\":2872.996,\"timezone\":-5},{\"id\":\"4433b65b-3fa5-4840-86d6-cb74a1bed1e0\",\"startTime\":1556408193190.4595,\"duration\":541.76496,\"timezone\":-5},{\"id\":\"6f192654-02a5-438b-9032-efcded816906\",\"startTime\":1556408194372.4922,\"duration\":1830.50888,\"timezone\":-5},{\"id\":\"ecd70a5e-1e95-4e3a-9e9f-4c95eccda13b\",\"startTime\":1556408196716.0361,\"duration\":533.5564,\"timezone\":-5},{\"id\":\"a3adbee4-55cf-4345-91a4-13233a8ef284\",\"startTime\":1556408197836.5046,\"duration\":611.5377199999999,\"timezone\":-5},{\"id\":\"e8e0650c-2338-4f6e-8db5-efd882883fbb\",\"startTime\":1556408199125.2485,\"duration\":796.23032,\"timezone\":-5},{\"id\":\"9ce7bbea-55d7-4402-b6b2-8707407ac7b2\",\"startTime\":1556408200237.5083,\"duration\":1896.1773600000001,\"timezone\":-5},{\"id\":\"bb8d09fb-b614-4a70-b18f-acc55558c443\",\"startTime\":1556408202650.825,\"duration\":525.34784,\"timezone\":-5},{\"id\":\"11c04f52-1cf9-4bcf-8a9e-798536791822\",\"startTime\":1556408203845.1704,\"duration\":541.76496,\"timezone\":-5},{\"id\":\"ce473b68-fe7e-4d0a-bacd-cbaab2626307\",\"startTime\":1556408205018.9944,\"duration\":714.14472,\"timezone\":-5},{\"id\":\"d1cd2baa-260a-46ae-a996-4af007a50e05\",\"startTime\":1556408206159.9841,\"duration\":3386.031,\"timezone\":-5},{\"id\":\"f4a36f40-1959-4c5b-98fa-b05665fa86ab\",\"startTime\":1556408209821.002,\"duration\":1933.1158799999998,\"timezone\":-5},{\"id\":\"3efa8c78-58dc-4c11-a37e-9b9fccc7f063\",\"startTime\":1556408212234.3186,\"duration\":22795.17112,\"timezone\":-5},{\"id\":\"ae43be64-863b-42d4-b7ac-32ff869606fb\",\"startTime\":1556408235230.5994,\"duration\":504.82644,\"timezone\":-5},{\"id\":\"b266d7f6-2f22-4c82-881a-b73ba9a0a5dd\",\"startTime\":1556408236174.5837,\"duration\":5635.17644,\"timezone\":-5},{\"id\":\"e52f1447-3781-45f0-bdd1-db5e259a51c2\",\"startTime\":1556408242092.9556,\"duration\":3476.32516,\"timezone\":-5},{\"id\":\"3ed33635-8e16-44e4-8e85-7a757f2b7553\",\"startTime\":1556408246074.1072,\"duration\":742.87468,\"timezone\":-5},{\"id\":\"02a6a672-7452-4ed2-9dcb-0816e1c4a445\",\"startTime\":1556408247297.1826,\"duration\":5187.809920000001,\"timezone\":-5},{\"id\":\"3a0a7e25-05f7-4f27-9f24-532e43469675\",\"startTime\":1556408253018.5488,\"duration\":644.37196,\"timezone\":-5},{\"id\":\"11091633-46b3-4085-9d77-8c144b451d34\",\"startTime\":1556408253892.7605,\"duration\":911.15016,\"timezone\":-5},{\"id\":\"07729c31-4a65-4f7d-b5a8-20e030e53083\",\"startTime\":1556408255132.2532,\"duration\":4.10428,\"timezone\":-5},{\"id\":\"d3e12389-403b-4556-9646-baaa0ce7124b\",\"startTime\":1556408255390.8228,\"duration\":746.9789599999999,\"timezone\":-5},{\"id\":\"ea85c99d-66fe-4fb0-ae28-6a4018095824\",\"startTime\":1556408256466.144,\"duration\":533.5564,\"timezone\":-5},{\"id\":\"48a244bb-c0dd-47b4-96ce-22bfe12f8147\",\"startTime\":1556408257660.4895,\"duration\":1764.8404,\"timezone\":-5},{\"id\":\"cfb7096a-4b17-44da-99cc-0b699dbf23fb\",\"startTime\":1556408259663.3782,\"duration\":45.14708,\"timezone\":-5},{\"id\":\"e2f3181c-e051-48f0-acdc-b27bc4bdd26b\",\"startTime\":1556408259987.6162,\"duration\":660.78908,\"timezone\":-5},{\"id\":\"c020b722-66f7-419f-bc48-87b57a4172f3\",\"startTime\":1556408261124.5017,\"duration\":755.18752,\"timezone\":-5},{\"id\":\"6a9fa94a-f579-43d8-95ba-6015c061d448\",\"startTime\":1556408262327.0557,\"duration\":529.4521199999999,\"timezone\":-5},{\"id\":\"a1614bda-148b-43fd-8457-15bb3a20daec\",\"startTime\":1556408263266.9358,\"duration\":1194.34548,\"timezone\":-5},{\"id\":\"6524f7c4-298f-46b5-86c7-18193d2f7bbe\",\"startTime\":1556408264691.1208,\"duration\":710.04044,\"timezone\":-5},{\"id\":\"c2c6858b-4bc2-4e97-be0f-761e28102e5a\",\"startTime\":1556408265910.092,\"duration\":541.76496,\"timezone\":-5},{\"id\":\"7a72e56f-53d1-4d99-91d1-9bec9bddce14\",\"startTime\":1556408267129.0632,\"duration\":919.35872,\"timezone\":-5},{\"id\":\"1c30e6fe-e8e5-4235-bfb8-f3c51c72de69\",\"startTime\":1556408268327.513,\"duration\":674961.15884,\"timezone\":-5},{\"id\":\"aebde71b-41e9-4315-b42e-3aa3b723cdc2\",\"startTime\":1556408943596.4927,\"duration\":554.0777999999999,\"timezone\":-5},{\"id\":\"70142650-7c92-4bd9-9bcf-b54e647ac2b8\",\"startTime\":1556408944737.4824,\"duration\":435423.0652,\"timezone\":-5},{\"id\":\"d1a6fb7e-140d-4b60-9cbc-98c3fbd85ff0\",\"startTime\":1556409380718.7297,\"duration\":578.70348,\"timezone\":-5},{\"id\":\"d35f412b-7e21-459e-8083-68dfd355233d\",\"startTime\":1556409381773.5298,\"duration\":3152.08704,\"timezone\":-5},{\"id\":\"c88719a4-38d0-4b20-aeb7-73de3da8bad1\",\"startTime\":1556409385303.2107,\"duration\":804.4388799999999,\"timezone\":-5},{\"id\":\"e88995a3-782d-4d3b-9b8d-de05476a9d71\",\"startTime\":1556409386682.2488,\"duration\":545.86924,\"timezone\":-5},{\"id\":\"b62f1da6-12aa-4f08-95b8-dfbc6f23737b\",\"startTime\":1556409387560.5647,\"duration\":1140.98984,\"timezone\":-5},{\"id\":\"aa44c1aa-1e5a-4f52-9bc9-016c323a7529\",\"startTime\":1556409389046.314,\"duration\":578.70348,\"timezone\":-5},{\"id\":\"dc2e388a-57c6-4e40-ba45-a97073df2949\",\"startTime\":1556409390248.868,\"duration\":882.4202,\"timezone\":-5},{\"id\":\"fc4ce2ac-602d-4fe3-b027-a7c3391d1f4c\",\"startTime\":1556409391410.3792,\"duration\":845.48168,\"timezone\":-5},{\"id\":\"6effa8c4-7d57-4f7a-a32d-eb33f47b2093\",\"startTime\":1556409392518.5347,\"duration\":3053.58432,\"timezone\":-5},{\"id\":\"a9599a30-77dc-4168-bfe9-e4c9da5e4306\",\"startTime\":1556409396163.1353,\"duration\":607.43344,\"timezone\":-5},{\"id\":\"48676e40-3e03-4e5a-a183-9e175c79e5a8\",\"startTime\":1556409397361.585,\"duration\":533.5564,\"timezone\":-5},{\"id\":\"ade64c22-3718-40b4-a410-873a8697f60d\",\"startTime\":1556409398523.0962,\"duration\":20152.0148,\"timezone\":-5},{\"id\":\"3b4b4948-a2d6-4a98-8e4c-5d33947ff81c\",\"startTime\":1556409418966.515,\"duration\":2019.30576,\"timezone\":-5},{\"id\":\"3b59d13e-9b30-40bc-974f-97f780b0fc55\",\"startTime\":1556409421346.9973,\"duration\":541.76496,\"timezone\":-5},{\"id\":\"bc4922cd-3954-4b00-af3e-373048f53448\",\"startTime\":1556409422307.399,\"duration\":49.25136,\"timezone\":-5},{\"id\":\"a221e116-9117-4e21-a66d-8084452450bc\",\"startTime\":1556409422565.9685,\"duration\":1690.96336,\"timezone\":-5},{\"id\":\"8cb11334-03a1-4f42-92aa-a2139499de2a\",\"startTime\":1556409424884.8867,\"duration\":541.76496,\"timezone\":-5},{\"id\":\"d99b705a-590b-4b52-8bf5-b2bb5779947f\",\"startTime\":1556409425980.7295,\"duration\":689.51904,\"timezone\":-5},{\"id\":\"76d9539b-4354-4dad-90fd-8af8406f0881\",\"startTime\":1556409427244.8477,\"duration\":1781.25752,\"timezone\":-5},{\"id\":\"3b3d195f-31b7-481d-93a3-1a123b4e8dd6\",\"startTime\":1556409429600.7043,\"duration\":1707.38048,\"timezone\":-5},{\"id\":\"67ef3649-4fe0-43e7-a654-1e39f93ba91e\",\"startTime\":1556409431677.47,\"duration\":816.75172,\"timezone\":-5},{\"id\":\"3923acd6-0a2b-4025-8b6b-dde62122a3d7\",\"startTime\":1556409432843.0854,\"duration\":829.0645599999999,\"timezone\":-5},{\"id\":\"e5bd4788-9c77-42ab-9e8a-6d1be9685ae1\",\"startTime\":1556409434316.522,\"duration\":2922.2473600000003,\"timezone\":-5},{\"id\":\"c69d43fb-b236-46a6-babb-4ca4d3ba5521\",\"startTime\":1556409437821.5771,\"duration\":4338.223959999999,\"timezone\":-5},{\"id\":\"fc3f4996-4fec-4d9d-8aff-18d6b97171d4\",\"startTime\":1556409442644.1062,\"duration\":734.66612,\"timezone\":-5},{\"id\":\"19701771-fdf7-47d9-b61c-e6a143ea095a\",\"startTime\":1556409443592.1948,\"duration\":4.10428,\"timezone\":-5},{\"id\":\"8d26bc7b-11bf-40dc-b617-2cfc10e6991b\",\"startTime\":1556409443842.556,\"duration\":582.80776,\"timezone\":-5},{\"id\":\"77b53ff0-307a-4f22-9b17-b108a07657ed\",\"startTime\":1556409445020.4844,\"duration\":586.9120399999999,\"timezone\":-5},{\"id\":\"90e3fe31-5e38-42ca-9d03-e0f61c1dad17\",\"startTime\":1556409446062.9714,\"duration\":2368.1695600000003,\"timezone\":-5},{\"id\":\"59c592b9-2952-4bd0-a240-f0d1bd825829\",\"startTime\":1556409448656.8765,\"duration\":537.66068,\"timezone\":-5},{\"id\":\"160f68cf-c26c-4c24-aff9-e212dc18deaa\",\"startTime\":1556409449801.9707,\"duration\":19688.23116,\"timezone\":-5},{\"id\":\"ab44f3b7-c1d8-44d5-9b39-7dbc35aa44dd\",\"startTime\":1556409469900.63,\"duration\":582.80776,\"timezone\":-5},{\"id\":\"8d220f1d-7201-456d-8896-9491135b792a\",\"startTime\":1556409471111.3926,\"duration\":529.4521199999999,\"timezone\":-5},{\"id\":\"26eb65eb-023d-49ad-a7e4-2f6dfcbf4f30\",\"startTime\":1556409472268.7996,\"duration\":545.86924,\"timezone\":-5},{\"id\":\"9790fc20-d233-429e-a20c-ac612b2173fd\",\"startTime\":1556409473409.7893,\"duration\":619.74628,\"timezone\":-5},{\"id\":\"b382bc15-2872-412d-a166-d0c356d4a8b3\",\"startTime\":1556409474292.2095,\"duration\":32.83424,\"timezone\":-5},{\"id\":\"a67b38e0-0659-42dc-ab04-0dc198ba6174\",\"startTime\":1556409474649.2817,\"duration\":541.76496,\"timezone\":-5},{\"id\":\"ea8f4fb3-c7a7-4f66-a6cd-17f033330423\",\"startTime\":1556409475819.0015,\"duration\":17677.13396,\"timezone\":-5},{\"id\":\"d9dbd901-abc4-4977-9cc2-f30ef1782829\",\"startTime\":1556409493840.895,\"duration\":574.5992,\"timezone\":-5},{\"id\":\"ddae1ef1-5223-41c5-8d75-9e90485cb433\",\"startTime\":1556409495092.7004,\"duration\":5413.54532,\"timezone\":-5},{\"id\":\"20854b62-927f-4316-a895-f8234f87396e\",\"startTime\":1556409500768.9197,\"duration\":572863.08956,\"timezone\":-5},{\"id\":\"72a4c399-6397-4c5e-b87b-4ac700c9f11e\",\"startTime\":1556410074301.0068,\"duration\":5725.470600000001,\"timezone\":-5},{\"id\":\"9aec5be2-c103-4f16-b8fc-1e9223515a2a\",\"startTime\":1556410080379.4456,\"duration\":558.18208,\"timezone\":-5},{\"id\":\"e446d6b0-6781-49f2-bc28-8b344d8dad5a\",\"startTime\":1556410081614.8337,\"duration\":886.5244799999999,\"timezone\":-5},{\"id\":\"28bd2368-1177-40fa-8909-cf7359ad9fdc\",\"startTime\":1556410082792.7622,\"duration\":1026.07,\"timezone\":-5},{\"id\":\"a732f222-6c47-4c6c-82b4-9ae1eeb31f6d\",\"startTime\":1556410084019.942,\"duration\":5590.0293599999995,\"timezone\":-5},{\"id\":\"f9bc86d5-b85c-416d-8435-000e04a36f84\",\"startTime\":1556410090258.4475,\"duration\":751.08324,\"timezone\":-5},{\"id\":\"2d4c71b4-2335-43cb-aab0-5a405974ab39\",\"startTime\":1556410091502.0444,\"duration\":866.0030800000001,\"timezone\":-5},{\"id\":\"680a5fe9-9e4e-49c5-b2f9-eda53b500700\",\"startTime\":1556410092729.224,\"duration\":586.9120399999999,\"timezone\":-5},{\"id\":\"07093caf-f12f-4398-8994-b1fb03ad0eb1\",\"startTime\":1556410093989.238,\"duration\":619.74628,\"timezone\":-5},{\"id\":\"ef424a8c-e5cd-4196-8d68-0dd73785c68b\",\"startTime\":1556410094818.3025,\"duration\":1009.65288,\"timezone\":-5},{\"id\":\"0af633c4-5033-4767-afe5-9cbde91e05c9\",\"startTime\":1556410096546.2043,\"duration\":615.642,\"timezone\":-5},{\"id\":\"362797d2-b583-45e2-8e79-999868f9a7d6\",\"startTime\":1556410097818.5312,\"duration\":3123.3570799999998,\"timezone\":-5},{\"id\":\"3323d11d-c19f-4643-8c29-91c4426ac458\",\"startTime\":1556410101647.8245,\"duration\":570.49492,\"timezone\":-5},{\"id\":\"438d7453-a54a-47e7-b068-2c04a93b7977\",\"startTime\":1556410102965.2983,\"duration\":710.04044,\"timezone\":-5},{\"id\":\"8b6eabd2-4d61-4770-8ca3-5ab06cdefbb8\",\"startTime\":1556410104028.307,\"duration\":1181507.2921600014,\"timezone\":-5},{\"id\":\"3a8ecd74-11c1-44a3-a7e0-a5d141043323\",\"startTime\":1556411285535.6,\"duration\":1007375.0046,\"timezone\":-5},{\"id\":\"39488a64-316f-4508-9211-c92bdcbeec32\",\"startTime\":1556412293185.5916,\"duration\":211148.78888,\"timezone\":-5},{\"id\":\"c6bd8aa2-1f47-4f7c-b438-4e2827f1154b\",\"startTime\":1556412504564.2202,\"duration\":652.58052,\"timezone\":-5},{\"id\":\"ae5b02c3-5455-46fa-bbca-118b5576da38\",\"startTime\":1556412505479.4746,\"duration\":3402.44812,\"timezone\":-5},{\"id\":\"14c41523-190e-470e-abdd-8b3e7eb79722\",\"startTime\":1556412509275.9336,\"duration\":286700.37512,\"timezone\":-5},{\"id\":\"bf91c84b-4b12-4e9f-a279-21e7505a4628\",\"startTime\":1556412796382.6323,\"duration\":702238.20372,\"timezone\":-5},{\"id\":\"dcf34dfc-3587-4256-9d70-8452123d0d86\",\"startTime\":1556413498838.3628,\"duration\":5417.6496,\"timezone\":-5},{\"id\":\"40eb7ff9-596e-4e5c-843b-3c2c75ca8793\",\"startTime\":1556413504847.0288,\"duration\":558.18208,\"timezone\":-5},{\"id\":\"0de984ac-d029-4d22-8885-176d2fbc3540\",\"startTime\":1556413506004.4358,\"duration\":578.70348,\"timezone\":-5},{\"id\":\"05bcf682-91c9-49df-8c3c-d2d14f0ab5b3\",\"startTime\":1556413507026.4016,\"duration\":32756.258680000003,\"timezone\":-5},{\"id\":\"c91493a1-e145-427c-b06e-73c32ac8b43f\",\"startTime\":1556413540028.917,\"duration\":5310.93832,\"timezone\":-5},{\"id\":\"882a4370-9d31-421b-8ec7-804a3c74567b\",\"startTime\":1556413545807.7432,\"duration\":7527.249519999999,\"timezone\":-5},{\"id\":\"c3a74928-48ee-46fa-b76d-6175197a8776\",\"startTime\":1556413553659.2307,\"duration\":5167.28852,\"timezone\":-5},{\"id\":\"cd7a2c5c-3669-4e64-bdd5-713066c383eb\",\"startTime\":1556413559126.1316,\"duration\":3057.6886,\"timezone\":-5},{\"id\":\"541d0a31-40c0-4c54-a9c8-170000633d4e\",\"startTime\":1556413562610.6653,\"duration\":8036.180240000001,\"timezone\":-5},{\"id\":\"bc0b152a-b31c-4c15-9923-3ca61f6f4606\",\"startTime\":1556413570979.2922,\"duration\":49440.15688,\"timezone\":-5},{\"id\":\"728d2c73-2883-40dd-8d62-15ed46a2cde7\",\"startTime\":1556413620632.8716,\"duration\":8725.69928,\"timezone\":-5},{\"id\":\"8daff68e-fa2d-4cd4-8653-b751e4be986b\",\"startTime\":1556413629567.8892,\"duration\":12928.482,\"timezone\":-5},{\"id\":\"bc279d89-2c37-4a32-b308-6a7498828b78\",\"startTime\":1556413642771.358,\"duration\":8643.61368,\"timezone\":-5},{\"id\":\"d2a3605d-fd56-4ce0-9c4c-c8e860a8095d\",\"startTime\":1556413651673.5413,\"duration\":17127.16044,\"timezone\":-5},{\"id\":\"380afca3-9dad-425c-a22a-366b0bbc6eb1\",\"startTime\":1556413669005.9158,\"duration\":1900.28164,\"timezone\":-5},{\"id\":\"1efe85ab-fa09-466b-8458-0559e667bf02\",\"startTime\":1556413671201.7056,\"duration\":1213787.4543600003,\"timezone\":-5},{\"id\":\"a2bfbd85-8a4d-46b0-903c-db95737e3ee6\",\"startTime\":1556414884989.16,\"duration\":2419271.95028,\"timezone\":-5},{\"id\":\"1956d82c-f888-499d-ac5a-6abacdaaf41d\",\"startTime\":1556417304930.108,\"duration\":4449.03952,\"timezone\":-5},{\"id\":\"715eee1f-3bca-4d65-b2a0-087e0c8837f1\",\"startTime\":1556417309834.7224,\"duration\":1050.69568,\"timezone\":-5},{\"id\":\"986e07d4-1af1-4a12-b836-9ec3a4a51ce7\",\"startTime\":1556417311254.8032,\"duration\":623.8505600000001,\"timezone\":-5},{\"id\":\"d9ba0c3f-efed-4149-b0e7-9af0faeaf948\",\"startTime\":1556417312153.6406,\"duration\":2006.9929200000001,\"timezone\":-5},{\"id\":\"6e88e6d7-0111-4112-8ec1-bcfdea00c6a2\",\"startTime\":1556417314365.8477,\"duration\":143.6498,\"timezone\":-5},{\"id\":\"93542112-9996-4b23-8b81-7236031f34f1\",\"startTime\":1556417315170.2866,\"duration\":13659.04384,\"timezone\":-5},{\"id\":\"38850e95-7dd3-4c34-ae61-09d065ac6b08\",\"startTime\":1556417329174.09,\"duration\":582.80776,\"timezone\":-5},{\"id\":\"11669dc9-8406-434a-b148-a79b9b897d2e\",\"startTime\":1556417330450.5212,\"duration\":3094.62712,\"timezone\":-5},{\"id\":\"2182882d-2104-4fab-bd1d-261ed59677bb\",\"startTime\":1556417334263.3975,\"duration\":578.70348,\"timezone\":-5},{\"id\":\"aef874c2-d13a-4d38-bfd5-3ccfd064d021\",\"startTime\":1556417335318.1975,\"duration\":62643.625640000006,\"timezone\":-5},{\"id\":\"aed90e0c-a4c7-4092-a85e-21be998ed06f\",\"startTime\":1556417398589.778,\"duration\":554.0777999999999,\"timezone\":-5},{\"id\":\"d6071dd9-6239-4992-859b-8c0bffa82d04\",\"startTime\":1556417399624.0566,\"duration\":518194.07995999994,\"timezone\":-5},{\"id\":\"d9cdee74-2091-4bcd-9181-07eb583c5b17\",\"startTime\":1556417918466.6128,\"duration\":2195.7898,\"timezone\":-5},{\"id\":\"20cb2496-18f7-461a-84b9-134c29b6582f\",\"startTime\":1556417920875.8252,\"duration\":563566.89536,\"timezone\":-5},{\"id\":\"44b0e6b7-709e-4f67-aabb-a1cb6fff2865\",\"startTime\":1556418484442.72,\"duration\":517910.88463999995,\"timezone\":-5},{\"id\":\"5e167cb0-421d-4e9a-aed2-80ed82f3241e\",\"startTime\":1556419002961.038,\"duration\":381.69804,\"timezone\":-5},{\"id\":\"7ba5c9e6-6726-405c-b3a2-cc20e8f6ac4d\",\"startTime\":1556419003543.846,\"duration\":2786.80612,\"timezone\":-5},{\"id\":\"c9957737-6a0a-4794-9844-c936153c10b1\",\"startTime\":1556419006810.8528,\"duration\":701.83188,\"timezone\":-5},{\"id\":\"d12a19f2-6e67-4450-9127-de5326cbe202\",\"startTime\":1556419008218.6208,\"duration\":566.39064,\"timezone\":-5},{\"id\":\"e19a37b6-5828-49c9-88ac-abccb062552c\",\"startTime\":1556419009454.009,\"duration\":179480.1644,\"timezone\":-5},{\"id\":\"dad66e07-fd37-45af-9fce-1944f8a64a6a\",\"startTime\":1556419189278.9329,\"duration\":636.1634,\"timezone\":-5},{\"id\":\"3a49efdc-0924-4671-8e75-b91456031cb3\",\"startTime\":1556419190592.3025,\"duration\":619.74628,\"timezone\":-5},{\"id\":\"a1de41b6-eca8-48ea-8187-26b8211d286c\",\"startTime\":1556419191667.6238,\"duration\":2080.86996,\"timezone\":-5},{\"id\":\"11a0aca2-a181-4ce4-9e90-d21fba87d0b8\",\"startTime\":1556419194273.8416,\"duration\":816.75172,\"timezone\":-5},{\"id\":\"8703f9d5-ee57-41e9-95fd-c396ab94c291\",\"startTime\":1556419195533.8555,\"duration\":1789.46608,\"timezone\":-5},{\"id\":\"03426241-79e8-4729-8b7b-15b91a7eb339\",\"startTime\":1556419198025.1533,\"duration\":250.36108000000002,\"timezone\":-5},{\"id\":\"125187e2-c05f-441c-8730-edf0f8fac213\",\"startTime\":1556419198525.8755,\"duration\":1473.43652,\"timezone\":-5},{\"id\":\"db443f38-c3a5-43f5-a74e-a47646e0a41b\",\"startTime\":1556419200463.0957,\"duration\":18448.738599999997,\"timezone\":-5},{\"id\":\"a7db8c75-10cb-466c-8677-9c41688ce159\",\"startTime\":1556419219170.404,\"duration\":287.2996,\"timezone\":-5},{\"id\":\"be401c12-4c74-4caf-a3c0-2a11ed3cacb8\",\"startTime\":1556419219662.9177,\"duration\":1050.69568,\"timezone\":-5},{\"id\":\"a5e01bf4-bae9-4800-b491-92042bef4597\",\"startTime\":1556419220984.4958,\"duration\":1415.9766,\"timezone\":-5},{\"id\":\"15886b45-954e-465c-bb20-0f8e87805818\",\"startTime\":1556419222675.4592,\"duration\":508.93071999999995,\"timezone\":-5},{\"id\":\"df17ba40-7efe-4119-bd91-286040c11208\",\"startTime\":1556419223393.7083,\"duration\":1099.94704,\"timezone\":-5},{\"id\":\"2842a441-9d90-4d64-a50a-56a4678d600e\",\"startTime\":1556419224698.8694,\"duration\":2552.86216,\"timezone\":-5},{\"id\":\"e0317ab4-c127-481f-90a3-b8fb4dab11bf\",\"startTime\":1556419227592.3867,\"duration\":640.26768,\"timezone\":-5},{\"id\":\"af4ba7a1-011b-4b12-851d-52659fc48587\",\"startTime\":1556419228433.7642,\"duration\":1342.09956,\"timezone\":-5},{\"id\":\"71d18242-e1e2-4979-ae1b-5b9d40b57b79\",\"startTime\":1556419230366.8801,\"duration\":627.95484,\"timezone\":-5},{\"id\":\"f916dbc2-9e04-4262-9454-f0d352c1d270\",\"startTime\":1556419231257.5088,\"duration\":5799.34764,\"timezone\":-5},{\"id\":\"90f9932d-1f19-461d-89e0-4fdee3e39840\",\"startTime\":1556419237697.124,\"duration\":599.22488,\"timezone\":-5},{\"id\":\"17fa19ef-d17a-418c-a093-a53dd81232cb\",\"startTime\":1556419238895.5737,\"duration\":627.95484,\"timezone\":-5},{\"id\":\"11435d2a-1c0f-4797-ad20-f191f498efcb\",\"startTime\":1556419240126.8577,\"duration\":558.18208,\"timezone\":-5},{\"id\":\"dfb81eb0-11a9-410f-9bf1-2e4a682a2724\",\"startTime\":1556419241120.0935,\"duration\":17262.60168,\"timezone\":-5},{\"id\":\"561bd5bb-1b47-476a-8e7f-a06646489b66\",\"startTime\":1556419258653.5776,\"duration\":2589.8006800000003,\"timezone\":-5},{\"id\":\"f2952f23-e67f-4a9b-b31b-7355e8bc087c\",\"startTime\":1556419261633.285,\"duration\":1953.63728,\"timezone\":-5},{\"id\":\"5fd7e4b9-16a0-41c1-866b-9d7998689a41\",\"startTime\":1556419263927.5774,\"duration\":3455.80376,\"timezone\":-5},{\"id\":\"57f71406-cf29-4940-b7bd-599a4c77cc4a\",\"startTime\":1556419267933.3547,\"duration\":32932.74272,\"timezone\":-5},{\"id\":\"07cad473-67e2-4d3b-8c98-13f163097614\",\"startTime\":1556419301182.127,\"duration\":1089801.25984,\"timezone\":-5},{\"id\":\"1e193f55-5f83-467b-a340-688ac0ba2247\",\"startTime\":1556420391627.7588,\"duration\":200132.90136000002,\"timezone\":-5},{\"id\":\"0eb936d7-78fc-4b0c-9025-94a6cb5af898\",\"startTime\":1556420592060.2727,\"duration\":1491836.0072399986,\"timezone\":-5},{\"id\":\"8f96a22d-a124-4bab-b706-9b677950a54d\",\"startTime\":1556422083896.28,\"duration\":440270.21988,\"timezone\":-5},{\"id\":\"c753f9eb-ff10-426a-bb80-506109558e69\",\"startTime\":1556422524905.2703,\"duration\":229.83968,\"timezone\":-5},{\"id\":\"989da8e6-b1e4-4737-aa07-0fd91d7002a4\",\"startTime\":1556422525434.7224,\"duration\":61.5642,\"timezone\":-5},{\"id\":\"5cfb5970-1f90-409e-b1bd-6be11c7751ea\",\"startTime\":1556422526194.0142,\"duration\":279.09104,\"timezone\":-5},{\"id\":\"0d6535af-8ada-41e8-97ef-4b2de75dd32a\",\"startTime\":1556422526719.362,\"duration\":1707.38048,\"timezone\":-5},{\"id\":\"d17a580a-9e86-4bc2-b487-07b0bc32e341\",\"startTime\":1556422528709.9377,\"duration\":369.3852,\"timezone\":-5},{\"id\":\"bf784169-7997-4309-a501-c1dc82c5bca1\",\"startTime\":1556422529378.9353,\"duration\":492.5136,\"timezone\":-5},{\"id\":\"e482e0ab-bdb6-4239-b592-1ec523e4a8fe\",\"startTime\":1556422530162.8528,\"duration\":726.45756,\"timezone\":-5},{\"id\":\"b57f1e3f-15d3-46d6-b5e3-d774a7ec5fcd\",\"startTime\":1556422531422.8667,\"duration\":225.7354,\"timezone\":-5},{\"id\":\"c6b7e0d2-a168-4b25-adb9-05da266525a1\",\"startTime\":1556422531940.0059,\"duration\":443.26223999999996,\"timezone\":-5},{\"id\":\"c06e104a-d027-4a6d-af6d-262a0fede5ef\",\"startTime\":1556422532695.1934,\"duration\":972.71436,\"timezone\":-5},{\"id\":\"f361467b-242e-411a-8204-bf46cdf33eac\",\"startTime\":1556422533955.2073,\"duration\":283.19532,\"timezone\":-5},{\"id\":\"5ab16adc-7c4a-4e98-bb81-b8ad3f383c1c\",\"startTime\":1556422534521.598,\"duration\":295.50816000000003,\"timezone\":-5},{\"id\":\"c0b1e556-0926-499b-ab9a-465f4189beeb\",\"startTime\":1556422535108.51,\"duration\":2454.35944,\"timezone\":-5},{\"id\":\"32a03a8b-fba8-4990-a35d-fab27f7ccbcc\",\"startTime\":1556422537846.0647,\"duration\":103251.37196,\"timezone\":-5},{\"id\":\"cad30554-9624-4dd8-8435-d0d0d0750a7b\",\"startTime\":1556422641298.5464,\"duration\":229.83968,\"timezone\":-5},{\"id\":\"9b7a02d0-6ce3-4987-b76e-c130115fbc9a\",\"startTime\":1556422641733.6,\"duration\":131.33696,\"timezone\":-5},{\"id\":\"708c4e5a-f97b-4d8d-86c1-af2bc997454c\",\"startTime\":1556422642336.9292,\"duration\":8.20856,\"timezone\":-5},{\"id\":\"f3272a83-700d-439f-9ddd-d9aa48058698\",\"startTime\":1556422642652.9587,\"duration\":1210.7626,\"timezone\":-5},{\"id\":\"2e5e88f1-dd10-49ac-9a85-5f0c5778dbb6\",\"startTime\":1556422644068.9353,\"duration\":46817.52196,\"timezone\":-5},{\"id\":\"14d8b8da-62c1-4f12-855b-1787cc892247\",\"startTime\":1556422691194.2783,\"duration\":41.0428,\"timezone\":-5},{\"id\":\"68e2c933-7f2d-44ad-bc6e-65b687239ab1\",\"startTime\":1556422691900.2146,\"duration\":217.52684,\"timezone\":-5},{\"id\":\"d21ff60b-4cb9-433c-9ff9-27c5e72d69a0\",\"startTime\":1556422692400.9368,\"duration\":1752.52756,\"timezone\":-5},{\"id\":\"85baa14d-3248-469f-89a0-556740d87768\",\"startTime\":1556422694461.2854,\"duration\":21239.649,\"timezone\":-5},{\"id\":\"c28314f9-a080-4f9e-9291-d3db1b208c2a\",\"startTime\":1556422716115.4668,\"duration\":640.26768,\"timezone\":-5},{\"id\":\"b997d032-28b4-4304-92b0-57a1940f01e9\",\"startTime\":1556422717453.4622,\"duration\":3250.58976,\"timezone\":-5},{\"id\":\"7fcc340b-0e58-4d69-be0d-a0e605a66b2f\",\"startTime\":1556422721089.8542,\"duration\":2962259.9857199993,\"timezone\":-5},{\"id\":\"f17e5fb7-11da-4200-9968-7db8ba5964a8\",\"startTime\":1556425683349.84,\"duration\":3599453.56,\"timezone\":-5},{\"id\":\"8571557f-577b-4e5b-bc20-6eacab3dee36\",\"startTime\":1556429282803.4,\"duration\":884841.7252,\"timezone\":-5},{\"id\":\"3c5d1950-52b2-421e-9271-2f8d51c7d2ad\",\"startTime\":1556430167932.4248,\"duration\":2714324.5352,\"timezone\":-5},{\"id\":\"297406ea-c5de-4a47-86d5-c6ca3bc3bfa7\",\"startTime\":1556432882256.96,\"duration\":3599453.56,\"timezone\":-5},{\"id\":\"41c2f0ac-f869-435c-a2de-c28f5b0767be\",\"startTime\":1556436481710.52,\"duration\":2511043.65108,\"timezone\":-5},{\"id\":\"5865f88a-644d-4915-8e26-b9105645e7bc\",\"startTime\":1556438993008.6365,\"duration\":37307.9052,\"timezone\":-5},{\"id\":\"19792bbb-131f-421a-b02e-6408227c2029\",\"startTime\":1556439030521.7556,\"duration\":10646.50232,\"timezone\":-5},{\"id\":\"21ee4568-7246-459e-8dfe-bbf25cc43352\",\"startTime\":1556439041504.8088,\"duration\":734.66612,\"timezone\":-5},{\"id\":\"0d7aefda-edb4-46e6-8a13-51eb1c08aa95\",\"startTime\":1556439042707.3628,\"duration\":12829.97928,\"timezone\":-5},{\"id\":\"aca23cca-8200-4892-8c3c-c651a99a5e76\",\"startTime\":1556439055812.3289,\"duration\":3065.89716,\"timezone\":-5},{\"id\":\"b63148c1-e0ac-4c4a-968e-e4aabbe74200\",\"startTime\":1556439059112.17,\"duration\":915.25444,\"timezone\":-5},{\"id\":\"cc7d5f2d-fb8e-4e06-a91c-155b0c032618\",\"startTime\":1556439060228.5342,\"duration\":38674.63044,\"timezone\":-5},{\"id\":\"3422de5b-751c-4c34-bb81-6c0811287c05\",\"startTime\":1556439099120.6914,\"duration\":25015.5866,\"timezone\":-5},{\"id\":\"0349b4d1-451b-4cad-a29c-26ebc8bf24a2\",\"startTime\":1556439124522.0803,\"duration\":1017.8614399999999,\"timezone\":-5},{\"id\":\"108a8617-b3eb-4ca2-9571-fd1db12e25e6\",\"startTime\":1556439125831.3457,\"duration\":849.58596,\"timezone\":-5},{\"id\":\"a5824709-58b1-4a3f-88d4-856a519404c7\",\"startTime\":1556439127029.7954,\"duration\":759.2918,\"timezone\":-5},{\"id\":\"758557c5-c812-4563-911e-9cccdb31b7fa\",\"startTime\":1556439128072.2825,\"duration\":541.76496,\"timezone\":-5},{\"id\":\"d54faedb-1d49-4584-b4c3-5a4db421321b\",\"startTime\":1556439129254.3152,\"duration\":40558.494959999996,\"timezone\":-5},{\"id\":\"77ada5c3-3afa-41e3-85c1-d9640886ac1b\",\"startTime\":1556439170194.5083,\"duration\":558.18208,\"timezone\":-5},{\"id\":\"38adbb1f-9131-4012-aeb9-5c86304f414d\",\"startTime\":1556439170966.113,\"duration\":898.8373200000001,\"timezone\":-5},{\"id\":\"cf58d316-f431-42df-be8b-fb6756d171f9\",\"startTime\":1556439172086.5815,\"duration\":16761.879520000002,\"timezone\":-5},{\"id\":\"3fe61c9c-43f1-4b8d-a3b4-c5d658d35f26\",\"startTime\":1556439189102.9265,\"duration\":558.18208,\"timezone\":-5},{\"id\":\"1c59bea0-2f4a-4f53-b1c9-61302a7d5223\",\"startTime\":1556439189866.3225,\"duration\":3661.01776,\"timezone\":-5},{\"id\":\"8bce893a-6fba-4571-80d1-18e48d74671b\",\"startTime\":1556439193728.45,\"duration\":1822.30032,\"timezone\":-5},{\"id\":\"74ace994-cbed-4333-89eb-3ce201bcd9e3\",\"startTime\":1556439195764.1729,\"duration\":4215.09556,\"timezone\":-5},{\"id\":\"f784c419-b9c1-43c0-9e7b-63beef30cbe0\",\"startTime\":1556439200213.2124,\"duration\":722.35328,\"timezone\":-5},{\"id\":\"63bf40c0-ba2a-4957-8d78-379d2e9568f8\",\"startTime\":1556439201181.8225,\"duration\":1797.6746400000002,\"timezone\":-5},{\"id\":\"82288891-a08e-46ec-a567-a232350dc3fe\",\"startTime\":1556439203529.4707,\"duration\":554.0777999999999,\"timezone\":-5},{\"id\":\"3a5c3a57-e7ea-449b-bdee-96f11373fb3e\",\"startTime\":1556439204436.5166,\"duration\":876727.5636400001,\"timezone\":-5},{\"id\":\"86bd2d70-9944-42b6-a170-7bcd42f96af1\",\"startTime\":1556440081164.08,\"duration\":732302.05472,\"timezone\":-5},{\"id\":\"a381f508-97cf-40f5-bd03-5eee33305f21\",\"startTime\":1556440813724.7043,\"duration\":4.10428,\"timezone\":-5},{\"id\":\"f905a44a-07a3-413d-bb09-bc252475a1c1\",\"startTime\":1556440814057.1511,\"duration\":623.8505600000001,\"timezone\":-5},{\"id\":\"a479f53e-0dd4-452e-aea8-181b6e4487b8\",\"startTime\":1556440815148.8896,\"duration\":69440.31332,\"timezone\":-5},{\"id\":\"bd4fe789-1730-44c3-873f-9dd8356f822c\",\"startTime\":1556440884929.8582,\"duration\":566.39064,\"timezone\":-5},{\"id\":\"7ffe877d-4032-4697-acbc-0dac939a5263\",\"startTime\":1556440886341.7305,\"duration\":619.74628,\"timezone\":-5},{\"id\":\"5cff4165-543a-4a0a-ab35-ff4300a1435e\",\"startTime\":1556440887601.7444,\"duration\":1929.0116,\"timezone\":-5},{\"id\":\"29f6db12-bc7e-4c09-a2af-7eec648672dd\",\"startTime\":1556440889740.0742,\"duration\":90.29416,\"timezone\":-5},{\"id\":\"e2d7cef8-7831-4666-a197-6f56a8c11859\",\"startTime\":1556440890712.7886,\"duration\":2450.25516,\"timezone\":-5},{\"id\":\"762f4cf9-04f9-4ccd-90d3-48c76374ed2c\",\"startTime\":1556440893873.0842,\"duration\":385.80231999999995,\"timezone\":-5},{\"id\":\"48c817f0-5b64-4e91-91a1-5f84db2f1177\",\"startTime\":1556440895022.2827,\"duration\":1370295.9636000001,\"timezone\":-5},{\"id\":\"847ca463-7c1a-49fa-bf06-1ed50ac3e4b2\",\"startTime\":1556442265605.546,\"duration\":86427.92824,\"timezone\":-5},{\"id\":\"5a78f750-bd53-4be8-abbc-be8cb65e0334\",\"startTime\":1556442352304.3567,\"duration\":385.80231999999995,\"timezone\":-5},{\"id\":\"004b1f9a-2f4d-4661-a629-fa41147c0419\",\"startTime\":1556442353178.5684,\"duration\":6176.9414,\"timezone\":-5},{\"id\":\"41f64741-a65f-45ca-8a09-a59c7d5d0cab\",\"startTime\":1556442360081.9673,\"duration\":283.19532,\"timezone\":-5},{\"id\":\"0f5c4e3f-669a-456f-a625-b7dd50dae427\",\"startTime\":1556442360627.8364,\"duration\":110.81555999999999,\"timezone\":-5},{\"id\":\"8fc71a31-caa7-4daa-88df-5a21ff06cc24\",\"startTime\":1556442361514.3608,\"duration\":554.0777999999999,\"timezone\":-5},{\"id\":\"7f1d811c-c40b-473c-9fa0-dfcdb38d33eb\",\"startTime\":1556442362277.7568,\"duration\":73.87704000000001,\"timezone\":-5},{\"id\":\"63111d42-eb57-4182-804d-2ac5f2567e55\",\"startTime\":1556442362770.2705,\"duration\":1317847.3694799999,\"timezone\":-5},{\"id\":\"b0b59023-9697-4a0c-b05b-4686f540852f\",\"startTime\":1556550498004.1042,\"duration\":3599449.45572,\"timezone\":-5},{\"id\":\"0833e429-9509-443c-95f1-c8c3a4bcf60c\",\"startTime\":1556554097453.56,\"duration\":3599453.56,\"timezone\":-5},{\"id\":\"98db0ca8-2a7a-4fc5-97be-184ba907dc91\",\"startTime\":1556557696907.12,\"duration\":2002888.64,\"timezone\":-5}],\"channels\":[{\"id\":\"f508fe2c-f67c-47c9-b02f-3161b9640995\",\"name\":\"emg\",\"channelType\":{\"name\":\"Generic\",\"category\":\"generic\"}}]},{\"id\":\"f76e41a8-9274-438a-8e83-2a33f08d5231\",\"name\":\"Empatica-ACC\",\"sampleRate\":128,\"samplesPerRecord\":1000,\"recordLength\":7.8125,\"chunkPeriod\":78.125,\"recordsPerChunk\":10,\"sampleEncoding\":\"int16\",\"compression\":\"gzip\",\"signalMin\":-128,\"signalMax\":182.3774,\"units\":\"\",\"exponent\":9,\"timestamped\":false,\"channelGroupType\":{\"id\":\"generic\"},\"segments\":[{\"id\":\"3d31ea9a-cb1e-4217-a3af-3cd769501a2f\",\"startTime\":1556307768000,\"duration\":3593750,\"timezone\":-5},{\"id\":\"366fd8b1-2024-4870-8ef7-0879c33a6fe8\",\"startTime\":1556311361750,\"duration\":3593750,\"timezone\":-5},{\"id\":\"009d6f59-fd37-4a34-b462-e78ef528736d\",\"startTime\":1556314955500,\"duration\":3593750,\"timezone\":-5},{\"id\":\"3da3479b-cc87-4500-a251-b79c72026c59\",\"startTime\":1556318549250,\"duration\":3593750,\"timezone\":-5},{\"id\":\"128367d2-bd23-4ff1-9dce-816c407fe324\",\"startTime\":1556322143000,\"duration\":3593750,\"timezone\":-5},{\"id\":\"3d8033b0-1dc1-418b-94d1-07394b8de35d\",\"startTime\":1556325736750,\"duration\":3593750,\"timezone\":-5},{\"id\":\"a79a0a9a-7839-4996-a9c9-bf9b058e08fd\",\"startTime\":1556329330500,\"duration\":3593750,\"timezone\":-5},{\"id\":\"de2f8774-b63f-491e-abde-0f63c4351b67\",\"startTime\":1556332924250,\"duration\":3593750,\"timezone\":-5},{\"id\":\"dc48c9df-204c-401f-904d-a03b6cfa900c\",\"startTime\":1556336518000,\"duration\":3593750,\"timezone\":-5},{\"id\":\"c8c4bf2f-9e1a-4de6-a559-c10b0f5e0126\",\"startTime\":1556340111750,\"duration\":3593750,\"timezone\":-5},{\"id\":\"8cbd0c61-08af-46ee-9d0b-26d88844971d\",\"startTime\":1556343705500,\"duration\":3593750,\"timezone\":-5},{\"id\":\"7917ed5e-495d-4995-837b-5845aedd0797\",\"startTime\":1556347299250,\"duration\":3593750,\"timezone\":-5},{\"id\":\"db046708-0bd9-49f6-b39c-233396063ef1\",\"startTime\":1556350893000,\"duration\":3593750,\"timezone\":-5},{\"id\":\"1fe4871d-a98d-4ed6-a414-a336abcd1343\",\"startTime\":1556354486750,\"duration\":3593750,\"timezone\":-5},{\"id\":\"fe56ccba-25ff-41bd-be4d-685fc79e54b8\",\"startTime\":1556358080500,\"duration\":3593750,\"timezone\":-5},{\"id\":\"9be31882-653d-4b96-baa9-691951fa58c4\",\"startTime\":1556361674250,\"duration\":3593750,\"timezone\":-5},{\"id\":\"63b658c3-a68d-4b67-996e-9ac5f6dced8a\",\"startTime\":1556365268000,\"duration\":3593750,\"timezone\":-5},{\"id\":\"1a4ea8c2-b923-4562-9c9d-256432b35e77\",\"startTime\":1556368861750,\"duration\":3593750,\"timezone\":-5},{\"id\":\"f020cdc6-628b-43cb-9d77-65c0ce4f4074\",\"startTime\":1556372455500,\"duration\":3593750,\"timezone\":-5},{\"id\":\"8ccc58a1-5474-48d3-aa5b-9ecdb517209c\",\"startTime\":1556376049250,\"duration\":3593750,\"timezone\":-5},{\"id\":\"d72e1e1f-d798-4f65-8ac8-0d682b6766c8\",\"startTime\":1556379643000,\"duration\":3593750,\"timezone\":-5},{\"id\":\"6d6d68b2-627d-4fb3-b9df-b3d8bbcd87a5\",\"startTime\":1556383236750,\"duration\":3593750,\"timezone\":-5},{\"id\":\"9624f309-771f-40f2-bc62-24a3a4b06e79\",\"startTime\":1556386830500,\"duration\":3593750,\"timezone\":-5},{\"id\":\"a3c77983-cba8-4785-9c41-40703d8644f9\",\"startTime\":1556390424250,\"duration\":3593750,\"timezone\":-5},{\"id\":\"07d045a9-025b-4298-9b3e-d2cf0f55e928\",\"startTime\":1556394018000,\"duration\":3593750,\"timezone\":-5},{\"id\":\"86d744ac-70d5-4620-898b-1ac842d45ba8\",\"startTime\":1556397611750,\"duration\":3593750,\"timezone\":-5},{\"id\":\"5e9ae2aa-c697-4cf4-9f1a-141585da7b94\",\"startTime\":1556401205500,\"duration\":3593750,\"timezone\":-5},{\"id\":\"57fe37d2-3bfc-438d-83cf-ea1e04f5f4b6\",\"startTime\":1556404799250,\"duration\":3593750,\"timezone\":-5},{\"id\":\"40f37301-4418-4330-9ec7-24ecbdf0f017\",\"startTime\":1556408393000,\"duration\":3593750,\"timezone\":-5},{\"id\":\"a38efdfc-c83d-460e-936a-76cc2bee8261\",\"startTime\":1556411986750,\"duration\":3593750,\"timezone\":-5},{\"id\":\"568226ea-64ca-4038-9264-bcb41d27844f\",\"startTime\":1556415580500,\"duration\":3593750,\"timezone\":-5},{\"id\":\"7b28f5cc-ccc6-49f2-9941-4e70b011bdab\",\"startTime\":1556419174250,\"duration\":3593750,\"timezone\":-5},{\"id\":\"7ee4b417-8918-44d2-9989-ab49e46f735d\",\"startTime\":1556422768000,\"duration\":3593750,\"timezone\":-5},{\"id\":\"3b0920eb-41a4-4994-b9f6-01b1ff46d082\",\"startTime\":1556426361750,\"duration\":3593750,\"timezone\":-5},{\"id\":\"5d03ec84-8869-46d4-8283-0d836e353eb8\",\"startTime\":1556429955500,\"duration\":3593750,\"timezone\":-5},{\"id\":\"59770cbb-391b-43a4-a56a-da0b5ad7ca2a\",\"startTime\":1556433549250,\"duration\":3593750,\"timezone\":-5},{\"id\":\"8b9c2cdd-b74b-4467-915f-acab81bb97f4\",\"startTime\":1556437143000,\"duration\":3593750,\"timezone\":-5},{\"id\":\"7b622650-f783-4193-a351-b6f4ca148f6f\",\"startTime\":1556440736750,\"duration\":3593750,\"timezone\":-5},{\"id\":\"f64c7633-9579-4d2d-bf2a-fe1644b97cb0\",\"startTime\":1556444330500,\"duration\":3593750,\"timezone\":-5},{\"id\":\"209cbab9-8bd0-44b2-ade3-85133b513cbd\",\"startTime\":1556447924250,\"duration\":3593750,\"timezone\":-5},{\"id\":\"456f76d5-04e4-4612-935d-b69cf536f6fe\",\"startTime\":1556451518000,\"duration\":3593750,\"timezone\":-5},{\"id\":\"624c7c27-481b-4d6b-b98a-52bc135b572f\",\"startTime\":1556455111750,\"duration\":3593750,\"timezone\":-5},{\"id\":\"d349fe1e-1599-4c5d-a9d6-0292e835177a\",\"startTime\":1556458705500,\"duration\":3593750,\"timezone\":-5},{\"id\":\"fe4d6ec2-20a2-4571-b0b8-9765c2a67571\",\"startTime\":1556462299250,\"duration\":3593750,\"timezone\":-5},{\"id\":\"31659f25-1ae6-4211-bb46-9ee5e3f2d7ad\",\"startTime\":1556465893000,\"duration\":46875,\"timezone\":-5},{\"id\":\"30bf2814-bd10-434d-b267-0e64eba78f1a\",\"startTime\":1556466001000,\"duration\":3593750,\"timezone\":-5},{\"id\":\"9342746e-7d5c-4200-a221-a0c188a2ba91\",\"startTime\":1556469594750,\"duration\":3593750,\"timezone\":-5},{\"id\":\"2412187c-0413-4038-95b5-5ca9817612f8\",\"startTime\":1556473188500,\"duration\":3593750,\"timezone\":-5},{\"id\":\"30db94ff-173b-4ded-b26a-563139fd6ee3\",\"startTime\":1556476782250,\"duration\":3593750,\"timezone\":-5},{\"id\":\"e8e10cc7-0986-407a-91d5-4605df2b8a60\",\"startTime\":1556480376000,\"duration\":3593750,\"timezone\":-5},{\"id\":\"851629fb-6c89-4b27-83bf-a2162620e09f\",\"startTime\":1556483969750,\"duration\":3593750,\"timezone\":-5},{\"id\":\"7c21ab8b-b7bb-4ca9-8af8-01dac1d735f7\",\"startTime\":1556487563500,\"duration\":3593750,\"timezone\":-5},{\"id\":\"f6c36916-3c13-4dfa-92bc-d50caae8fb30\",\"startTime\":1556491157250,\"duration\":3593750,\"timezone\":-5},{\"id\":\"8c36bd06-3be5-49cf-9460-6c816ee4c369\",\"startTime\":1556494751000,\"duration\":3593750,\"timezone\":-5},{\"id\":\"f0015880-015d-411a-9191-4b1476e66b61\",\"startTime\":1556498344750,\"duration\":3593750,\"timezone\":-5},{\"id\":\"a648d53b-cb0b-47a3-a7aa-d31e63aa2ec7\",\"startTime\":1556501938500,\"duration\":3593750,\"timezone\":-5},{\"id\":\"fe3d1ced-b7a2-4ff2-bc53-4e38b7e16a88\",\"startTime\":1556505532250,\"duration\":3593750,\"timezone\":-5},{\"id\":\"384fd4ed-423d-43cc-b38d-39c3d6cce6c1\",\"startTime\":1556509126000,\"duration\":3593750,\"timezone\":-5},{\"id\":\"17f4bab4-4e7f-41c1-96bc-d580c6c69900\",\"startTime\":1556512719750,\"duration\":3593750,\"timezone\":-5},{\"id\":\"4e9a6c2b-1ab9-437c-8291-3b91ff061b7f\",\"startTime\":1556516313500,\"duration\":3593750,\"timezone\":-5},{\"id\":\"411d78ab-891c-4e9e-befe-6f57d6f79c64\",\"startTime\":1556519907250,\"duration\":3593750,\"timezone\":-5},{\"id\":\"4bbe74b8-ffd4-4564-b9a3-39b7031703ae\",\"startTime\":1556523501000,\"duration\":3593750,\"timezone\":-5},{\"id\":\"d3f35929-4bb5-46e0-9020-35060356f22e\",\"startTime\":1556527094750,\"duration\":3593750,\"timezone\":-5},{\"id\":\"55cc9aef-d0d6-4aff-92a0-53fef227c963\",\"startTime\":1556530688500,\"duration\":3593750,\"timezone\":-5},{\"id\":\"6943c6bf-df50-40e6-be33-ff0e74167fe0\",\"startTime\":1556534282250,\"duration\":3593750,\"timezone\":-5},{\"id\":\"253e8ca0-5226-4752-b79a-cc81e1e356d9\",\"startTime\":1556537876000,\"duration\":3593750,\"timezone\":-5},{\"id\":\"49949383-0c8a-4ce9-8c90-2f43540bbc81\",\"startTime\":1556541469750,\"duration\":3593750,\"timezone\":-5},{\"id\":\"6e7e02ea-c6f0-4168-911b-81815c5d2a62\",\"startTime\":1556545063500,\"duration\":3593750,\"timezone\":-5},{\"id\":\"6a2b8ef9-7470-4dd6-b93c-060b288ca2cf\",\"startTime\":1556548657250,\"duration\":3593750,\"timezone\":-5},{\"id\":\"c591d5e6-8291-4edf-858a-5a99be16ef1d\",\"startTime\":1556552251000,\"duration\":3593750,\"timezone\":-5},{\"id\":\"57e58db4-f474-4f4e-afda-f7249afce0fe\",\"startTime\":1556555844750,\"duration\":3593750,\"timezone\":-5},{\"id\":\"aa478348-6783-42a6-a9d6-53adb13f34e2\",\"startTime\":1556559438500,\"duration\":164062.5,\"timezone\":-5}],\"channels\":[{\"id\":\"d26bda4a-7ff8-438a-aa31-5a707d8cef49\",\"name\":\"Acc x\",\"channelType\":{\"name\":\"Generic\",\"category\":\"generic\"}},{\"id\":\"39b551f3-53da-40ad-9396-9962e8f8714f\",\"name\":\"Acc y\",\"channelType\":{\"name\":\"Generic\",\"category\":\"generic\"}},{\"id\":\"73e31d9d-9753-42be-b493-62f59ee8976e\",\"name\":\"Acc z\",\"channelType\":{\"name\":\"Generic\",\"category\":\"generic\"}},{\"id\":\"3bd3b00b-2d38-4702-b93d-7af031828b6a\",\"name\":\"Acc Mag\",\"channelType\":{\"name\":\"Generic\",\"category\":\"generic\"}}]},{\"id\":\"56bb5dd0-fbcc-4dec-a0e3-25823ce0cb65\",\"name\":\"Empatica-BVP\",\"sampleRate\":128,\"samplesPerRecord\":1000,\"recordLength\":7.8125,\"chunkPeriod\":78.125,\"recordsPerChunk\":10,\"sampleEncoding\":\"int16\",\"compression\":\"gzip\",\"signalMin\":-3296.39,\"signalMax\":3943.472,\"units\":\"\",\"exponent\":9,\"timestamped\":false,\"channelGroupType\":{\"id\":\"generic\"},\"segments\":[{\"id\":\"b2b478fd-62f0-4533-ba0e-b7486188877b\",\"startTime\":1556307768000,\"duration\":3593750,\"timezone\":-5},{\"id\":\"0bdca2ae-e25b-428d-ac72-6196d716767f\",\"startTime\":1556311361750,\"duration\":3593750,\"timezone\":-5},{\"id\":\"fdc3358b-8159-4988-a181-89ee24d76d4f\",\"startTime\":1556314955500,\"duration\":3593750,\"timezone\":-5},{\"id\":\"d3f328e6-6d13-498f-85db-42187168eea3\",\"startTime\":1556318549250,\"duration\":3593750,\"timezone\":-5},{\"id\":\"f2586c51-5508-4418-9f3b-25bdd03ad51e\",\"startTime\":1556322143000,\"duration\":3593750,\"timezone\":-5},{\"id\":\"4a892e4c-7582-4011-a130-68208655d151\",\"startTime\":1556325736750,\"duration\":3593750,\"timezone\":-5},{\"id\":\"d41c27b5-b101-455c-8546-1302ab6622d2\",\"startTime\":1556329330500,\"duration\":3593750,\"timezone\":-5},{\"id\":\"4a9b7ce6-2a13-4b84-ae78-ad8a55531a58\",\"startTime\":1556332924250,\"duration\":3593750,\"timezone\":-5},{\"id\":\"a2470d08-5b6d-4daa-8d30-29d424677884\",\"startTime\":1556336518000,\"duration\":3593750,\"timezone\":-5},{\"id\":\"e0a8e61f-c8c6-415e-aa9b-402809e2a6c0\",\"startTime\":1556340111750,\"duration\":3593750,\"timezone\":-5},{\"id\":\"06004d4e-9e4e-4889-80b5-b46de224ec71\",\"startTime\":1556343705500,\"duration\":3593750,\"timezone\":-5},{\"id\":\"412d6566-3d4f-40dc-9169-885bf2452eb6\",\"startTime\":1556347299250,\"duration\":3593750,\"timezone\":-5},{\"id\":\"8f61311f-f8a3-428b-933c-03f93b84ab65\",\"startTime\":1556350893000,\"duration\":3593750,\"timezone\":-5},{\"id\":\"f66d4a8e-2c3e-4715-9c23-510fc4879ede\",\"startTime\":1556354486750,\"duration\":3593750,\"timezone\":-5},{\"id\":\"789f54eb-10a8-4ced-a5cf-bd1af3353bc9\",\"startTime\":1556358080500,\"duration\":3593750,\"timezone\":-5},{\"id\":\"19982ec2-99f0-4b13-aa30-171df674a03b\",\"startTime\":1556361674250,\"duration\":3593750,\"timezone\":-5},{\"id\":\"96bbf39e-11e1-4b92-9ea7-89d3d113ef61\",\"startTime\":1556365268000,\"duration\":3593750,\"timezone\":-5},{\"id\":\"906f8ee5-bd21-48c7-ad0c-9ffc49a83bbd\",\"startTime\":1556368861750,\"duration\":3593750,\"timezone\":-5},{\"id\":\"abac2937-5d4d-4fbd-adc3-8877ae626943\",\"startTime\":1556372455500,\"duration\":3593750,\"timezone\":-5},{\"id\":\"a7a2c179-163f-42ff-894f-300861a9c96d\",\"startTime\":1556376049250,\"duration\":3593750,\"timezone\":-5},{\"id\":\"b23a7f0f-320c-4ffd-a0e9-7d4250acb5ef\",\"startTime\":1556379643000,\"duration\":3593750,\"timezone\":-5},{\"id\":\"742714ad-e3bd-427a-81c4-302e74c0f729\",\"startTime\":1556383236750,\"duration\":3593750,\"timezone\":-5},{\"id\":\"32c4025a-b706-4974-917d-1ab026c85d1a\",\"startTime\":1556386830500,\"duration\":3593750,\"timezone\":-5},{\"id\":\"4be5f51d-09c4-447a-8939-ffb025022573\",\"startTime\":1556390424250,\"duration\":3593750,\"timezone\":-5},{\"id\":\"a2165b14-ee45-4313-86cc-011ae9c6ab93\",\"startTime\":1556394018000,\"duration\":3593750,\"timezone\":-5},{\"id\":\"c2b6a2bd-868c-418f-bedf-6283db42862a\",\"startTime\":1556397611750,\"duration\":3593750,\"timezone\":-5},{\"id\":\"f4b5d504-128a-4606-84a8-7723a7e94d7e\",\"startTime\":1556401205500,\"duration\":3593750,\"timezone\":-5},{\"id\":\"89d7d1ac-7035-4956-84ed-e6a26fc92a4d\",\"startTime\":1556404799250,\"duration\":3593750,\"timezone\":-5},{\"id\":\"7fac1f3e-f001-4fd8-9e20-aad7c26dcbca\",\"startTime\":1556408393000,\"duration\":3593750,\"timezone\":-5},{\"id\":\"530a3a33-f1e9-4f19-b749-0a57d72e23e1\",\"startTime\":1556411986750,\"duration\":3593750,\"timezone\":-5},{\"id\":\"02d42ac6-2071-496f-862d-1577da52da42\",\"startTime\":1556415580500,\"duration\":3593750,\"timezone\":-5},{\"id\":\"c25b8b84-937e-4338-aa0c-97e92492179a\",\"startTime\":1556419174250,\"duration\":3593750,\"timezone\":-5},{\"id\":\"43b3e4a0-3acd-4e23-8d3e-98105aa34644\",\"startTime\":1556422768000,\"duration\":3593750,\"timezone\":-5},{\"id\":\"bf3ebe08-f953-4562-aea7-0532abbea9d2\",\"startTime\":1556426361750,\"duration\":3593750,\"timezone\":-5},{\"id\":\"50637db2-a54b-4af4-9dcb-4ca1e6e23920\",\"startTime\":1556429955500,\"duration\":3593750,\"timezone\":-5},{\"id\":\"a9429ffe-46ff-4588-bd85-0a7fbb222ca3\",\"startTime\":1556433549250,\"duration\":3593750,\"timezone\":-5},{\"id\":\"720fc74b-de8b-45f0-b242-095f68e97e60\",\"startTime\":1556437143000,\"duration\":3593750,\"timezone\":-5},{\"id\":\"92ed567d-89e7-480a-aab3-d1a69a0231e6\",\"startTime\":1556440736750,\"duration\":3593750,\"timezone\":-5},{\"id\":\"b2d9cf0e-25c6-4624-8b00-6cad01a35f29\",\"startTime\":1556444330500,\"duration\":3593750,\"timezone\":-5},{\"id\":\"d71f8045-9b29-4260-88bb-bbd0ead96ac3\",\"startTime\":1556447924250,\"duration\":3593750,\"timezone\":-5},{\"id\":\"192ff7d8-2cd0-4ed7-91a6-fad1082a402c\",\"startTime\":1556451518000,\"duration\":3593750,\"timezone\":-5},{\"id\":\"79546cd2-57ea-490f-91ef-7a707fd52586\",\"startTime\":1556455111750,\"duration\":3593750,\"timezone\":-5},{\"id\":\"e1727800-d539-4b99-89ce-601bbff00cbd\",\"startTime\":1556458705500,\"duration\":3593750,\"timezone\":-5},{\"id\":\"dd463546-a4d7-4e89-8e2e-feb89fc18aa5\",\"startTime\":1556462299250,\"duration\":3593750,\"timezone\":-5},{\"id\":\"c001be6c-c9fd-47a1-94ee-8cb85591117c\",\"startTime\":1556465893000,\"duration\":46875,\"timezone\":-5},{\"id\":\"0fc97d74-98f9-4d34-9a77-59f1aec22849\",\"startTime\":1556466001000,\"duration\":3593750,\"timezone\":-5},{\"id\":\"cf07e30a-c26d-446c-845b-5d4b4499f43f\",\"startTime\":1556469594750,\"duration\":3593750,\"timezone\":-5},{\"id\":\"f88b7598-7bc4-42b8-bcfc-382c5d084282\",\"startTime\":1556473188500,\"duration\":3593750,\"timezone\":-5},{\"id\":\"29e931da-39a4-44df-829a-059be9164395\",\"startTime\":1556476782250,\"duration\":3593750,\"timezone\":-5},{\"id\":\"9272cb95-e02f-4a91-8a5c-18623da7f0b0\",\"startTime\":1556480376000,\"duration\":3593750,\"timezone\":-5},{\"id\":\"1a33e0e8-537a-4161-af0f-d897e6373b00\",\"startTime\":1556483969750,\"duration\":3593750,\"timezone\":-5},{\"id\":\"7cf626ed-15af-4d9e-8c77-b1ce821378b1\",\"startTime\":1556487563500,\"duration\":3593750,\"timezone\":-5},{\"id\":\"b7227016-3328-4449-bf59-ad75d29256e6\",\"startTime\":1556491157250,\"duration\":3593750,\"timezone\":-5},{\"id\":\"e2c3e188-aca6-424c-aa11-a0565f0e240b\",\"startTime\":1556494751000,\"duration\":3593750,\"timezone\":-5},{\"id\":\"38a00f3c-3078-451d-9d4f-393ea4a5ec05\",\"startTime\":1556498344750,\"duration\":3593750,\"timezone\":-5},{\"id\":\"9e2cefc2-018f-4f93-bd88-9924c2bb0923\",\"startTime\":1556501938500,\"duration\":3593750,\"timezone\":-5},{\"id\":\"86fdef7a-8e80-4c79-91e9-0a6e86912d6e\",\"startTime\":1556505532250,\"duration\":3593750,\"timezone\":-5},{\"id\":\"fc504084-85b0-49b4-bc40-ca3d599d6763\",\"startTime\":1556509126000,\"duration\":3593750,\"timezone\":-5},{\"id\":\"808fa0de-ed1d-4413-aa70-879878b0779c\",\"startTime\":1556512719750,\"duration\":3593750,\"timezone\":-5},{\"id\":\"697971dc-2b48-4528-b5e8-9c2225c56ad2\",\"startTime\":1556516313500,\"duration\":3593750,\"timezone\":-5},{\"id\":\"bdfc49fb-44bb-42dd-9875-e1d510f8b8a4\",\"startTime\":1556519907250,\"duration\":3593750,\"timezone\":-5},{\"id\":\"ed037285-05b8-4296-8c4a-a396f34656c2\",\"startTime\":1556523501000,\"duration\":3593750,\"timezone\":-5},{\"id\":\"14a26b26-6a50-4a0a-bb14-048d3db05d15\",\"startTime\":1556527094750,\"duration\":3593750,\"timezone\":-5},{\"id\":\"8b93b8e0-29d8-4191-b41b-6dd035a29254\",\"startTime\":1556530688500,\"duration\":3593750,\"timezone\":-5},{\"id\":\"e5376e79-a079-4ef3-8cb0-492a98ce2685\",\"startTime\":1556534282250,\"duration\":3593750,\"timezone\":-5},{\"id\":\"809f58f1-5bbd-46de-9e89-eaacc248246a\",\"startTime\":1556537876000,\"duration\":3593750,\"timezone\":-5},{\"id\":\"8a922319-7f7f-4a05-a6ef-521f7ed95559\",\"startTime\":1556541469750,\"duration\":3593750,\"timezone\":-5},{\"id\":\"0a75f4f6-08b3-4768-8764-2a1cfab2167e\",\"startTime\":1556545063500,\"duration\":3593750,\"timezone\":-5},{\"id\":\"3101499d-9cb9-482f-9476-a677259c4c2d\",\"startTime\":1556548657250,\"duration\":3593750,\"timezone\":-5},{\"id\":\"2e8f888c-6fb1-430e-af52-04b2ebe827b0\",\"startTime\":1556552251000,\"duration\":3593750,\"timezone\":-5},{\"id\":\"8f24fb3c-ce79-4685-8f64-5aec57478e9f\",\"startTime\":1556555844750,\"duration\":3593750,\"timezone\":-5},{\"id\":\"36225e1d-d80a-439e-994a-c371a9c7b25b\",\"startTime\":1556559438500,\"duration\":164062.5,\"timezone\":-5}],\"channels\":[{\"id\":\"691f9500-9477-4212-89ab-45a8c5e4ef38\",\"name\":\"BVP\",\"channelType\":{\"name\":\"Generic\",\"category\":\"generic\"}}]},{\"id\":\"457b5e4c-07f4-49d4-838d-87570e50772a\",\"name\":\"Empatica-EDA\",\"sampleRate\":128,\"samplesPerRecord\":1000,\"recordLength\":7.8125,\"chunkPeriod\":78.125,\"recordsPerChunk\":10,\"sampleEncoding\":\"float32\",\"compression\":\"gzip\",\"signalMin\":0,\"signalMax\":0,\"units\":\"\",\"exponent\":9,\"timestamped\":false,\"channelGroupType\":{\"id\":\"generic\"},\"segments\":[{\"id\":\"d80e4b89-fc09-4fcd-accb-29cb8e924604\",\"startTime\":1556307768007.8125,\"duration\":3593742.1875,\"timezone\":-5},{\"id\":\"e575f7c7-3f20-4bf3-a1c1-4c60f4fc1745\",\"startTime\":1556311361750,\"duration\":3593750,\"timezone\":-5},{\"id\":\"1aa0c490-e9e0-46c8-a8be-53c0f92c96e0\",\"startTime\":1556314955500,\"duration\":3593750,\"timezone\":-5},{\"id\":\"69773ff7-fcab-4ba4-8d75-b2782804b526\",\"startTime\":1556318549250,\"duration\":3593750,\"timezone\":-5},{\"id\":\"cf4b31d2-44af-4f03-88bf-44cdc616d7bd\",\"startTime\":1556322143000,\"duration\":3593750,\"timezone\":-5},{\"id\":\"7234c8aa-5a9e-47ee-840e-93e512655b06\",\"startTime\":1556325736750,\"duration\":3593750,\"timezone\":-5},{\"id\":\"94db8105-2015-4dfe-84d4-f6ca23bee1d2\",\"startTime\":1556329330500,\"duration\":2078671.875,\"timezone\":-5},{\"id\":\"5d9e55c2-ba99-4ad0-aa54-f4efa08b46b9\",\"startTime\":1556331409671.875,\"duration\":1514578.125,\"timezone\":-5},{\"id\":\"c685f868-f212-4202-8b06-e345d4e7f6d1\",\"startTime\":1556332924250,\"duration\":2130570.3125,\"timezone\":-5},{\"id\":\"38c95914-1d8b-461d-ac26-c4f35390038a\",\"startTime\":1556335055562.5,\"duration\":1462437.5,\"timezone\":-5},{\"id\":\"00fef2ec-9da7-4ea2-aed2-5d51d1ee6f10\",\"startTime\":1556336518000,\"duration\":3593750,\"timezone\":-5},{\"id\":\"53589f11-e8cf-4a92-9109-8b718fb73033\",\"startTime\":1556340111750,\"duration\":3456726.5625,\"timezone\":-5},{\"id\":\"ba1ce8f5-1870-4902-b17c-705370fa2163\",\"startTime\":1556343568726.5625,\"duration\":60992.1875,\"timezone\":-5},{\"id\":\"03a0610e-7b22-4d88-a3bb-a3c7ee51b068\",\"startTime\":1556343630218.75,\"duration\":75281.25,\"timezone\":-5},{\"id\":\"ee96e338-1a5e-4797-b3c3-18f04f9f3594\",\"startTime\":1556343705500,\"duration\":1402828.125,\"timezone\":-5},{\"id\":\"fbdc65e9-7a3f-4e63-ac5f-e7597564e2e1\",\"startTime\":1556345108828.125,\"duration\":2190421.875,\"timezone\":-5},{\"id\":\"e82b69fd-3fa7-4d7e-bde4-b0583f2fc50b\",\"startTime\":1556347299250,\"duration\":3593750,\"timezone\":-5},{\"id\":\"20369394-a1b3-45a0-aa71-143ae01ec70e\",\"startTime\":1556350893000,\"duration\":3593750,\"timezone\":-5},{\"id\":\"6e4bd8fc-8da9-44f7-ae23-bd3e5c28d644\",\"startTime\":1556354486750,\"duration\":3593750,\"timezone\":-5},{\"id\":\"ae352c2e-7b14-4acb-a5d0-5fcd258fb0f1\",\"startTime\":1556358080500,\"duration\":1078695.3125,\"timezone\":-5},{\"id\":\"ae1094de-d43d-4ca4-9ffc-b3d7400ea179\",\"startTime\":1556359159445.3125,\"duration\":2514804.6875,\"timezone\":-5},{\"id\":\"4065a67a-3fd3-4b96-bc82-603d0366ef01\",\"startTime\":1556361674250,\"duration\":3593750,\"timezone\":-5},{\"id\":\"a575358c-6d89-48c6-9037-529e81833762\",\"startTime\":1556365268000,\"duration\":1662929.6875,\"timezone\":-5},{\"id\":\"4666af32-39e9-4d21-a324-fb238f62b612\",\"startTime\":1556366931179.6875,\"duration\":1930570.3125,\"timezone\":-5},{\"id\":\"6e1e0aa9-978a-4b73-a04b-ee1b693e1b7b\",\"startTime\":1556368861750,\"duration\":3593750,\"timezone\":-5},{\"id\":\"344b0cc7-e155-47ac-8fa8-08a3afe8c611\",\"startTime\":1556372455500,\"duration\":3593750,\"timezone\":-5},{\"id\":\"96323615-c09a-45ae-b7a1-6232643869a7\",\"startTime\":1556376049250,\"duration\":3593750,\"timezone\":-5},{\"id\":\"ddce765b-1088-4b4d-8de5-9db277ee5df1\",\"startTime\":1556379643000,\"duration\":3388843.75,\"timezone\":-5},{\"id\":\"62a7c48a-733f-4909-aba4-8d86a926bba5\",\"startTime\":1556383032093.75,\"duration\":204656.25,\"timezone\":-5},{\"id\":\"5c219657-6010-474a-9ee1-c543b02c1aff\",\"startTime\":1556383236750,\"duration\":3593750,\"timezone\":-5},{\"id\":\"e8c8fe42-0df3-4453-8593-609e7263aa58\",\"startTime\":1556386830500,\"duration\":3593750,\"timezone\":-5},{\"id\":\"afd875db-de91-450d-b503-e8cc182dda84\",\"startTime\":1556390424250,\"duration\":3593750,\"timezone\":-5},{\"id\":\"60264b03-193f-4074-90ba-ae5acd5e0cea\",\"startTime\":1556394018000,\"duration\":3593750,\"timezone\":-5},{\"id\":\"cfd26658-f1d7-4250-b82e-f2db539adcee\",\"startTime\":1556397611750,\"duration\":3593750,\"timezone\":-5},{\"id\":\"efb94b5b-eb68-4c8b-978f-cd3790b3c101\",\"startTime\":1556401205500,\"duration\":3593750,\"timezone\":-5},{\"id\":\"0dd6871d-cfa7-40a9-9f3c-1bd40e7aa570\",\"startTime\":1556404799250,\"duration\":3593750,\"timezone\":-5},{\"id\":\"cc6eb834-b49f-4635-a139-073dbbbec596\",\"startTime\":1556408393000,\"duration\":3593750,\"timezone\":-5},{\"id\":\"804eb887-6c0f-4e51-aed0-733aa98431d4\",\"startTime\":1556411986750,\"duration\":3593750,\"timezone\":-5},{\"id\":\"0437ec72-223b-431f-80e9-04dbd3998caa\",\"startTime\":1556415580500,\"duration\":3593750,\"timezone\":-5},{\"id\":\"f4a9f2fd-3119-4a4e-ab65-f63b2f8c8f9a\",\"startTime\":1556419174250,\"duration\":3593750,\"timezone\":-5},{\"id\":\"00da3885-9690-4c9e-afed-804cf8346176\",\"startTime\":1556422768000,\"duration\":3593750,\"timezone\":-5},{\"id\":\"61d9f3b8-9fc3-4e1f-bbef-78b391e51301\",\"startTime\":1556426361750,\"duration\":1548671.875,\"timezone\":-5},{\"id\":\"1352fe9d-d1db-4fbb-a794-a9a4e8e2cd38\",\"startTime\":1556427910671.875,\"duration\":2044828.125,\"timezone\":-5},{\"id\":\"30232c53-4a01-4090-b60d-53696d657f90\",\"startTime\":1556429955500,\"duration\":3593750,\"timezone\":-5},{\"id\":\"67fed57b-7d7b-47be-897a-58c6f8d22068\",\"startTime\":1556433549250,\"duration\":3593750,\"timezone\":-5},{\"id\":\"5a139ad7-90b5-4e42-817e-5efd2b9c2261\",\"startTime\":1556437143000,\"duration\":3593750,\"timezone\":-5},{\"id\":\"b9bcee6f-c7d8-4b88-be06-77d6c5688a58\",\"startTime\":1556440736750,\"duration\":3593750,\"timezone\":-5},{\"id\":\"8d54cb2f-2fd3-413d-80f8-8aad2c448fe8\",\"startTime\":1556444330500,\"duration\":3593750,\"timezone\":-5},{\"id\":\"364b8ede-a0c4-4dd5-bc0f-8b4b4a8f2e81\",\"startTime\":1556447924250,\"duration\":3593750,\"timezone\":-5},{\"id\":\"07dd5560-c5d3-4c7b-8572-4090b162fd06\",\"startTime\":1556451518000,\"duration\":1845164.0625,\"timezone\":-5},{\"id\":\"1c88f92e-905a-4d44-ad4e-ef2293e71529\",\"startTime\":1556453363664.0625,\"duration\":1748085.9375,\"timezone\":-5},{\"id\":\"e323df15-aca4-4b7e-914e-c2dc45503109\",\"startTime\":1556455111750,\"duration\":3593750,\"timezone\":-5},{\"id\":\"8f276410-9e20-440c-b326-a5af47896451\",\"startTime\":1556458705500,\"duration\":3593750,\"timezone\":-5},{\"id\":\"6cf5c9b6-f661-4e73-a64b-d8075e9a66e8\",\"startTime\":1556462299250,\"duration\":3593750,\"timezone\":-5},{\"id\":\"5b0b73f0-1a96-4f71-a120-f185c3cb0a82\",\"startTime\":1556465893000,\"duration\":46179.6875,\"timezone\":-5},{\"id\":\"3b0e1eb7-cc14-4a8e-8640-c1292338d42d\",\"startTime\":1556466001007.8125,\"duration\":6742.1875,\"timezone\":-5},{\"id\":\"b56ddcf4-abb5-4ba1-a810-6efc2e3a1134\",\"startTime\":1556466171984.375,\"duration\":500,\"timezone\":-5},{\"id\":\"9d9bc4f5-b1bb-4fa6-9fe2-334c98eedf04\",\"startTime\":1556466180984.375,\"duration\":500,\"timezone\":-5},{\"id\":\"3c67fd78-07e6-4e8c-8b17-29d11b96185b\",\"startTime\":1556466182984.375,\"duration\":500,\"timezone\":-5},{\"id\":\"6230974c-f0cd-40bf-b6fc-12061223606d\",\"startTime\":1556466193984.375,\"duration\":500,\"timezone\":-5},{\"id\":\"20ca47d8-7d9f-44f7-93d7-edbdc6de1c5b\",\"startTime\":1556466194734.375,\"duration\":500,\"timezone\":-5},{\"id\":\"c5c79c91-8783-4d73-b9f8-890a069efd84\",\"startTime\":1556466196734.375,\"duration\":500,\"timezone\":-5},{\"id\":\"b6914b29-cbd0-4dcc-915a-94cb9503a056\",\"startTime\":1556466198484.375,\"duration\":1250,\"timezone\":-5},{\"id\":\"5f1f7135-82c2-4e67-ad1b-9fc8e60a8458\",\"startTime\":1556466199984.375,\"duration\":500,\"timezone\":-5},{\"id\":\"f914b2b2-81e1-4357-8c96-872ee85e34f0\",\"startTime\":1556466201984.375,\"duration\":500,\"timezone\":-5},{\"id\":\"fdee3708-191e-4156-9933-8eaf79739aeb\",\"startTime\":1556466202984.375,\"duration\":1500,\"timezone\":-5},{\"id\":\"40af2db2-b7b0-4db0-ab92-4a9f2e38031f\",\"startTime\":1556466205234.375,\"duration\":1000,\"timezone\":-5},{\"id\":\"664a14ef-6fae-4fd8-b98d-f88606e982fc\",\"startTime\":1556466206484.375,\"duration\":500,\"timezone\":-5},{\"id\":\"27208870-9c06-47c1-82fe-5621a94a123e\",\"startTime\":1556466207734.375,\"duration\":1250,\"timezone\":-5},{\"id\":\"d16f5e8f-28ad-42a4-9c84-eab109abac14\",\"startTime\":1556466209734.375,\"duration\":5000,\"timezone\":-5},{\"id\":\"9e02749d-97c2-43d2-9817-520e5a630c0e\",\"startTime\":1556466214984.375,\"duration\":2500,\"timezone\":-5},{\"id\":\"467803d1-000e-43b6-92a4-dd60dc9117c0\",\"startTime\":1556466217734.375,\"duration\":3750,\"timezone\":-5},{\"id\":\"92f7221e-05cb-46fa-88fa-fd81a5cc0252\",\"startTime\":1556466221734.375,\"duration\":1750,\"timezone\":-5},{\"id\":\"ecedb572-86ab-4e90-9a4f-8ad27c9b8fc2\",\"startTime\":1556466223734.375,\"duration\":1750,\"timezone\":-5},{\"id\":\"9ef4aa29-e5b2-4f71-91c8-4e47310d0b59\",\"startTime\":1556466225734.375,\"duration\":3250,\"timezone\":-5},{\"id\":\"e20d7c49-e57a-4f41-a5ee-4c43f145dc64\",\"startTime\":1556466229234.375,\"duration\":2750,\"timezone\":-5},{\"id\":\"43509cfb-cd4d-4e24-a2e0-912df06d2206\",\"startTime\":1556466232734.375,\"duration\":4500,\"timezone\":-5},{\"id\":\"0dace1b2-39ba-41a4-9f72-21398cd3d70a\",\"startTime\":1556466237484.375,\"duration\":3357265.625,\"timezone\":-5},{\"id\":\"a3e6cdcd-e2ad-4e02-be61-1cfc513daae5\",\"startTime\":1556469594750,\"duration\":3593750,\"timezone\":-5},{\"id\":\"6f385b3f-6676-4643-beaa-028dcf22cf89\",\"startTime\":1556473188500,\"duration\":3593750,\"timezone\":-5},{\"id\":\"b889484c-6613-40fb-999b-62ba6c6de8ee\",\"startTime\":1556476782250,\"duration\":3593750,\"timezone\":-5},{\"id\":\"79eebbbe-6681-4915-8a3d-6f662241906f\",\"startTime\":1556480376000,\"duration\":3593750,\"timezone\":-5},{\"id\":\"3b8ab2cd-e275-483f-899e-23b79e206718\",\"startTime\":1556483969750,\"duration\":3593750,\"timezone\":-5},{\"id\":\"ad0c05c1-3280-4a91-9faa-807567f0fbb7\",\"startTime\":1556487563500,\"duration\":3593750,\"timezone\":-5},{\"id\":\"56017357-470f-48f7-99d0-e7d17087edcd\",\"startTime\":1556491157250,\"duration\":3593750,\"timezone\":-5},{\"id\":\"3143cd36-2407-40cd-bb15-5d8bfa9865db\",\"startTime\":1556494751000,\"duration\":3593750,\"timezone\":-5},{\"id\":\"3a95547b-9e51-493f-b41b-7b0ea0ad6ad5\",\"startTime\":1556498344750,\"duration\":3593750,\"timezone\":-5},{\"id\":\"a4c7f16c-3c1b-49b9-bf1b-5f6d505a8e89\",\"startTime\":1556501938500,\"duration\":3593750,\"timezone\":-5},{\"id\":\"6f42de36-ea32-4c3f-aeae-9e100d04457d\",\"startTime\":1556505532250,\"duration\":3593750,\"timezone\":-5},{\"id\":\"983b4b13-b78c-4b60-bd22-9477d3e55416\",\"startTime\":1556509126000,\"duration\":3593750,\"timezone\":-5},{\"id\":\"d3c75926-14ed-4ee0-aa48-519cab8e5ad1\",\"startTime\":1556512719750,\"duration\":3593750,\"timezone\":-5},{\"id\":\"0a549c67-53f2-46e0-9858-0c219dbe6559\",\"startTime\":1556516313500,\"duration\":3593750,\"timezone\":-5},{\"id\":\"ad2706f6-eb6e-4728-a708-47d47670c7d7\",\"startTime\":1556519907250,\"duration\":3593750,\"timezone\":-5},{\"id\":\"ae2ca668-729b-422c-9e1c-c08ba3667f92\",\"startTime\":1556523501000,\"duration\":3593750,\"timezone\":-5},{\"id\":\"c2d1656f-eda5-4e53-bc78-fc88c3335e62\",\"startTime\":1556527094750,\"duration\":3593750,\"timezone\":-5},{\"id\":\"99ce4de3-f851-4b5a-8e7a-a3f29aba7ea1\",\"startTime\":1556530688500,\"duration\":3593750,\"timezone\":-5},{\"id\":\"0cd6d295-83dd-46fb-a67b-ee1e1f313bd1\",\"startTime\":1556534282250,\"duration\":3593750,\"timezone\":-5},{\"id\":\"e3171a18-497f-4a09-88f5-0258aaaf1020\",\"startTime\":1556537876000,\"duration\":3593750,\"timezone\":-5},{\"id\":\"01f2756e-9a82-4c8b-8b17-753d6184f0ef\",\"startTime\":1556541469750,\"duration\":3593750,\"timezone\":-5},{\"id\":\"8e48593c-fe5e-412b-a143-c7f38c719ffb\",\"startTime\":1556545063500,\"duration\":3593750,\"timezone\":-5},{\"id\":\"8ce884a7-ed13-4ccf-b9c4-1cc20a56a78e\",\"startTime\":1556548657250,\"duration\":3593750,\"timezone\":-5},{\"id\":\"b363294d-845b-4345-b41b-2d7c103642c2\",\"startTime\":1556552251000,\"duration\":2831070.3125,\"timezone\":-5},{\"id\":\"f9d4ff77-69eb-4866-afbc-65eeac561abd\",\"startTime\":1556555082570.3125,\"duration\":762179.6875,\"timezone\":-5},{\"id\":\"65041591-a058-4541-b9c8-b21d2fc8ac6f\",\"startTime\":1556555844750,\"duration\":251218.75,\"timezone\":-5},{\"id\":\"b6b46bdc-baa9-4eb8-9755-a85c69253afc\",\"startTime\":1556556096218.75,\"duration\":2263781.25,\"timezone\":-5},{\"id\":\"c3c72233-1c6a-4e98-8303-9390433972c5\",\"startTime\":1556558360250,\"duration\":2750,\"timezone\":-5},{\"id\":\"d4c7f9b0-4343-4600-82e8-26cf5ef7c838\",\"startTime\":1556558363250,\"duration\":750,\"timezone\":-5},{\"id\":\"bdeb9e4c-9ee6-4818-a292-f59cccb78a3c\",\"startTime\":1556558364250,\"duration\":2750,\"timezone\":-5},{\"id\":\"68af5c22-5d8a-4843-8a07-2a5e7addfb10\",\"startTime\":1556558367250,\"duration\":1000,\"timezone\":-5},{\"id\":\"28bba33e-e3dc-4d81-bf12-a44e05eb975c\",\"startTime\":1556558368500,\"duration\":2750,\"timezone\":-5},{\"id\":\"4acabd30-c2e9-427d-9f0e-60d76194ae31\",\"startTime\":1556558371500,\"duration\":6250,\"timezone\":-5},{\"id\":\"d01e43aa-9310-401a-a06b-2bd2d2e9fa19\",\"startTime\":1556558378000,\"duration\":28742.1875,\"timezone\":-5},{\"id\":\"91974788-ac80-482b-bb78-0d8cb9b14ac3\",\"startTime\":1556558406992.1875,\"duration\":64500,\"timezone\":-5},{\"id\":\"7927e060-5c02-4627-ad1b-c3ee165aa454\",\"startTime\":1556558471742.1875,\"duration\":13242.1875,\"timezone\":-5},{\"id\":\"672639fe-a4c7-40d6-af99-a380ae2664c1\",\"startTime\":1556558485234.375,\"duration\":2500,\"timezone\":-5},{\"id\":\"f37ba1c1-8d94-4885-b042-858d1dd107f8\",\"startTime\":1556558487984.375,\"duration\":750,\"timezone\":-5},{\"id\":\"58e1808c-4fe9-4618-ad65-7e64d9b31e66\",\"startTime\":1556558488984.375,\"duration\":6250,\"timezone\":-5},{\"id\":\"6128c8de-6db6-4656-944b-0d79ce095886\",\"startTime\":1556558495734.375,\"duration\":1500,\"timezone\":-5},{\"id\":\"b9191559-b7ee-4f8a-a68d-42d5fbd9e74e\",\"startTime\":1556558497734.375,\"duration\":750,\"timezone\":-5},{\"id\":\"8a398289-6c97-4033-8c59-43f5fd4fa198\",\"startTime\":1556558498734.375,\"duration\":750,\"timezone\":-5},{\"id\":\"8b4a09a2-3794-4b1e-a1a5-5e989d23fcac\",\"startTime\":1556558499734.375,\"duration\":2000,\"timezone\":-5},{\"id\":\"f9e63426-e4e5-4ce6-bb87-a30f0370df39\",\"startTime\":1556558501984.375,\"duration\":750,\"timezone\":-5},{\"id\":\"b3f0f7ef-1e75-4852-b81c-b7b73379444d\",\"startTime\":1556558502984.375,\"duration\":2000,\"timezone\":-5},{\"id\":\"ad9c476a-380c-4694-96ac-3eaead75b98d\",\"startTime\":1556558505234.375,\"duration\":1500,\"timezone\":-5},{\"id\":\"d574f69b-8bc5-45be-bff8-36fa4c42664f\",\"startTime\":1556558507234.375,\"duration\":2000,\"timezone\":-5},{\"id\":\"f8ce18b9-0f76-42da-affa-adb7a970cc7e\",\"startTime\":1556558509484.375,\"duration\":750,\"timezone\":-5},{\"id\":\"9d650422-95bc-4b27-9b26-0caad6630ff5\",\"startTime\":1556558510484.375,\"duration\":750,\"timezone\":-5},{\"id\":\"65ab2282-4616-4510-b636-0f22a9be1fc4\",\"startTime\":1556558511484.375,\"duration\":2000,\"timezone\":-5},{\"id\":\"88561a97-99a1-4b88-b50e-de853499fd5f\",\"startTime\":1556558513734.375,\"duration\":750,\"timezone\":-5},{\"id\":\"b95dfd8d-2eb3-4f4f-92fb-5072399e785e\",\"startTime\":1556558514984.375,\"duration\":500,\"timezone\":-5},{\"id\":\"6692bad0-bb1d-402f-9153-3020e5413b13\",\"startTime\":1556558515734.375,\"duration\":2750,\"timezone\":-5},{\"id\":\"debeff3e-7dbe-4224-bfbb-db5d9dba7ea0\",\"startTime\":1556558518984.375,\"duration\":750,\"timezone\":-5},{\"id\":\"5930f6fb-8cfd-4787-ad52-a7d0f3539875\",\"startTime\":1556558519984.375,\"duration\":750,\"timezone\":-5},{\"id\":\"464ed24e-937f-4a56-a3c9-4bbb7fc74595\",\"startTime\":1556558520984.375,\"duration\":750,\"timezone\":-5},{\"id\":\"1998c481-233f-4f99-9281-4f383b4e4647\",\"startTime\":1556558521984.375,\"duration\":1000,\"timezone\":-5},{\"id\":\"676a3f1e-24d1-448a-8758-4c334eed7929\",\"startTime\":1556558523234.375,\"duration\":500,\"timezone\":-5},{\"id\":\"7f8ae68f-ff46-4d7d-b679-fe83c00c2854\",\"startTime\":1556558523984.375,\"duration\":750,\"timezone\":-5},{\"id\":\"afd05940-db33-4268-aaa0-14c225f03c4f\",\"startTime\":1556558524984.375,\"duration\":1750,\"timezone\":-5},{\"id\":\"cd9d5aa9-037a-4d8e-bf68-6052025bfbc0\",\"startTime\":1556558526984.375,\"duration\":750,\"timezone\":-5},{\"id\":\"4bcc5861-d9c6-4314-8a60-5f47979f7886\",\"startTime\":1556558527984.375,\"duration\":1750,\"timezone\":-5},{\"id\":\"8889185f-f2da-4c5e-8198-860907acdb4d\",\"startTime\":1556558529984.375,\"duration\":750,\"timezone\":-5},{\"id\":\"84880b01-7d3b-4785-9d98-1b79af745cb6\",\"startTime\":1556558530984.375,\"duration\":500,\"timezone\":-5},{\"id\":\"824b6d3d-e51e-40d4-8299-87fbb7307102\",\"startTime\":1556558531984.375,\"duration\":500,\"timezone\":-5},{\"id\":\"aafaa170-4482-40fb-b0a7-911f3c99acb1\",\"startTime\":1556558532984.375,\"duration\":750,\"timezone\":-5},{\"id\":\"db831459-06f3-4aa9-8623-6b016ecc795a\",\"startTime\":1556558534234.375,\"duration\":500,\"timezone\":-5},{\"id\":\"124ecc63-0f7e-47df-bab8-cca1ac02748f\",\"startTime\":1556558534984.375,\"duration\":2750,\"timezone\":-5},{\"id\":\"ea9c4996-bfb4-4ddb-9103-bd8a256aacde\",\"startTime\":1556558537984.375,\"duration\":2000,\"timezone\":-5},{\"id\":\"4c9d6c2c-6384-4a6e-9a09-c70dd1b3894c\",\"startTime\":1556558540234.375,\"duration\":1750,\"timezone\":-5},{\"id\":\"a0e997a8-7dd3-4b24-a9ac-0d1a1b5f888d\",\"startTime\":1556558542234.375,\"duration\":750,\"timezone\":-5},{\"id\":\"3057b315-eca3-4d05-afd5-193d30cf8430\",\"startTime\":1556558543234.375,\"duration\":750,\"timezone\":-5},{\"id\":\"fe2bfc3b-d13b-4d3e-850e-f20d50e99213\",\"startTime\":1556558544234.375,\"duration\":42742.1875,\"timezone\":-5},{\"id\":\"43318333-f224-4c6b-a7ce-868516888ee2\",\"startTime\":1556558587226.5625,\"duration\":3750,\"timezone\":-5},{\"id\":\"6422b6f7-2351-47f3-968f-4cc3e1a05f2a\",\"startTime\":1556558591226.5625,\"duration\":4500,\"timezone\":-5},{\"id\":\"e4dddd60-6f33-46c5-93e3-6ccdae7cb415\",\"startTime\":1556558595976.5625,\"duration\":10000,\"timezone\":-5},{\"id\":\"122fd25e-bef4-4da7-8af2-14435e58d0f8\",\"startTime\":1556558606226.5625,\"duration\":1750,\"timezone\":-5},{\"id\":\"220e47eb-ded4-4039-a98d-c6aff6f62800\",\"startTime\":1556558608226.5625,\"duration\":4250,\"timezone\":-5},{\"id\":\"b0ee8950-7fb8-4342-805f-4ae43eff6bb5\",\"startTime\":1556558612726.5625,\"duration\":43492.1875,\"timezone\":-5},{\"id\":\"295764ce-0e36-4357-881b-bde6ce9e7088\",\"startTime\":1556558656468.75,\"duration\":1750,\"timezone\":-5},{\"id\":\"06b1b814-7189-4019-9b6e-7b1c37ae2494\",\"startTime\":1556558658468.75,\"duration\":750,\"timezone\":-5},{\"id\":\"e6d74297-bc05-43e0-b587-06d86744a634\",\"startTime\":1556558659468.75,\"duration\":44000,\"timezone\":-5},{\"id\":\"1e232ecd-7baa-47f6-a9ff-99d667f4e702\",\"startTime\":1556558703968.75,\"duration\":1500,\"timezone\":-5},{\"id\":\"8a396ae4-28e3-4bd1-8ace-5dcb31f6a6af\",\"startTime\":1556558705718.75,\"duration\":43742.1875,\"timezone\":-5},{\"id\":\"eb9af548-c249-4637-9c65-c6f40fb5b47c\",\"startTime\":1556558749710.9375,\"duration\":750,\"timezone\":-5},{\"id\":\"056e3e5a-499b-41a6-919a-50794b64bb0f\",\"startTime\":1556558750710.9375,\"duration\":17500,\"timezone\":-5},{\"id\":\"282b24a0-d831-40eb-86a6-a78653c36f97\",\"startTime\":1556558768460.9375,\"duration\":750,\"timezone\":-5},{\"id\":\"84e82809-eb1d-4005-b325-2a6f7d24dc39\",\"startTime\":1556558769460.9375,\"duration\":402960.9375,\"timezone\":-5},{\"id\":\"76e06dd0-ac46-4557-a71d-32aa2637808f\",\"startTime\":1556559172671.875,\"duration\":2750,\"timezone\":-5},{\"id\":\"512895de-4a22-443a-8c14-dc4cd5e26468\",\"startTime\":1556559175671.875,\"duration\":42742.1875,\"timezone\":-5},{\"id\":\"99f7f52e-8715-4aa9-b6e7-e63fa634cc80\",\"startTime\":1556559218664.0625,\"duration\":23000,\"timezone\":-5},{\"id\":\"19377a79-7014-4bdb-8e4b-addb91a224e0\",\"startTime\":1556559241914.0625,\"duration\":5000,\"timezone\":-5},{\"id\":\"5ed2b9bc-73c6-4146-88f4-ea20593305e6\",\"startTime\":1556559247164.0625,\"duration\":60492.1875,\"timezone\":-5},{\"id\":\"7b254fd9-0409-45ac-8fda-ad1b32065692\",\"startTime\":1556559307906.25,\"duration\":32250,\"timezone\":-5},{\"id\":\"3fcaf93d-a3ea-4ce5-9bce-d760c86b1d2c\",\"startTime\":1556559340406.25,\"duration\":750,\"timezone\":-5},{\"id\":\"6b0f32fc-6f7b-4936-a427-1e718e909a1f\",\"startTime\":1556559341406.25,\"duration\":21242.1875,\"timezone\":-5},{\"id\":\"d0433cc7-5c57-4905-91ca-6e3dfdec85be\",\"startTime\":1556559362898.4375,\"duration\":750,\"timezone\":-5},{\"id\":\"19afa090-05bc-447a-a913-34c2e76d29f8\",\"startTime\":1556559363898.4375,\"duration\":15000,\"timezone\":-5},{\"id\":\"e3d26d9a-3299-453f-a2b2-0d5bb2fe50fd\",\"startTime\":1556559379148.4375,\"duration\":58742.1875,\"timezone\":-5},{\"id\":\"1e1775da-aa1f-43d3-b57c-fbc025ba5034\",\"startTime\":1556559438140.625,\"duration\":359.375,\"timezone\":-5},{\"id\":\"cdcd512b-e500-4a08-9957-a628eb8fb1ff\",\"startTime\":1556559438500,\"duration\":17390.625,\"timezone\":-5},{\"id\":\"eef95b2c-72f6-425a-9ab8-5c32aed85401\",\"startTime\":1556559456140.625,\"duration\":16000,\"timezone\":-5},{\"id\":\"33d6e1ff-5840-4430-ae5d-ea2382069b74\",\"startTime\":1556559472390.625,\"duration\":2500,\"timezone\":-5},{\"id\":\"31d8b4ef-45b5-44d0-b0b6-828cff650adf\",\"startTime\":1556559475140.625,\"duration\":1750,\"timezone\":-5},{\"id\":\"128be6ad-0dca-4012-87b1-97c8eab33e8c\",\"startTime\":1556559477140.625,\"duration\":750,\"timezone\":-5},{\"id\":\"a2aaf541-573f-486d-beb6-6b72fcfa1a66\",\"startTime\":1556559478140.625,\"duration\":2500,\"timezone\":-5},{\"id\":\"a6e5122e-9667-44bf-8f9d-e4736d3ee386\",\"startTime\":1556559480890.625,\"duration\":14750,\"timezone\":-5},{\"id\":\"09bdb4ca-8b52-4da8-8ce0-8e0b2d59049c\",\"startTime\":1556559495890.625,\"duration\":5500,\"timezone\":-5},{\"id\":\"2f8fb2c7-6d16-4d65-860b-b5f488471bea\",\"startTime\":1556559501890.625,\"duration\":500,\"timezone\":-5},{\"id\":\"0887b4db-3f20-4709-8373-474b561da6d2\",\"startTime\":1556559502890.625,\"duration\":2750,\"timezone\":-5},{\"id\":\"31376826-a8ab-4e33-8d04-bf47540fccd7\",\"startTime\":1556559505890.625,\"duration\":750,\"timezone\":-5},{\"id\":\"72a5b0a0-0e20-4568-a7cb-e6660361ba43\",\"startTime\":1556559506890.625,\"duration\":1750,\"timezone\":-5},{\"id\":\"c9172d4c-d0bf-452f-8ced-b0c919656f8c\",\"startTime\":1556559508890.625,\"duration\":2750,\"timezone\":-5},{\"id\":\"ff88a1cc-2d94-4467-9eb7-f87d8984d58b\",\"startTime\":1556559511890.625,\"duration\":2750,\"timezone\":-5},{\"id\":\"7f114c85-a7f7-4832-921a-de0787b8d5f1\",\"startTime\":1556559514890.625,\"duration\":1742.1875,\"timezone\":-5},{\"id\":\"be77717b-fd8f-4676-8aeb-a8f3827fecce\",\"startTime\":1556559516882.8125,\"duration\":750,\"timezone\":-5},{\"id\":\"1453860c-a44d-4403-88f1-8d11cf739d93\",\"startTime\":1556559517882.8125,\"duration\":3250,\"timezone\":-5},{\"id\":\"0be659e6-de72-408d-b0f1-3b7757d4c4eb\",\"startTime\":1556559521382.8125,\"duration\":750,\"timezone\":-5},{\"id\":\"fa8d2d2a-4271-43e1-96c3-61d2e860a970\",\"startTime\":1556559522382.8125,\"duration\":1000,\"timezone\":-5},{\"id\":\"ae84b48c-b72b-4f4e-977b-125a899540d2\",\"startTime\":1556559523632.8125,\"duration\":7750,\"timezone\":-5},{\"id\":\"67a9cc5f-0aa7-47c3-984d-953c7bc8cf74\",\"startTime\":1556559531632.8125,\"duration\":15250,\"timezone\":-5},{\"id\":\"ef912139-98bb-4131-b1d9-f81e00cad221\",\"startTime\":1556559547132.8125,\"duration\":40250,\"timezone\":-5},{\"id\":\"b0f9f063-ef24-4cd4-8546-d422d3db324b\",\"startTime\":1556559587632.8125,\"duration\":750,\"timezone\":-5},{\"id\":\"d7c3ce67-c994-4dae-b009-63ac81001e6e\",\"startTime\":1556559588632.8125,\"duration\":7500,\"timezone\":-5}],\"channels\":[{\"id\":\"e45c884a-f24b-4bfb-b69e-7bb054819e5d\",\"name\":\"EDA\",\"channelType\":{\"name\":\"Generic\",\"category\":\"generic\"}}]},{\"id\":\"830852d4-1f4b-4eb0-8b8a-179c3b46553d\",\"name\":\"Empatica-HR\",\"sampleRate\":128,\"samplesPerRecord\":1000,\"recordLength\":7.8125,\"chunkPeriod\":78.125,\"recordsPerChunk\":10,\"sampleEncoding\":\"int16\",\"compression\":\"gzip\",\"signalMin\":38.82,\"signalMax\":193.5199,\"units\":\"\",\"exponent\":9,\"timestamped\":false,\"channelGroupType\":{\"id\":\"generic\"},\"segments\":[{\"id\":\"aac3325c-e0cc-417c-b002-6f1da95450f2\",\"startTime\":1556307778000,\"duration\":3593750,\"timezone\":-5},{\"id\":\"e0a9b3bc-464f-4e6a-8397-fb9a44f8fa93\",\"startTime\":1556311371750,\"duration\":3593750,\"timezone\":-5},{\"id\":\"c25a88e5-5ab5-4981-8546-0a0a7285bbe3\",\"startTime\":1556314965500,\"duration\":3593750,\"timezone\":-5},{\"id\":\"9518c046-e56f-4f1a-8417-8f4fb8191a32\",\"startTime\":1556318559250,\"duration\":3593750,\"timezone\":-5},{\"id\":\"47f3142c-2238-4480-aa0d-efd849a2d215\",\"startTime\":1556322153000,\"duration\":3593750,\"timezone\":-5},{\"id\":\"3880e27b-0c80-4ea8-8a18-0291061310f8\",\"startTime\":1556325746750,\"duration\":3593750,\"timezone\":-5},{\"id\":\"4d9c8548-99b2-457b-b993-40b786d34832\",\"startTime\":1556329340500,\"duration\":3593750,\"timezone\":-5},{\"id\":\"130bdbeb-5c74-469b-9903-fae7e711aef9\",\"startTime\":1556332934250,\"duration\":3593750,\"timezone\":-5},{\"id\":\"1d07d4f5-4a37-4972-b85d-322b21c3b44e\",\"startTime\":1556336528000,\"duration\":3593750,\"timezone\":-5},{\"id\":\"22473d8f-694c-4b05-8ca8-f211b6575c9a\",\"startTime\":1556340121750,\"duration\":3593750,\"timezone\":-5},{\"id\":\"f833f087-5e53-4018-9857-08c479d9d9e5\",\"startTime\":1556343715500,\"duration\":3593750,\"timezone\":-5},{\"id\":\"ba71c7e4-6f1c-489b-b107-68c0eef57046\",\"startTime\":1556347309250,\"duration\":3593750,\"timezone\":-5},{\"id\":\"3d98c554-58a3-4171-9576-1faf714e2102\",\"startTime\":1556350903000,\"duration\":3593750,\"timezone\":-5},{\"id\":\"e2bf8462-8938-4b47-a899-c03c89bd2d8e\",\"startTime\":1556354496750,\"duration\":3593750,\"timezone\":-5},{\"id\":\"42af04e3-3a05-485a-ba01-0f91c1459419\",\"startTime\":1556358090500,\"duration\":3593750,\"timezone\":-5},{\"id\":\"a3ccb557-7b37-40df-9301-5d313be1bb2a\",\"startTime\":1556361684250,\"duration\":3593750,\"timezone\":-5},{\"id\":\"ebe7b93b-995a-40f0-86e9-f76315f77e72\",\"startTime\":1556365278000,\"duration\":3593750,\"timezone\":-5},{\"id\":\"9eb508ba-fc3a-46e7-a235-31f716731247\",\"startTime\":1556368871750,\"duration\":3593750,\"timezone\":-5},{\"id\":\"bfd97b32-be7e-48c9-a9ae-2bc32581189a\",\"startTime\":1556372465500,\"duration\":3593750,\"timezone\":-5},{\"id\":\"9e50ad58-b916-40ad-afb4-06c8b4f2d32a\",\"startTime\":1556376059250,\"duration\":3593750,\"timezone\":-5},{\"id\":\"dfbfad98-616e-4373-baf0-4d1ed4a63864\",\"startTime\":1556379653000,\"duration\":3593750,\"timezone\":-5},{\"id\":\"5adc70d7-4c65-4c75-a23b-edcec25430a6\",\"startTime\":1556383246750,\"duration\":3593750,\"timezone\":-5},{\"id\":\"92063709-f1e3-4fe9-a6e2-ea9b695a83cc\",\"startTime\":1556386840500,\"duration\":3593750,\"timezone\":-5},{\"id\":\"44ab0cb7-ec75-453e-8d15-1b28f808e91d\",\"startTime\":1556390434250,\"duration\":3593750,\"timezone\":-5},{\"id\":\"336f5c69-18b0-4113-a495-8ae7a91d48e6\",\"startTime\":1556394028000,\"duration\":3593750,\"timezone\":-5},{\"id\":\"0928ee8c-d199-42f7-b248-859bb8711191\",\"startTime\":1556397621750,\"duration\":3593750,\"timezone\":-5},{\"id\":\"591a66c2-f990-4e82-9964-0ed5b05f2245\",\"startTime\":1556401215500,\"duration\":3593750,\"timezone\":-5},{\"id\":\"ffbd2184-fa50-4155-b1b3-37bc53a5c75a\",\"startTime\":1556404809250,\"duration\":3593750,\"timezone\":-5},{\"id\":\"9c088e8d-5ba7-4265-a3e7-250a3153262e\",\"startTime\":1556408403000,\"duration\":3593750,\"timezone\":-5},{\"id\":\"a765d99d-6925-49e9-80ce-384e20e2f015\",\"startTime\":1556411996750,\"duration\":3593750,\"timezone\":-5},{\"id\":\"097efd38-f384-4a56-9413-b8cfbf152931\",\"startTime\":1556415590500,\"duration\":3593750,\"timezone\":-5},{\"id\":\"a78e68f1-dabe-4986-b29f-d715f09ae978\",\"startTime\":1556419184250,\"duration\":3593750,\"timezone\":-5},{\"id\":\"b3b76d14-89f9-4389-af5f-3235d8c5f380\",\"startTime\":1556422778000,\"duration\":3593750,\"timezone\":-5},{\"id\":\"5e3a36be-ccc0-41e1-bdc0-472fe651018e\",\"startTime\":1556426371750,\"duration\":3593750,\"timezone\":-5},{\"id\":\"6c185a2c-5c3d-470a-b3d2-5ecc0aa1f8f0\",\"startTime\":1556429965500,\"duration\":3593750,\"timezone\":-5},{\"id\":\"ff8b7225-8384-4303-9957-658208851ba9\",\"startTime\":1556433559250,\"duration\":3593750,\"timezone\":-5},{\"id\":\"a3eb0714-1a88-4bdc-96a7-d521045783d1\",\"startTime\":1556437153000,\"duration\":3593750,\"timezone\":-5},{\"id\":\"c9acee22-7565-46f9-a79b-933cd48cf499\",\"startTime\":1556440746750,\"duration\":3593750,\"timezone\":-5},{\"id\":\"bbe3ea34-4d52-4d29-860e-0671db0f81ed\",\"startTime\":1556444340500,\"duration\":3593750,\"timezone\":-5},{\"id\":\"679a3613-049a-4303-a97a-ac0fb8c1d473\",\"startTime\":1556447934250,\"duration\":3593750,\"timezone\":-5},{\"id\":\"9df117ac-77d8-4b9a-b3d7-c873861c8d4c\",\"startTime\":1556451528000,\"duration\":3593750,\"timezone\":-5},{\"id\":\"74a7d010-07cd-43ce-ad29-33d9ad188aa5\",\"startTime\":1556455121750,\"duration\":3593750,\"timezone\":-5},{\"id\":\"018e7422-64da-4f74-ad44-7a133a858c66\",\"startTime\":1556458715500,\"duration\":3593750,\"timezone\":-5},{\"id\":\"b3968af9-7033-4c60-a120-d578648d0d78\",\"startTime\":1556462309250,\"duration\":3593750,\"timezone\":-5},{\"id\":\"3114d605-b2b9-4f8d-b6b3-bdb83358eb04\",\"startTime\":1556465903000,\"duration\":53000,\"timezone\":-5},{\"id\":\"717bee1c-6c7d-4336-ad6b-e9af0d6d8196\",\"startTime\":1556466011000,\"duration\":3593750,\"timezone\":-5},{\"id\":\"988f8e41-d188-47eb-adfd-0d775a4a4a3c\",\"startTime\":1556469604750,\"duration\":3593750,\"timezone\":-5},{\"id\":\"f02b8ee2-1783-42b8-922a-c4dfc039c36e\",\"startTime\":1556473198500,\"duration\":3593750,\"timezone\":-5},{\"id\":\"b2a618ba-429c-49fb-80d6-814e258b32a2\",\"startTime\":1556476792250,\"duration\":3593750,\"timezone\":-5},{\"id\":\"2132ac8a-e209-43d5-bb80-faf15b09b060\",\"startTime\":1556480386000,\"duration\":3593750,\"timezone\":-5},{\"id\":\"a8962ba0-4350-42d4-b6fb-a409be210e42\",\"startTime\":1556483979750,\"duration\":3593750,\"timezone\":-5},{\"id\":\"54eaafc2-9c09-498a-acce-cc21a4074420\",\"startTime\":1556487573500,\"duration\":3593750,\"timezone\":-5},{\"id\":\"7884107b-dfc6-4a73-8cdb-73673036e2c2\",\"startTime\":1556491167250,\"duration\":3593750,\"timezone\":-5},{\"id\":\"44a18edc-1a6d-4373-9763-e0a08ecde8ed\",\"startTime\":1556494761000,\"duration\":3593750,\"timezone\":-5},{\"id\":\"d36117cb-d92b-4a2c-9d86-fe9245f96e79\",\"startTime\":1556498354750,\"duration\":3593750,\"timezone\":-5},{\"id\":\"46cd8d5a-20ae-4546-806d-cfc7fc12a1a4\",\"startTime\":1556501948500,\"duration\":3593750,\"timezone\":-5},{\"id\":\"d5e4e6e0-28ea-44a1-a938-fdb1e4b56fe3\",\"startTime\":1556505542250,\"duration\":3593750,\"timezone\":-5},{\"id\":\"ec93ceeb-e13f-417d-8732-5c30597de9e6\",\"startTime\":1556509136000,\"duration\":3593750,\"timezone\":-5},{\"id\":\"d00f4480-013c-40b0-b1f7-1e0e313ed30a\",\"startTime\":1556512729750,\"duration\":3593750,\"timezone\":-5},{\"id\":\"0cf837b3-70f6-416a-8bcb-44abe224f81a\",\"startTime\":1556516323500,\"duration\":3593750,\"timezone\":-5},{\"id\":\"f2562ecf-db73-4f10-88a2-4d909fe917f1\",\"startTime\":1556519917250,\"duration\":3593750,\"timezone\":-5},{\"id\":\"e17672d9-1323-4802-8c5e-26b9391a6c9a\",\"startTime\":1556523511000,\"duration\":3593750,\"timezone\":-5},{\"id\":\"73e1359d-6ff3-49dc-97fa-6ea5759d039e\",\"startTime\":1556527104750,\"duration\":3593750,\"timezone\":-5},{\"id\":\"71616c33-699c-4260-b014-726391c35692\",\"startTime\":1556530698500,\"duration\":3593750,\"timezone\":-5},{\"id\":\"249057ca-4f04-43a1-a73d-7277a283f28b\",\"startTime\":1556534292250,\"duration\":3593750,\"timezone\":-5},{\"id\":\"b46d16bc-efa9-409e-9502-8cf588251d20\",\"startTime\":1556537886000,\"duration\":3593750,\"timezone\":-5},{\"id\":\"c0e90ffe-8597-4554-a441-dcc80f5f5343\",\"startTime\":1556541479750,\"duration\":3593750,\"timezone\":-5},{\"id\":\"3fa52933-f61d-4260-b3b7-5835e11afac6\",\"startTime\":1556545073500,\"duration\":3593750,\"timezone\":-5},{\"id\":\"85b6d232-b473-432c-8a76-f1a99e272a44\",\"startTime\":1556548667250,\"duration\":3593750,\"timezone\":-5},{\"id\":\"5cb54a8f-3b73-42ec-ab47-d41f56198400\",\"startTime\":1556552261000,\"duration\":3593750,\"timezone\":-5},{\"id\":\"af2a7db8-8005-4659-85b8-a5dec6523e1a\",\"startTime\":1556555854750,\"duration\":3593750,\"timezone\":-5},{\"id\":\"3e7bb31d-0086-43ba-9372-632a76f92ccf\",\"startTime\":1556559448500,\"duration\":157500,\"timezone\":-5}],\"channels\":[{\"id\":\"811b5224-5ee9-4f8f-8c13-78ce44fee6a0\",\"name\":\"HR\",\"channelType\":{\"name\":\"Generic\",\"category\":\"generic\"}}]},{\"id\":\"c6a43b75-61af-4639-8f8a-67bbfb1414c4\",\"name\":\"Empatica-TEMP\",\"sampleRate\":128,\"samplesPerRecord\":1000,\"recordLength\":7.8125,\"chunkPeriod\":78.125,\"recordsPerChunk\":10,\"sampleEncoding\":\"int16\",\"compression\":\"gzip\",\"signalMin\":29.35,\"signalMax\":36.75,\"units\":\"\",\"exponent\":9,\"timestamped\":false,\"channelGroupType\":{\"id\":\"generic\"},\"segments\":[{\"id\":\"0c60dc8c-b4ce-4085-b843-f32d75ddea1a\",\"startTime\":1556307768000,\"duration\":3593750,\"timezone\":-5},{\"id\":\"1800a0c1-a59a-4469-b39c-38c3416c4f98\",\"startTime\":1556311361750,\"duration\":3230578.125,\"timezone\":-5},{\"id\":\"9919e88c-d07f-45fa-a1ea-737bf1d18d5b\",\"startTime\":1556314593085.9375,\"duration\":5242.1875,\"timezone\":-5},{\"id\":\"41138183-049f-4286-8ecc-dbcc803d20b5\",\"startTime\":1556314599085.9375,\"duration\":1242.1875,\"timezone\":-5},{\"id\":\"0ef8e026-b40a-4d1c-a0e0-28b45ab77972\",\"startTime\":1556314601078.125,\"duration\":5250,\"timezone\":-5},{\"id\":\"0e0bfaec-48ee-4b42-9f40-af9078a73a24\",\"startTime\":1556314607078.125,\"duration\":166234.375,\"timezone\":-5},{\"id\":\"e2af4dd3-f81a-4e25-a1de-31a66dab6636\",\"startTime\":1556314774062.5,\"duration\":5250,\"timezone\":-5},{\"id\":\"1818cff9-59e9-412a-afa0-d3126d90cab4\",\"startTime\":1556314780062.5,\"duration\":1250,\"timezone\":-5},{\"id\":\"87a6c7ab-0b2d-4b97-915a-24280fa0d97d\",\"startTime\":1556314782062.5,\"duration\":82242.1875,\"timezone\":-5},{\"id\":\"90d3ce8a-0d0f-49e5-8af4-8d1f33f7378e\",\"startTime\":1556314866054.6875,\"duration\":3250,\"timezone\":-5},{\"id\":\"d1fee4e0-e903-48ea-a2f3-639175730f54\",\"startTime\":1556314872054.6875,\"duration\":2250,\"timezone\":-5},{\"id\":\"5d557d82-cbb3-4258-bb2a-a379a6b3a6fb\",\"startTime\":1556314876054.6875,\"duration\":1250,\"timezone\":-5},{\"id\":\"a671b38f-2c40-44f8-9337-53fba4be1a78\",\"startTime\":1556314880054.6875,\"duration\":2250,\"timezone\":-5},{\"id\":\"6aefd647-b242-488c-9ee8-530a1aff64f6\",\"startTime\":1556314885054.6875,\"duration\":2242.1875,\"timezone\":-5},{\"id\":\"ad33ef59-3bf3-4a31-9398-dfbc8f272e49\",\"startTime\":1556314888054.6875,\"duration\":1242.1875,\"timezone\":-5},{\"id\":\"fbd505a5-04b8-4b18-864c-fe0c86e8d3d4\",\"startTime\":1556314890054.6875,\"duration\":2242.1875,\"timezone\":-5},{\"id\":\"cec001d5-ccf2-4651-a850-9ea73b98d9f3\",\"startTime\":1556314894054.6875,\"duration\":3250,\"timezone\":-5},{\"id\":\"80bd146b-8791-4a74-9a41-fdc03651dffd\",\"startTime\":1556314898054.6875,\"duration\":2242.1875,\"timezone\":-5},{\"id\":\"99cdd7eb-3d8d-4dc2-86fc-6988df940be5\",\"startTime\":1556314901054.6875,\"duration\":1250,\"timezone\":-5},{\"id\":\"232f9871-400c-47e9-9105-9db76e45e7c7\",\"startTime\":1556314903054.6875,\"duration\":1242.1875,\"timezone\":-5},{\"id\":\"748112c2-6391-4c1e-8679-6e8c4856ad79\",\"startTime\":1556314905054.6875,\"duration\":6242.1875,\"timezone\":-5},{\"id\":\"217137da-2b33-4eb9-ac17-3fe041e22faa\",\"startTime\":1556314912046.875,\"duration\":43453.125,\"timezone\":-5},{\"id\":\"ad745b13-5354-4448-a99b-e1f43254d971\",\"startTime\":1556314955500,\"duration\":4796.875,\"timezone\":-5},{\"id\":\"64b8b2f7-7713-47fc-806d-40339a31aa0c\",\"startTime\":1556314961046.875,\"duration\":1018148.4375,\"timezone\":-5},{\"id\":\"36ec10c3-95e3-46d6-b92d-bb61d0e2dc23\",\"startTime\":1556315979945.3125,\"duration\":3250,\"timezone\":-5},{\"id\":\"ba70d6e7-fe79-4187-92ef-5d9f9384f21b\",\"startTime\":1556315983945.3125,\"duration\":98242.1875,\"timezone\":-5},{\"id\":\"e4916386-b703-46b7-a0d7-f750672b7aff\",\"startTime\":1556316082937.5,\"duration\":4250,\"timezone\":-5},{\"id\":\"2f4bed42-a454-4944-ba7b-6fd7d055d9e8\",\"startTime\":1556316087937.5,\"duration\":4242.1875,\"timezone\":-5},{\"id\":\"e9119af2-e3aa-4117-9680-02222b611921\",\"startTime\":1556316092937.5,\"duration\":2242.1875,\"timezone\":-5},{\"id\":\"bd84c347-2d73-41e1-a78a-37649f95a14a\",\"startTime\":1556316095937.5,\"duration\":4242.1875,\"timezone\":-5},{\"id\":\"7c812db2-1bac-4e05-8a3d-81071121592b\",\"startTime\":1556316101937.5,\"duration\":1242.1875,\"timezone\":-5},{\"id\":\"eae04f99-2a9d-4e56-8542-d24b26688560\",\"startTime\":1556316103937.5,\"duration\":5242.1875,\"timezone\":-5},{\"id\":\"59c8f1c2-2ae1-469e-b3a9-2c997e585558\",\"startTime\":1556316109937.5,\"duration\":4242.1875,\"timezone\":-5},{\"id\":\"a3b4f317-456e-4770-a3e1-ce49f38cebed\",\"startTime\":1556316115937.5,\"duration\":2242.1875,\"timezone\":-5},{\"id\":\"c0daf061-57e4-40dc-80b7-71280d269cbe\",\"startTime\":1556316118929.6875,\"duration\":2250,\"timezone\":-5},{\"id\":\"f10df3a3-85f2-4bc4-9b37-ee3dbc7f6d10\",\"startTime\":1556316121929.6875,\"duration\":1250,\"timezone\":-5},{\"id\":\"735d21b1-a0a0-445a-b725-8150da40c71f\",\"startTime\":1556316124929.6875,\"duration\":99242.1875,\"timezone\":-5},{\"id\":\"6f72df94-6d77-4eae-8e5c-a9bb786b1f55\",\"startTime\":1556316224921.875,\"duration\":1250,\"timezone\":-5},{\"id\":\"7cc9c5a5-223c-46f4-a7e2-ac9a26d764fe\",\"startTime\":1556316227921.875,\"duration\":2250,\"timezone\":-5},{\"id\":\"e949a6cb-b189-4cd3-96ef-fce6f47c5105\",\"startTime\":1556316230921.875,\"duration\":2250,\"timezone\":-5},{\"id\":\"6ec95d86-81e0-4e32-b453-08c28ce52827\",\"startTime\":1556316235921.875,\"duration\":5250,\"timezone\":-5},{\"id\":\"b245be06-fe5e-4d16-b3a2-0333fdf1182f\",\"startTime\":1556316241921.875,\"duration\":2307328.125,\"timezone\":-5},{\"id\":\"c3897f55-b4f4-410a-995f-78c89b72f3e5\",\"startTime\":1556318549250,\"duration\":3593750,\"timezone\":-5},{\"id\":\"8d3b0fea-3284-48ff-8010-7e72b21339d7\",\"startTime\":1556322143000,\"duration\":39585.9375,\"timezone\":-5},{\"id\":\"b86eee61-7a50-454a-9348-7110dc381448\",\"startTime\":1556322183335.9375,\"duration\":696179.6875,\"timezone\":-5},{\"id\":\"0d9dba81-c7db-4e30-900e-d483017a9214\",\"startTime\":1556322880265.625,\"duration\":5250,\"timezone\":-5},{\"id\":\"f7c53998-6bd7-4c81-ab30-144efeb6f9fe\",\"startTime\":1556322886265.625,\"duration\":2250,\"timezone\":-5},{\"id\":\"8a1212b5-ed6b-4bac-8122-8f77eda5986b\",\"startTime\":1556322889265.625,\"duration\":3250,\"timezone\":-5},{\"id\":\"843b0e40-e82d-4cb9-ab9c-cdc565a0ebef\",\"startTime\":1556322896265.625,\"duration\":3250,\"timezone\":-5},{\"id\":\"d0e47951-0b09-4b80-916a-ab2312850e2f\",\"startTime\":1556322901265.625,\"duration\":2835484.375,\"timezone\":-5},{\"id\":\"6bd542e7-78d1-402e-aff2-d8a37ba379c9\",\"startTime\":1556325736750,\"duration\":3593750,\"timezone\":-5},{\"id\":\"ac525612-18d3-49ab-b0d7-52ae7f6a2ff1\",\"startTime\":1556329330500,\"duration\":2082171.875,\"timezone\":-5},{\"id\":\"6ce392ca-f8ce-4e4c-b497-1dfbbaba55b4\",\"startTime\":1556331413429.6875,\"duration\":1242.1875,\"timezone\":-5},{\"id\":\"8e7d3969-5a09-4297-9edf-e8e7d6f8ab5f\",\"startTime\":1556331416429.6875,\"duration\":34242.1875,\"timezone\":-5},{\"id\":\"46af5afb-3e63-4f72-a951-56e4115a708d\",\"startTime\":1556331451421.875,\"duration\":1472828.125,\"timezone\":-5},{\"id\":\"f797400a-0aa3-4a7b-8a96-130fc15761e6\",\"startTime\":1556332924250,\"duration\":1043171.875,\"timezone\":-5},{\"id\":\"f8f55a8c-ffa5-4b76-a22d-4d2fbf9960c9\",\"startTime\":1556333968171.875,\"duration\":1250,\"timezone\":-5},{\"id\":\"0649c468-f74f-407a-ba2c-d1ce4d293b67\",\"startTime\":1556333974171.875,\"duration\":1250,\"timezone\":-5},{\"id\":\"2b93f8f0-eb0e-41eb-ba1f-1fe7066db0f5\",\"startTime\":1556333976171.875,\"duration\":1250,\"timezone\":-5},{\"id\":\"9faae92d-60ce-41a1-beeb-672cdf47f717\",\"startTime\":1556333978171.875,\"duration\":176234.375,\"timezone\":-5},{\"id\":\"34b50863-c4db-457c-b455-fc3d71c25f20\",\"startTime\":1556334156156.25,\"duration\":15250,\"timezone\":-5},{\"id\":\"b9be35d5-80f2-40e3-8b3a-55f6fecb0a39\",\"startTime\":1556334173156.25,\"duration\":3242.1875,\"timezone\":-5},{\"id\":\"9cc04fb5-f221-421c-827f-5766bd86e01f\",\"startTime\":1556334180156.25,\"duration\":130234.375,\"timezone\":-5},{\"id\":\"ac68e468-2644-4274-93de-d0098f09cdfb\",\"startTime\":1556334311140.625,\"duration\":2206859.375,\"timezone\":-5},{\"id\":\"42a81d96-b99d-4108-a92a-a40f22f7b2bd\",\"startTime\":1556336518000,\"duration\":3593750,\"timezone\":-5},{\"id\":\"10f016b6-de9f-4e1c-a827-e2a2030511f9\",\"startTime\":1556340111750,\"duration\":3593750,\"timezone\":-5},{\"id\":\"6c5dc546-407e-4fcc-bae9-aec5ef25e853\",\"startTime\":1556343705500,\"duration\":3593750,\"timezone\":-5},{\"id\":\"3cc38428-478a-445f-b289-df64fead6d67\",\"startTime\":1556347299250,\"duration\":3593750,\"timezone\":-5},{\"id\":\"7455e833-327a-4526-aa5d-eb8c4eef8548\",\"startTime\":1556350893000,\"duration\":3593750,\"timezone\":-5},{\"id\":\"b9f51f76-5916-48f1-a8b6-0d7c62724b08\",\"startTime\":1556354486750,\"duration\":3593750,\"timezone\":-5},{\"id\":\"5d88ebe7-8377-45b9-b947-7a20c07b6c35\",\"startTime\":1556358080500,\"duration\":3593750,\"timezone\":-5},{\"id\":\"a9a3a58b-6e4c-487b-a696-334dc99b1f84\",\"startTime\":1556361674250,\"duration\":3593750,\"timezone\":-5},{\"id\":\"78a9a076-1075-475f-a7d6-f403aa8bc1c3\",\"startTime\":1556365268000,\"duration\":3003046.875,\"timezone\":-5},{\"id\":\"b87324af-f3cd-4674-81ff-a5ab8efd83d0\",\"startTime\":1556368271796.875,\"duration\":1242.1875,\"timezone\":-5},{\"id\":\"ad5e8c67-4b53-46e6-84b7-2488d667093c\",\"startTime\":1556368274796.875,\"duration\":232226.5625,\"timezone\":-5},{\"id\":\"830ab9dd-e0bb-4fdf-80ad-b8017565ee06\",\"startTime\":1556368507773.4375,\"duration\":36242.1875,\"timezone\":-5},{\"id\":\"a78d3ca6-c6cb-42b3-abac-8e37e95b8470\",\"startTime\":1556368544765.625,\"duration\":45250,\"timezone\":-5},{\"id\":\"ccd30996-d644-417d-9316-4cb94c3fb796\",\"startTime\":1556368591765.625,\"duration\":7250,\"timezone\":-5},{\"id\":\"937b720d-22f5-4ff2-89a8-961b513e07ac\",\"startTime\":1556368600765.625,\"duration\":87234.375,\"timezone\":-5},{\"id\":\"0dc58083-d69e-4bdb-a05c-e6b4ed682af7\",\"startTime\":1556368688757.8125,\"duration\":136234.375,\"timezone\":-5},{\"id\":\"91b27ce5-9eb2-447f-b489-911a8a460d23\",\"startTime\":1556368825742.1875,\"duration\":1242.1875,\"timezone\":-5},{\"id\":\"04ec86fd-d716-489a-9ab3-974fb2567766\",\"startTime\":1556368827742.1875,\"duration\":1242.1875,\"timezone\":-5},{\"id\":\"1bf42e0a-d31e-43da-9dcb-06060948c70e\",\"startTime\":1556368830742.1875,\"duration\":11250,\"timezone\":-5},{\"id\":\"1ce0832f-8bb7-42ab-83fc-250e8187b8bd\",\"startTime\":1556368842742.1875,\"duration\":2242.1875,\"timezone\":-5},{\"id\":\"3bf971dc-209d-4e71-ab25-4a923d1f908d\",\"startTime\":1556368845742.1875,\"duration\":16007.8125,\"timezone\":-5},{\"id\":\"728d14a1-ab86-4f93-a666-8c966e49f4e1\",\"startTime\":1556368861750,\"duration\":1805054.6875,\"timezone\":-5},{\"id\":\"75fff632-dd82-4d29-9067-94a877029d74\",\"startTime\":1556370668562.5,\"duration\":1242.1875,\"timezone\":-5},{\"id\":\"d08d5676-d1c9-47f7-be7a-c9ebe05567e0\",\"startTime\":1556370672562.5,\"duration\":1038140.625,\"timezone\":-5},{\"id\":\"e26e21bc-e6fd-4c1c-b024-abdc7b52afbc\",\"startTime\":1556371713453.125,\"duration\":9250,\"timezone\":-5},{\"id\":\"5628bce1-8783-4043-b126-967a4efd1ee5\",\"startTime\":1556371723453.125,\"duration\":732046.875,\"timezone\":-5},{\"id\":\"ef20f0b4-7e86-434f-a8bc-2bdbd2f688e6\",\"startTime\":1556372455500,\"duration\":578078.125,\"timezone\":-5},{\"id\":\"6cd2b569-0a78-41c3-b8b6-d9d3d03860f4\",\"startTime\":1556373034328.125,\"duration\":32242.1875,\"timezone\":-5},{\"id\":\"c65fc4a9-bbd5-47fb-9442-dd6105a27514\",\"startTime\":1556373069320.3125,\"duration\":46242.1875,\"timezone\":-5},{\"id\":\"26583a78-0331-4a08-8c67-3303b523cc98\",\"startTime\":1556373116320.3125,\"duration\":1242.1875,\"timezone\":-5},{\"id\":\"b5d7be1c-76d2-44c6-8b73-319e8d33ed30\",\"startTime\":1556373118320.3125,\"duration\":29242.1875,\"timezone\":-5},{\"id\":\"a92e3f32-ea10-46b6-b29e-4fc9bed56218\",\"startTime\":1556373149312.5,\"duration\":90242.1875,\"timezone\":-5},{\"id\":\"b37ea25f-39ae-4536-88ff-ec373bc32f29\",\"startTime\":1556373240304.6875,\"duration\":3250,\"timezone\":-5},{\"id\":\"de2363bc-de02-479e-9695-d35e185f98ac\",\"startTime\":1556373246304.6875,\"duration\":5250,\"timezone\":-5},{\"id\":\"19c79b33-f20d-4765-9864-c19f02508b92\",\"startTime\":1556373252304.6875,\"duration\":1250,\"timezone\":-5},{\"id\":\"58a2671c-6b55-4a62-97c2-60c5fc4ec622\",\"startTime\":1556373254304.6875,\"duration\":1250,\"timezone\":-5},{\"id\":\"9364eaf7-29e3-4aeb-b2ce-9aeaa3afc48c\",\"startTime\":1556373256304.6875,\"duration\":1250,\"timezone\":-5},{\"id\":\"ba582172-6d31-473f-9081-03f7e586df36\",\"startTime\":1556373258304.6875,\"duration\":2250,\"timezone\":-5},{\"id\":\"eb60da48-7a4e-4e1e-9560-9e439b217625\",\"startTime\":1556373261304.6875,\"duration\":11242.1875,\"timezone\":-5},{\"id\":\"865f5f2f-7e8d-4113-a2c1-b47c6024ddc6\",\"startTime\":1556373273304.6875,\"duration\":12250,\"timezone\":-5},{\"id\":\"2c3128cb-51a6-465f-9c30-cc18241b1e52\",\"startTime\":1556373286304.6875,\"duration\":14242.1875,\"timezone\":-5},{\"id\":\"2b51dca4-a80a-4c23-b6d0-e8c8b1da2354\",\"startTime\":1556373301296.875,\"duration\":46242.1875,\"timezone\":-5},{\"id\":\"fee08b02-d852-480e-9815-35bcad825454\",\"startTime\":1556373349296.875,\"duration\":771171.875,\"timezone\":-5},{\"id\":\"27dfc46d-2728-4aeb-851a-b2a72462e112\",\"startTime\":1556374121218.75,\"duration\":27242.1875,\"timezone\":-5},{\"id\":\"2ff91d07-be86-4e0c-941c-e18a8fe4c37e\",\"startTime\":1556374150218.75,\"duration\":9242.1875,\"timezone\":-5},{\"id\":\"625565e5-3daf-4c33-ae69-a1a68eb54ef2\",\"startTime\":1556374160218.75,\"duration\":3242.1875,\"timezone\":-5},{\"id\":\"7f767cfe-eca4-408c-be24-669bb9bd351f\",\"startTime\":1556374164218.75,\"duration\":8242.1875,\"timezone\":-5},{\"id\":\"147afb72-db1d-4871-9b6b-3facc41d3ccf\",\"startTime\":1556374173218.75,\"duration\":5242.1875,\"timezone\":-5},{\"id\":\"5a8745f9-5670-4a6d-b63a-03acfda4cb15\",\"startTime\":1556374179210.9375,\"duration\":65242.1875,\"timezone\":-5},{\"id\":\"a345cca8-0c75-454f-a407-112e0e5b76da\",\"startTime\":1556374245210.9375,\"duration\":4242.1875,\"timezone\":-5},{\"id\":\"79d0d541-234c-4157-a676-c45d684d959d\",\"startTime\":1556374250210.9375,\"duration\":1242.1875,\"timezone\":-5},{\"id\":\"3433049d-dc3e-46b7-a987-c22a0871faa1\",\"startTime\":1556374253203.125,\"duration\":1250,\"timezone\":-5},{\"id\":\"61f58e4e-a624-4ad7-9ad1-7aa6abdbc524\",\"startTime\":1556374257203.125,\"duration\":1250,\"timezone\":-5},{\"id\":\"ca1e1ea9-3a1c-4270-b5bd-152fa5c50212\",\"startTime\":1556374261210.9375,\"duration\":138226.5625,\"timezone\":-5},{\"id\":\"bf08e89b-f07a-4358-acd9-0e89a654c26a\",\"startTime\":1556374400195.3125,\"duration\":1242.1875,\"timezone\":-5},{\"id\":\"acaac008-797c-41a1-9428-be1c62f2d54e\",\"startTime\":1556374403195.3125,\"duration\":1242.1875,\"timezone\":-5},{\"id\":\"01da4108-3580-4bb2-a2f4-ae6845dad8ee\",\"startTime\":1556374405195.3125,\"duration\":350210.9375,\"timezone\":-5},{\"id\":\"fbdd4786-205f-436b-a12b-f95bfcbc6bfb\",\"startTime\":1556374756156.25,\"duration\":4250,\"timezone\":-5},{\"id\":\"f7f3c7f7-7264-48ad-82d9-27dbfbc4ad28\",\"startTime\":1556374761156.25,\"duration\":2250,\"timezone\":-5},{\"id\":\"2b6b35dd-d954-4673-be72-529accc3a6d1\",\"startTime\":1556374765156.25,\"duration\":1250,\"timezone\":-5},{\"id\":\"92d18e1a-3ce1-4fa2-9f70-690882f19150\",\"startTime\":1556374768156.25,\"duration\":10250,\"timezone\":-5},{\"id\":\"8b7f5f97-c450-4263-9dbb-a461b24a8aaa\",\"startTime\":1556374779156.25,\"duration\":35242.1875,\"timezone\":-5},{\"id\":\"408e788d-122c-4d53-a996-b2ac9b6dcadb\",\"startTime\":1556374815148.4375,\"duration\":84242.1875,\"timezone\":-5},{\"id\":\"6a492518-9a27-444a-95f1-5ab1e035328f\",\"startTime\":1556374900140.625,\"duration\":658187.5,\"timezone\":-5},{\"id\":\"26f93339-1631-4bc3-a631-e40084a17f23\",\"startTime\":1556375559078.125,\"duration\":4250,\"timezone\":-5},{\"id\":\"0589e7a5-0aa9-41d1-b55e-69b890638e7c\",\"startTime\":1556375564078.125,\"duration\":72242.1875,\"timezone\":-5},{\"id\":\"bb9a8757-7fea-4c9f-97f8-98a81377c858\",\"startTime\":1556375637070.3125,\"duration\":5250,\"timezone\":-5},{\"id\":\"d0de046b-c803-4355-81ee-40376560d416\",\"startTime\":1556375643070.3125,\"duration\":2250,\"timezone\":-5},{\"id\":\"3fc5e142-3ac1-4341-ad78-dfb175bd6a4b\",\"startTime\":1556375647070.3125,\"duration\":2242.1875,\"timezone\":-5},{\"id\":\"658996e7-7ee0-4898-a84a-4c22f9c14143\",\"startTime\":1556375650070.3125,\"duration\":1242.1875,\"timezone\":-5},{\"id\":\"fc0d5721-e7a4-4dae-afb9-04d3f058de6f\",\"startTime\":1556375652070.3125,\"duration\":4250,\"timezone\":-5},{\"id\":\"986b6abb-f0f0-4af2-b26b-9e83333bc225\",\"startTime\":1556375657070.3125,\"duration\":1242.1875,\"timezone\":-5},{\"id\":\"e1ee815d-847b-44b1-9b13-7513a3945955\",\"startTime\":1556375659070.3125,\"duration\":390179.6875,\"timezone\":-5},{\"id\":\"546838c3-5b68-4493-ad98-791378701638\",\"startTime\":1556376049250,\"duration\":3593750,\"timezone\":-5},{\"id\":\"76291cac-5993-436f-a352-caef9d0618bb\",\"startTime\":1556379643000,\"duration\":1757750,\"timezone\":-5},{\"id\":\"d33c0683-5b2e-4492-b1d0-bda841acf5e4\",\"startTime\":1556381401500,\"duration\":1250,\"timezone\":-5},{\"id\":\"66f83b9f-95b9-4586-be80-18467f825505\",\"startTime\":1556381404500,\"duration\":2250,\"timezone\":-5},{\"id\":\"69576ad6-8942-406b-baeb-124de1f9585c\",\"startTime\":1556381407500,\"duration\":1250,\"timezone\":-5},{\"id\":\"73882494-d842-4f8e-980b-ded479bec070\",\"startTime\":1556381409500,\"duration\":1250,\"timezone\":-5},{\"id\":\"b65d852b-f255-4726-9e6c-a92f58f71ae9\",\"startTime\":1556381415500,\"duration\":2250,\"timezone\":-5},{\"id\":\"32ec4371-8fa6-4d7f-9d74-b20a46dbfc71\",\"startTime\":1556381419500,\"duration\":1250,\"timezone\":-5},{\"id\":\"b5d4e614-413d-4df5-a2a6-8ee8568e4283\",\"startTime\":1556381421500,\"duration\":2250,\"timezone\":-5},{\"id\":\"964f82bb-1873-4264-89c4-368446627892\",\"startTime\":1556381424500,\"duration\":5250,\"timezone\":-5},{\"id\":\"1cf83c6a-630f-440e-a2a0-0c86f91df62f\",\"startTime\":1556381431500,\"duration\":53242.1875,\"timezone\":-5},{\"id\":\"81cfb33d-ddb4-4abc-ac19-f3b92584b137\",\"startTime\":1556381486492.1875,\"duration\":13250,\"timezone\":-5},{\"id\":\"18976d4d-d2c6-46c5-a41d-017b1a946528\",\"startTime\":1556381500492.1875,\"duration\":93242.1875,\"timezone\":-5},{\"id\":\"9de5ea28-bbd4-43c0-8f6f-c325fd1b063c\",\"startTime\":1556381596484.375,\"duration\":1250,\"timezone\":-5},{\"id\":\"e5db5957-cc25-4e09-bf76-281f69365552\",\"startTime\":1556381598484.375,\"duration\":1638265.625,\"timezone\":-5},{\"id\":\"6da0cb3d-bd54-4bc4-88db-ef6c4ccfd383\",\"startTime\":1556383236750,\"duration\":3593750,\"timezone\":-5},{\"id\":\"e0ed515a-077e-4db2-97f3-affe0b28896c\",\"startTime\":1556386830500,\"duration\":1081609.375,\"timezone\":-5},{\"id\":\"b0a61f74-d849-47e9-bf31-96a7fbde7b3c\",\"startTime\":1556387912859.375,\"duration\":27250,\"timezone\":-5},{\"id\":\"e6eb8720-4109-4718-82e8-ee0a3edfc036\",\"startTime\":1556387940859.375,\"duration\":2250,\"timezone\":-5},{\"id\":\"87e16277-31ec-40bf-a253-1556e57b1e7f\",\"startTime\":1556387943859.375,\"duration\":1250,\"timezone\":-5},{\"id\":\"e06b1a61-23fa-4b14-9695-48a070861c21\",\"startTime\":1556387946859.375,\"duration\":2242.1875,\"timezone\":-5},{\"id\":\"8e3b3bdc-74b8-477f-b33f-aa9501c987f7\",\"startTime\":1556387953859.375,\"duration\":2250,\"timezone\":-5},{\"id\":\"6d602aac-d030-4d0e-8e69-5ee22428b6a7\",\"startTime\":1556387956859.375,\"duration\":10242.1875,\"timezone\":-5},{\"id\":\"9efd4e5f-7b87-446e-8e00-b2f42c1f3b40\",\"startTime\":1556387969859.375,\"duration\":1242.1875,\"timezone\":-5},{\"id\":\"4b818ff4-29b2-4905-aaf5-c6d7395296eb\",\"startTime\":1556387971859.375,\"duration\":7242.1875,\"timezone\":-5},{\"id\":\"ff962589-73a4-4ba4-b955-48a088c6a5fa\",\"startTime\":1556387979851.5625,\"duration\":1250,\"timezone\":-5},{\"id\":\"ba1a36d3-bfeb-4522-b195-19301e2d013d\",\"startTime\":1556387982859.375,\"duration\":9242.1875,\"timezone\":-5},{\"id\":\"8db0e2d1-6ac0-4b69-ad7d-1f366884bebd\",\"startTime\":1556387996851.5625,\"duration\":1250,\"timezone\":-5},{\"id\":\"1b51d554-7d63-4cc0-aeee-4a70a667d23b\",\"startTime\":1556387999851.5625,\"duration\":2250,\"timezone\":-5},{\"id\":\"0d9a3374-dc42-4caf-b693-2b7c292056bd\",\"startTime\":1556388002851.5625,\"duration\":84242.1875,\"timezone\":-5},{\"id\":\"65e47a34-2f21-4590-8995-b1632db2ffb2\",\"startTime\":1556388087843.75,\"duration\":6250,\"timezone\":-5},{\"id\":\"a3bfb6f5-ba5c-4362-be3d-1a86140e2564\",\"startTime\":1556388094843.75,\"duration\":7242.1875,\"timezone\":-5},{\"id\":\"7d5d20e5-7d9a-4e1c-8884-2d47e0d10ddb\",\"startTime\":1556388102843.75,\"duration\":4242.1875,\"timezone\":-5},{\"id\":\"4ed5d4d8-9d7e-447e-8081-caca603cdd56\",\"startTime\":1556388107843.75,\"duration\":3242.1875,\"timezone\":-5},{\"id\":\"a563e845-a57b-45a0-98f2-6c8e7e55fdc0\",\"startTime\":1556388111843.75,\"duration\":8242.1875,\"timezone\":-5},{\"id\":\"95d5e227-1cce-4fba-af79-a6ccce5e5298\",\"startTime\":1556388120843.75,\"duration\":3242.1875,\"timezone\":-5},{\"id\":\"6a538a6f-f632-4476-8ce7-9c5519932078\",\"startTime\":1556388124843.75,\"duration\":1242.1875,\"timezone\":-5},{\"id\":\"dad4e065-77c5-4620-9a79-3e18f81845ba\",\"startTime\":1556388126843.75,\"duration\":1242.1875,\"timezone\":-5},{\"id\":\"689e23f8-9bc9-49c0-bf01-e4be0fe18283\",\"startTime\":1556388129835.9375,\"duration\":23250,\"timezone\":-5},{\"id\":\"27c05b04-55ff-48f9-b24e-0caef4a3fc63\",\"startTime\":1556388153835.9375,\"duration\":7250,\"timezone\":-5},{\"id\":\"8b9b74c5-65a7-40c3-a3e4-6db4aae509d5\",\"startTime\":1556388162835.9375,\"duration\":4250,\"timezone\":-5},{\"id\":\"4d1fdcd8-d787-46e0-a19f-7a497142d130\",\"startTime\":1556388167835.9375,\"duration\":2250,\"timezone\":-5},{\"id\":\"ab889164-089c-44c1-8abd-3a8dcd9ee7a1\",\"startTime\":1556388170835.9375,\"duration\":3250,\"timezone\":-5},{\"id\":\"b633ecf5-e76e-4078-9620-6da3c7b32c5e\",\"startTime\":1556388177835.9375,\"duration\":2250,\"timezone\":-5},{\"id\":\"4ab4e275-6cb8-4fc8-a930-32c8a4a3773c\",\"startTime\":1556388181835.9375,\"duration\":1250,\"timezone\":-5},{\"id\":\"0d4ad17a-1a15-4d1f-a4f7-1f9eca253258\",\"startTime\":1556388184835.9375,\"duration\":1250,\"timezone\":-5},{\"id\":\"4f358ee6-c99c-4ac8-81ba-495e4464aeb1\",\"startTime\":1556388186835.9375,\"duration\":1250,\"timezone\":-5},{\"id\":\"c532705e-c837-4da4-be1b-332514630d62\",\"startTime\":1556388188835.9375,\"duration\":1250,\"timezone\":-5},{\"id\":\"4413cb5d-941c-42fc-8afe-4fd0f7cb200d\",\"startTime\":1556388190835.9375,\"duration\":1250,\"timezone\":-5},{\"id\":\"283b997b-5b12-42f5-92a2-aca5a6944ff6\",\"startTime\":1556388192835.9375,\"duration\":3242.1875,\"timezone\":-5},{\"id\":\"1e571a3e-fffc-4c82-87e4-87e27ef24251\",\"startTime\":1556388196835.9375,\"duration\":6242.1875,\"timezone\":-5},{\"id\":\"c90bff0f-6a7a-4eb1-baf5-4f9ee32eaa34\",\"startTime\":1556388203835.9375,\"duration\":3242.1875,\"timezone\":-5},{\"id\":\"91b49c8d-7466-4595-a49a-2e680cf74c1e\",\"startTime\":1556388207835.9375,\"duration\":2242.1875,\"timezone\":-5},{\"id\":\"ca7a97ed-e032-4ea6-b5e3-2817d895a89d\",\"startTime\":1556388211828.125,\"duration\":110242.1875,\"timezone\":-5},{\"id\":\"fb1d7260-4963-4ce8-bbcd-291137f3aed5\",\"startTime\":1556388322820.3125,\"duration\":1250,\"timezone\":-5},{\"id\":\"535e578f-f8be-4bd1-808c-da3fbcadd426\",\"startTime\":1556388324820.3125,\"duration\":2250,\"timezone\":-5},{\"id\":\"47ace0b2-3b14-4acd-b506-1fc458c82efb\",\"startTime\":1556388327820.3125,\"duration\":2250,\"timezone\":-5},{\"id\":\"f9d2c2b4-8273-481a-88d4-7a69c0f9fe75\",\"startTime\":1556388330820.3125,\"duration\":2250,\"timezone\":-5},{\"id\":\"2bd9589b-986c-4fa5-ab23-aef2bc324c48\",\"startTime\":1556388334820.3125,\"duration\":6242.1875,\"timezone\":-5},{\"id\":\"2b9018ce-8a57-408a-9ec0-7cb836464938\",\"startTime\":1556388341820.3125,\"duration\":1242.1875,\"timezone\":-5},{\"id\":\"4dc5b54a-4b1a-486c-a4c6-31c66356da65\",\"startTime\":1556388343820.3125,\"duration\":2250,\"timezone\":-5},{\"id\":\"2517cbfc-30b1-4b7e-a8f5-f3540b218b7a\",\"startTime\":1556388349820.3125,\"duration\":1250,\"timezone\":-5},{\"id\":\"ea42c8e9-1f21-4057-ba09-7ec708fc0fd9\",\"startTime\":1556388352820.3125,\"duration\":5242.1875,\"timezone\":-5},{\"id\":\"73c3ae65-117b-40a9-baa2-5331da215945\",\"startTime\":1556388358820.3125,\"duration\":48242.1875,\"timezone\":-5},{\"id\":\"d7b93ef1-f265-403e-a475-5619323e62ba\",\"startTime\":1556388407812.5,\"duration\":3250,\"timezone\":-5},{\"id\":\"b5e2ed44-bf47-4c56-b95e-90e9af711c15\",\"startTime\":1556388413812.5,\"duration\":6242.1875,\"timezone\":-5},{\"id\":\"434ad6b8-8d33-4526-9171-7b1d78f3c134\",\"startTime\":1556388420812.5,\"duration\":2242.1875,\"timezone\":-5},{\"id\":\"459414f7-4a1c-405a-a751-ade11973e14a\",\"startTime\":1556388423812.5,\"duration\":56242.1875,\"timezone\":-5},{\"id\":\"53decb28-3b07-4214-a607-910ace412e8b\",\"startTime\":1556388480804.6875,\"duration\":1250,\"timezone\":-5},{\"id\":\"45e56ae3-3933-41ed-b51a-8d64cf4cf80a\",\"startTime\":1556388483804.6875,\"duration\":2250,\"timezone\":-5},{\"id\":\"c4d4ee12-4eaf-4557-b118-19af06279c49\",\"startTime\":1556388486804.6875,\"duration\":2250,\"timezone\":-5},{\"id\":\"a35e6c5a-823b-42bb-bdd4-b96ab7fbcb55\",\"startTime\":1556388489804.6875,\"duration\":77242.1875,\"timezone\":-5},{\"id\":\"8f8a4bc5-5987-4e11-a50c-f08a5ef913e5\",\"startTime\":1556388567796.875,\"duration\":132234.375,\"timezone\":-5},{\"id\":\"13463397-7db6-4eaa-837c-d3e5307be502\",\"startTime\":1556388700781.25,\"duration\":649187.5,\"timezone\":-5},{\"id\":\"3a01cff0-09c7-4b4a-b3cb-760b404fc413\",\"startTime\":1556389350718.75,\"duration\":6250,\"timezone\":-5},{\"id\":\"27762e54-09cc-4eb9-aa97-4ebae924793f\",\"startTime\":1556389357718.75,\"duration\":1250,\"timezone\":-5},{\"id\":\"60ad5d8c-cebf-4d81-9c44-8b19f9e19c24\",\"startTime\":1556389361718.75,\"duration\":202226.5625,\"timezone\":-5},{\"id\":\"8b8c10e1-87d6-4ddf-897b-38dfa7828022\",\"startTime\":1556389564695.3125,\"duration\":5250,\"timezone\":-5},{\"id\":\"6f24bf58-576e-4b4c-939d-bf7190698505\",\"startTime\":1556389570695.3125,\"duration\":14250,\"timezone\":-5},{\"id\":\"ce6101be-ae7b-4e2c-b5f2-7de63f68a25d\",\"startTime\":1556389585695.3125,\"duration\":1250,\"timezone\":-5},{\"id\":\"44fe5716-8bb7-4d01-8357-b1d71160e531\",\"startTime\":1556389587695.3125,\"duration\":20250,\"timezone\":-5},{\"id\":\"006cf706-7aba-4284-bd06-0b32550fc160\",\"startTime\":1556389608695.3125,\"duration\":1250,\"timezone\":-5},{\"id\":\"ee91d345-7101-4b83-893f-967b0c4be324\",\"startTime\":1556389610695.3125,\"duration\":6250,\"timezone\":-5},{\"id\":\"dd94954f-92e9-4697-8e9d-5dd30a2f53f5\",\"startTime\":1556389617695.3125,\"duration\":1250,\"timezone\":-5},{\"id\":\"b32afe4c-0f72-42cf-845b-5f6b717fa6d2\",\"startTime\":1556389619695.3125,\"duration\":33242.1875,\"timezone\":-5},{\"id\":\"6c8681d0-fa85-4453-adef-a57aa01fe9cb\",\"startTime\":1556389653687.5,\"duration\":770562.5,\"timezone\":-5},{\"id\":\"2f624374-b6d7-44fb-a11d-d79b90f0b333\",\"startTime\":1556390424250,\"duration\":941523.4375,\"timezone\":-5},{\"id\":\"4ab2f4a7-a2ef-40a4-a52b-e80612a73d8c\",\"startTime\":1556391366523.4375,\"duration\":2242.1875,\"timezone\":-5},{\"id\":\"2fb12fb4-5061-4dd2-a5d3-0075f1d365f1\",\"startTime\":1556391370523.4375,\"duration\":12242.1875,\"timezone\":-5},{\"id\":\"feacc393-4b38-4209-ad84-7ad9492d848e\",\"startTime\":1556391383515.625,\"duration\":6250,\"timezone\":-5},{\"id\":\"94e53c86-3184-4f6e-b2da-48769320e08b\",\"startTime\":1556391390515.625,\"duration\":3250,\"timezone\":-5},{\"id\":\"efdc2d49-936f-4b0f-9183-893927d5831d\",\"startTime\":1556391394515.625,\"duration\":2250,\"timezone\":-5},{\"id\":\"a7b947c0-9951-47c3-bd93-563087a08d46\",\"startTime\":1556391398515.625,\"duration\":1250,\"timezone\":-5},{\"id\":\"54dee84f-ca74-4ec0-a1b8-42ca685a668f\",\"startTime\":1556391400515.625,\"duration\":1250,\"timezone\":-5},{\"id\":\"f08fa937-6c99-4ec0-ad88-ee9031d6b1e9\",\"startTime\":1556391402515.625,\"duration\":1250,\"timezone\":-5},{\"id\":\"d5e9d1cf-6ae1-4123-b782-145bee043859\",\"startTime\":1556391405515.625,\"duration\":1250,\"timezone\":-5},{\"id\":\"fe131d82-6f84-47e7-b6c6-7d560750494f\",\"startTime\":1556391410515.625,\"duration\":1250,\"timezone\":-5},{\"id\":\"a4538cef-0652-4f08-b613-35923bf2d320\",\"startTime\":1556391412515.625,\"duration\":1250,\"timezone\":-5},{\"id\":\"3f273fc6-c10d-43ab-980d-a899579f481a\",\"startTime\":1556391414515.625,\"duration\":2250,\"timezone\":-5},{\"id\":\"d016771d-8ca1-44db-bbdb-ef09020a303b\",\"startTime\":1556391417515.625,\"duration\":2250,\"timezone\":-5},{\"id\":\"dcff6b84-2c4b-42f4-ae72-9a1a2151724b\",\"startTime\":1556391420515.625,\"duration\":4250,\"timezone\":-5},{\"id\":\"0c5fb722-3906-4c27-bf06-6a33cc9141fc\",\"startTime\":1556391426515.625,\"duration\":1250,\"timezone\":-5},{\"id\":\"c0bc97a7-ab0b-4b67-93e4-b452750e7b34\",\"startTime\":1556391429515.625,\"duration\":1250,\"timezone\":-5},{\"id\":\"8668bbd1-d5ab-47da-9fc4-1b0afbf645e8\",\"startTime\":1556391431515.625,\"duration\":1242.1875,\"timezone\":-5},{\"id\":\"01a60b64-6523-4381-ab6f-4247a8452269\",\"startTime\":1556391433515.625,\"duration\":1242.1875,\"timezone\":-5},{\"id\":\"612471ec-bdc5-416b-bc47-58482ae4ab4d\",\"startTime\":1556391435515.625,\"duration\":1250,\"timezone\":-5},{\"id\":\"84c3366b-9193-4041-af3d-5d72a092283c\",\"startTime\":1556391439515.625,\"duration\":1242.1875,\"timezone\":-5},{\"id\":\"d6ad6ef2-5b37-4b6d-aedc-375a7fa80bac\",\"startTime\":1556391441515.625,\"duration\":2250,\"timezone\":-5},{\"id\":\"53ecab13-8cc0-4719-82af-c105a141fd27\",\"startTime\":1556391445515.625,\"duration\":2242.1875,\"timezone\":-5},{\"id\":\"ef9f49fc-ecca-4d18-b0c0-375ed5d0260b\",\"startTime\":1556391449515.625,\"duration\":5242.1875,\"timezone\":-5},{\"id\":\"aedf0343-51a8-4829-a04a-f3affa52b271\",\"startTime\":1556391455515.625,\"duration\":3242.1875,\"timezone\":-5},{\"id\":\"92c02537-654a-4ea9-b460-702da4efb7bd\",\"startTime\":1556391459515.625,\"duration\":3242.1875,\"timezone\":-5},{\"id\":\"53e09f09-f551-40e7-bbf7-7160749a7725\",\"startTime\":1556391464515.625,\"duration\":13242.1875,\"timezone\":-5},{\"id\":\"fa044734-c14f-47cf-9a9d-c77f445a1003\",\"startTime\":1556391478507.8125,\"duration\":4250,\"timezone\":-5},{\"id\":\"21212e95-9515-4e77-abdd-d66fe55f6c15\",\"startTime\":1556391484507.8125,\"duration\":42250,\"timezone\":-5},{\"id\":\"1312ce78-b170-481e-a41e-d8920786bed7\",\"startTime\":1556391527507.8125,\"duration\":36242.1875,\"timezone\":-5},{\"id\":\"e6c0e470-34d7-4e6e-a527-689818aa8836\",\"startTime\":1556391567500,\"duration\":1250,\"timezone\":-5},{\"id\":\"07c1f04f-4a86-4149-911a-6ebdf4ad19df\",\"startTime\":1556391570500,\"duration\":1250,\"timezone\":-5},{\"id\":\"55a83fa3-b62c-4a25-af40-2c4b1d3b9280\",\"startTime\":1556391573500,\"duration\":3250,\"timezone\":-5},{\"id\":\"4acfefe8-8eb4-4e27-bf16-ca09a3fbbffd\",\"startTime\":1556391579500,\"duration\":23250,\"timezone\":-5},{\"id\":\"3e80788e-fe70-4585-bacf-4dbb9bc19d24\",\"startTime\":1556391603500,\"duration\":2242.1875,\"timezone\":-5},{\"id\":\"720e6ad8-0cbb-4596-b74d-0fe08d25b0ad\",\"startTime\":1556391608500,\"duration\":25242.1875,\"timezone\":-5},{\"id\":\"d2515df6-fbf9-4617-bfed-13c5d5cc09e7\",\"startTime\":1556391634492.1875,\"duration\":45250,\"timezone\":-5},{\"id\":\"1e15465f-02af-4b55-aa7c-85357c7d5b0e\",\"startTime\":1556391680492.1875,\"duration\":6242.1875,\"timezone\":-5},{\"id\":\"2f1ed599-813c-4244-96f6-257439bca0ed\",\"startTime\":1556391687492.1875,\"duration\":1251125,\"timezone\":-5},{\"id\":\"1619246e-40f9-4041-ac0b-a21f9276d90c\",\"startTime\":1556392939367.1875,\"duration\":17250,\"timezone\":-5},{\"id\":\"cfb4affa-541c-4e98-94c7-71f615434f7b\",\"startTime\":1556392957367.1875,\"duration\":5242.1875,\"timezone\":-5},{\"id\":\"55285773-8bb0-4341-845e-e6eafb904545\",\"startTime\":1556392963367.1875,\"duration\":3242.1875,\"timezone\":-5},{\"id\":\"fca2cf5a-eb9c-45b4-a5d1-9ad5de787963\",\"startTime\":1556392967359.375,\"duration\":42250,\"timezone\":-5},{\"id\":\"04cb4e92-25bf-44fb-8681-d94e96c1c36d\",\"startTime\":1556393010359.375,\"duration\":178226.5625,\"timezone\":-5},{\"id\":\"2c42f820-7491-4fe1-81d8-951fc718bc0f\",\"startTime\":1556393189343.75,\"duration\":84234.375,\"timezone\":-5},{\"id\":\"54abc911-5e4c-4b18-8c97-db2c1f4a6596\",\"startTime\":1556393274335.9375,\"duration\":248218.75,\"timezone\":-5},{\"id\":\"55ef0d7e-81fd-4edf-837f-1640133766c5\",\"startTime\":1556393523312.5,\"duration\":9242.1875,\"timezone\":-5},{\"id\":\"05e2f536-aec2-4af4-840e-3f50a141ef39\",\"startTime\":1556393534304.6875,\"duration\":37250,\"timezone\":-5},{\"id\":\"23af8aac-854a-476a-aecb-af97574b33db\",\"startTime\":1556393573304.6875,\"duration\":428203.125,\"timezone\":-5},{\"id\":\"a38f2f6a-f3df-4b64-ac07-6af4d5b82b97\",\"startTime\":1556394002257.8125,\"duration\":2250,\"timezone\":-5},{\"id\":\"3cabfcb0-1a9a-4d0b-8a96-e7b96a33d0be\",\"startTime\":1556394005257.8125,\"duration\":2250,\"timezone\":-5},{\"id\":\"b3e9bf80-1a43-4742-b3b7-0a86e2fca415\",\"startTime\":1556394008265.625,\"duration\":4242.1875,\"timezone\":-5},{\"id\":\"6a9bfc22-fdec-4918-b220-daa619fdfcd9\",\"startTime\":1556394014257.8125,\"duration\":1250,\"timezone\":-5},{\"id\":\"9cc20934-fe82-4a4a-a7b6-9480a9b833b1\",\"startTime\":1556394016257.8125,\"duration\":1742.1875,\"timezone\":-5},{\"id\":\"56607b84-7b05-465a-9f8b-0d65a266dcfd\",\"startTime\":1556394018000,\"duration\":3593750,\"timezone\":-5},{\"id\":\"dc44ece4-e130-48f4-a6ab-689dcd15aa57\",\"startTime\":1556397611750,\"duration\":3593750,\"timezone\":-5},{\"id\":\"43af5f50-d5f5-445d-9e56-3d2e921c22ec\",\"startTime\":1556401205500,\"duration\":3593750,\"timezone\":-5},{\"id\":\"dbee7aee-b215-40cf-b644-4288e23de4eb\",\"startTime\":1556404799250,\"duration\":3593750,\"timezone\":-5},{\"id\":\"a2712835-8e59-4b6f-9340-dc7f0224caa1\",\"startTime\":1556408393000,\"duration\":3593750,\"timezone\":-5},{\"id\":\"2ff2ab71-71a2-40e7-a98c-0a6df8388249\",\"startTime\":1556411986750,\"duration\":3593750,\"timezone\":-5},{\"id\":\"fc5421f9-7f23-4e28-958a-917c935cd950\",\"startTime\":1556415580500,\"duration\":3593750,\"timezone\":-5},{\"id\":\"fe8104cb-6331-4fbd-a1e1-275e95423f21\",\"startTime\":1556419174250,\"duration\":3593750,\"timezone\":-5},{\"id\":\"ce29ee7b-2f4c-4a59-beea-d717f6955154\",\"startTime\":1556422768000,\"duration\":3593750,\"timezone\":-5},{\"id\":\"a9cbb57f-eec8-4761-8190-bda33dfde463\",\"startTime\":1556426361750,\"duration\":1248445.3125,\"timezone\":-5},{\"id\":\"537e7e3f-c712-4f2d-9478-b3a420527fa5\",\"startTime\":1556427610953.125,\"duration\":1995046.875,\"timezone\":-5},{\"id\":\"0b2e779e-b851-4c30-b1d6-2b24c6ebcdd5\",\"startTime\":1556429607757.8125,\"duration\":1242.1875,\"timezone\":-5},{\"id\":\"00a6be96-bd0b-4ca8-9ede-35ad3e9384af\",\"startTime\":1556429609757.8125,\"duration\":1242.1875,\"timezone\":-5},{\"id\":\"22d9f437-2f26-4677-82ac-47258fdcdaaa\",\"startTime\":1556429612757.8125,\"duration\":2242.1875,\"timezone\":-5},{\"id\":\"37f9c441-ec16-486f-8a37-0fc7b720c1dd\",\"startTime\":1556429615750,\"duration\":339750,\"timezone\":-5},{\"id\":\"f349d8ef-560d-467d-a943-f03b3e292fb7\",\"startTime\":1556429955500,\"duration\":1070359.375,\"timezone\":-5},{\"id\":\"668909de-d4c5-477d-a1f7-ec749a3d776d\",\"startTime\":1556431026617.1875,\"duration\":20242.1875,\"timezone\":-5},{\"id\":\"27f22a72-2fbd-4432-af15-47d1aa0827bb\",\"startTime\":1556431047617.1875,\"duration\":6242.1875,\"timezone\":-5},{\"id\":\"6ff7145b-a138-47d9-9b29-8346529399b8\",\"startTime\":1556431056617.1875,\"duration\":6242.1875,\"timezone\":-5},{\"id\":\"10723c5b-96a8-48f6-b728-94e41bb72b8e\",\"startTime\":1556431063609.375,\"duration\":3250,\"timezone\":-5},{\"id\":\"c477f3a1-8c53-4adf-a2b7-25913468fec8\",\"startTime\":1556431068609.375,\"duration\":1250,\"timezone\":-5},{\"id\":\"88f89cf2-1b90-4482-9a68-2f7de47749a4\",\"startTime\":1556431072609.375,\"duration\":2250,\"timezone\":-5},{\"id\":\"828ee775-9520-4143-8e3e-72ab949fa4f3\",\"startTime\":1556431075609.375,\"duration\":7250,\"timezone\":-5},{\"id\":\"39e7a105-21fa-4042-9948-a5ebbf4e60c0\",\"startTime\":1556431083609.375,\"duration\":1250,\"timezone\":-5},{\"id\":\"ad33661b-9197-43ef-bc43-e02cdbcaca10\",\"startTime\":1556431085609.375,\"duration\":4250,\"timezone\":-5},{\"id\":\"50f3722f-4d0a-4102-93f1-2e0c05aaeaf8\",\"startTime\":1556431091609.375,\"duration\":9242.1875,\"timezone\":-5},{\"id\":\"c246a420-be14-4aef-a983-974a26ecf420\",\"startTime\":1556431101609.375,\"duration\":9242.1875,\"timezone\":-5},{\"id\":\"ef5356ce-9f69-4c7e-8d1d-1183a8054d53\",\"startTime\":1556431111609.375,\"duration\":5242.1875,\"timezone\":-5},{\"id\":\"a3d477fd-5d24-4d30-a9d2-f2007cab4952\",\"startTime\":1556431117609.375,\"duration\":6242.1875,\"timezone\":-5},{\"id\":\"ededefef-b1bd-424c-9685-1c50c204abe4\",\"startTime\":1556431124609.375,\"duration\":1242.1875,\"timezone\":-5},{\"id\":\"2e1f65df-733a-4a58-8715-2e2534517247\",\"startTime\":1556431126609.375,\"duration\":2242.1875,\"timezone\":-5},{\"id\":\"ea8e3a73-f5c6-476f-999d-d6e0d03f86da\",\"startTime\":1556431129609.375,\"duration\":6242.1875,\"timezone\":-5},{\"id\":\"53aecd21-c293-484f-83c2-a89455cd4dc8\",\"startTime\":1556431136609.375,\"duration\":1242.1875,\"timezone\":-5},{\"id\":\"fa6c3840-e1e6-42e0-a9db-c1f57b833816\",\"startTime\":1556431141601.5625,\"duration\":2250,\"timezone\":-5},{\"id\":\"8c221c5e-eec4-4a54-ae7d-5f2b99fbe37e\",\"startTime\":1556431144601.5625,\"duration\":1250,\"timezone\":-5},{\"id\":\"7487da4b-61f2-437e-b62c-99315afdcff0\",\"startTime\":1556431146601.5625,\"duration\":1250,\"timezone\":-5},{\"id\":\"d78d910f-3d4b-48a4-a137-c40b1363778b\",\"startTime\":1556431148601.5625,\"duration\":9250,\"timezone\":-5},{\"id\":\"69eb2673-f320-4a40-8e05-81354b206ab0\",\"startTime\":1556431158601.5625,\"duration\":2250,\"timezone\":-5},{\"id\":\"be5297ad-892a-43d9-8eb3-15c23c766bd5\",\"startTime\":1556431161601.5625,\"duration\":8250,\"timezone\":-5},{\"id\":\"7d9c660a-7a11-4851-8481-b049d8cae0b2\",\"startTime\":1556431170601.5625,\"duration\":7242.1875,\"timezone\":-5},{\"id\":\"3dae73ba-675f-4dad-8b81-a5a8c612cd2c\",\"startTime\":1556431180601.5625,\"duration\":4242.1875,\"timezone\":-5},{\"id\":\"5a8b0217-4f01-434e-8902-46101ef687db\",\"startTime\":1556431185601.5625,\"duration\":2242.1875,\"timezone\":-5},{\"id\":\"59514e82-15e7-40f5-83a6-ec05fe899945\",\"startTime\":1556431188601.5625,\"duration\":1242.1875,\"timezone\":-5},{\"id\":\"ab51042e-8a0c-49e6-b28d-7685afcd35bf\",\"startTime\":1556431190601.5625,\"duration\":3242.1875,\"timezone\":-5},{\"id\":\"99c50dd0-e9a7-49d5-bd0f-bc65baa1fd4a\",\"startTime\":1556431194601.5625,\"duration\":1242.1875,\"timezone\":-5},{\"id\":\"a359fa16-0073-45f7-8957-4989a8099c33\",\"startTime\":1556431198601.5625,\"duration\":1242.1875,\"timezone\":-5},{\"id\":\"79883281-e29a-4caa-8b5a-f27c38c1faa4\",\"startTime\":1556431200601.5625,\"duration\":1242.1875,\"timezone\":-5},{\"id\":\"be02339a-19f4-4dc7-b801-71183ec0534e\",\"startTime\":1556431202601.5625,\"duration\":2242.1875,\"timezone\":-5},{\"id\":\"cb064928-0756-4b6d-ba98-d0a023c219da\",\"startTime\":1556431206601.5625,\"duration\":2242.1875,\"timezone\":-5},{\"id\":\"8b621b48-f2a2-4fdd-bffa-c24cee2fd157\",\"startTime\":1556431211601.5625,\"duration\":2242.1875,\"timezone\":-5},{\"id\":\"2d90d324-8d0e-4064-a734-20482e77a866\",\"startTime\":1556431215601.5625,\"duration\":1242.1875,\"timezone\":-5},{\"id\":\"8785dfc1-ecfe-4d56-ae7f-0c96e97961f6\",\"startTime\":1556431218593.75,\"duration\":5250,\"timezone\":-5},{\"id\":\"4758c62a-939c-4223-a071-184906b8bbe8\",\"startTime\":1556431225593.75,\"duration\":1250,\"timezone\":-5},{\"id\":\"fb274091-37ea-4847-981a-4cc65f706855\",\"startTime\":1556431229593.75,\"duration\":1250,\"timezone\":-5},{\"id\":\"e3b697f5-37ce-4159-9702-a9f67663eabb\",\"startTime\":1556431244593.75,\"duration\":1250,\"timezone\":-5},{\"id\":\"b41b23f2-5d7e-4ad2-9418-1e8dd568c98d\",\"startTime\":1556431252593.75,\"duration\":2250,\"timezone\":-5},{\"id\":\"f10bf13b-7826-4559-95e6-deb4ab931d4c\",\"startTime\":1556431255593.75,\"duration\":17242.1875,\"timezone\":-5},{\"id\":\"a55fcb18-a665-4935-928f-066fec24227c\",\"startTime\":1556431273593.75,\"duration\":3242.1875,\"timezone\":-5},{\"id\":\"546c143b-79fc-4b46-925f-fd4a0d535eb1\",\"startTime\":1556431277593.75,\"duration\":3242.1875,\"timezone\":-5},{\"id\":\"170507ac-6634-4a49-8f24-6d1929d3c409\",\"startTime\":1556431281585.9375,\"duration\":5250,\"timezone\":-5},{\"id\":\"3c964e64-4140-4745-bc06-878e9b032210\",\"startTime\":1556431287585.9375,\"duration\":1250,\"timezone\":-5},{\"id\":\"4ffd980f-1811-4b07-b3fa-bcd406487be5\",\"startTime\":1556431290585.9375,\"duration\":1250,\"timezone\":-5},{\"id\":\"12efd487-1f27-4def-807c-323ec4eba8bc\",\"startTime\":1556431292585.9375,\"duration\":4250,\"timezone\":-5},{\"id\":\"25fe9f8c-0a59-4413-8076-6fd7f3a15e15\",\"startTime\":1556431297585.9375,\"duration\":1250,\"timezone\":-5},{\"id\":\"c42fcc05-1e49-4d6f-8239-b1a73a887e7e\",\"startTime\":1556431302585.9375,\"duration\":6250,\"timezone\":-5},{\"id\":\"e181af8d-4d21-42c8-a798-703b896ca1e9\",\"startTime\":1556431309585.9375,\"duration\":1250,\"timezone\":-5},{\"id\":\"00d4e87c-8b66-46b0-a39a-a3186be5f5ab\",\"startTime\":1556431311585.9375,\"duration\":2250,\"timezone\":-5},{\"id\":\"956f31af-7dad-4392-81ca-e544561bafd7\",\"startTime\":1556431314585.9375,\"duration\":1250,\"timezone\":-5},{\"id\":\"0d820e09-7437-4659-9330-24bdf417b169\",\"startTime\":1556431316585.9375,\"duration\":1250,\"timezone\":-5},{\"id\":\"4e4e47d6-7197-460c-930f-11834cf523cc\",\"startTime\":1556431319585.9375,\"duration\":9250,\"timezone\":-5},{\"id\":\"d488cab4-3201-4256-abab-e00387baa269\",\"startTime\":1556431331585.9375,\"duration\":2250,\"timezone\":-5},{\"id\":\"52930aaf-2899-413e-b2b7-ec4ca2ceab74\",\"startTime\":1556431335585.9375,\"duration\":3250,\"timezone\":-5},{\"id\":\"162ef66b-77d8-4211-8d5a-a743c02cb5a1\",\"startTime\":1556431339585.9375,\"duration\":1250,\"timezone\":-5},{\"id\":\"940059f2-544e-46cd-90b0-2ecce2c6b0ec\",\"startTime\":1556431344585.9375,\"duration\":1250,\"timezone\":-5},{\"id\":\"31e00c32-a751-46c7-9d8f-acb8541c84cc\",\"startTime\":1556431348585.9375,\"duration\":1242.1875,\"timezone\":-5},{\"id\":\"cdaeaea2-14ee-4c32-a346-0a73eff5bac6\",\"startTime\":1556431352585.9375,\"duration\":7242.1875,\"timezone\":-5},{\"id\":\"a3241673-e0d8-4012-9a4a-abaa8cd339aa\",\"startTime\":1556431360578.125,\"duration\":3250,\"timezone\":-5},{\"id\":\"29b9a240-6846-444d-bb6b-fa463826fd9d\",\"startTime\":1556431364578.125,\"duration\":2250,\"timezone\":-5},{\"id\":\"7268a0ea-f3a3-4782-8938-1dec47bcd762\",\"startTime\":1556431369578.125,\"duration\":4250,\"timezone\":-5},{\"id\":\"6c5a87a9-7da9-42a4-a2fa-28416e62ba0e\",\"startTime\":1556431374578.125,\"duration\":2250,\"timezone\":-5},{\"id\":\"16cae806-5985-4404-86da-c2be93775288\",\"startTime\":1556431377578.125,\"duration\":2250,\"timezone\":-5},{\"id\":\"33a50a49-9712-44b1-8444-4005fec0a2f4\",\"startTime\":1556431385578.125,\"duration\":2250,\"timezone\":-5},{\"id\":\"cbf4fb48-4953-49de-96dd-5185b43af313\",\"startTime\":1556431390578.125,\"duration\":1250,\"timezone\":-5},{\"id\":\"20b0c992-9095-4f13-8043-40d19be36d4e\",\"startTime\":1556431393578.125,\"duration\":3250,\"timezone\":-5},{\"id\":\"35ef5c77-4c34-418f-ae73-ac506130e310\",\"startTime\":1556431401578.125,\"duration\":1250,\"timezone\":-5},{\"id\":\"8cf86370-6a2c-480d-9d19-7ac039e50da7\",\"startTime\":1556431403578.125,\"duration\":1250,\"timezone\":-5},{\"id\":\"a42b9c41-f80b-4ac6-a531-1a8f00398e7d\",\"startTime\":1556431408578.125,\"duration\":1250,\"timezone\":-5},{\"id\":\"80aed626-0987-4536-bbf1-c95927b67972\",\"startTime\":1556431413578.125,\"duration\":6250,\"timezone\":-5},{\"id\":\"0399bead-63bc-442a-8450-0855a99cf801\",\"startTime\":1556431422578.125,\"duration\":2250,\"timezone\":-5},{\"id\":\"860c8dd9-baea-4c35-b661-eaee5f75823d\",\"startTime\":1556431427578.125,\"duration\":2242.1875,\"timezone\":-5},{\"id\":\"ae494095-9bfb-47d5-9abc-83d7c052461f\",\"startTime\":1556431437578.125,\"duration\":2242.1875,\"timezone\":-5},{\"id\":\"8ed914e6-2fa8-4ba8-a03c-108a1f906d10\",\"startTime\":1556431440570.3125,\"duration\":1250,\"timezone\":-5},{\"id\":\"d53e979d-b872-4487-a99a-2e2cfcb51f31\",\"startTime\":1556431443578.125,\"duration\":1242.1875,\"timezone\":-5},{\"id\":\"57ede317-24c1-4680-9acd-8fdc6a6e48ec\",\"startTime\":1556431445570.3125,\"duration\":8250,\"timezone\":-5},{\"id\":\"a2802efa-0fbb-4f9b-9c0f-a78ce890a977\",\"startTime\":1556431455570.3125,\"duration\":3250,\"timezone\":-5},{\"id\":\"5e54648a-da42-401c-9fea-ce6492c2c6e1\",\"startTime\":1556431460570.3125,\"duration\":2250,\"timezone\":-5},{\"id\":\"a3c76cfe-41f5-49ef-9265-804e56ad4548\",\"startTime\":1556431463570.3125,\"duration\":6250,\"timezone\":-5},{\"id\":\"56f5ee50-ea6c-45dc-934e-ec430511ccc1\",\"startTime\":1556431471570.3125,\"duration\":3250,\"timezone\":-5},{\"id\":\"e9c30853-76dc-47e9-9508-e68d16902514\",\"startTime\":1556431475570.3125,\"duration\":2250,\"timezone\":-5},{\"id\":\"2450aae3-63fa-41d8-a39d-df1e2829eb45\",\"startTime\":1556431478570.3125,\"duration\":1250,\"timezone\":-5},{\"id\":\"131cac33-40a1-4399-b6ed-10f24c3d8f5e\",\"startTime\":1556431482570.3125,\"duration\":3250,\"timezone\":-5},{\"id\":\"f25657d6-28f5-4256-8ff6-c15be542eb00\",\"startTime\":1556431486570.3125,\"duration\":1250,\"timezone\":-5},{\"id\":\"c21ce4cc-b9f7-4ca7-8714-1724d4894ebe\",\"startTime\":1556431488570.3125,\"duration\":3250,\"timezone\":-5},{\"id\":\"8c935066-681c-46e5-bcda-2acbfd98348a\",\"startTime\":1556431492570.3125,\"duration\":1250,\"timezone\":-5},{\"id\":\"9d55aa1b-b876-4323-9c64-bd03e720f1fd\",\"startTime\":1556431494570.3125,\"duration\":1250,\"timezone\":-5},{\"id\":\"5b36af29-66b4-4fb2-aadb-ec7ded129577\",\"startTime\":1556431497570.3125,\"duration\":1250,\"timezone\":-5},{\"id\":\"35873974-071d-408b-ab20-03e14c6aa4a3\",\"startTime\":1556431500570.3125,\"duration\":1250,\"timezone\":-5},{\"id\":\"ae6ab904-46a1-445c-9fc1-c8eb29497764\",\"startTime\":1556431502570.3125,\"duration\":2242.1875,\"timezone\":-5},{\"id\":\"7f64e4a0-5e50-476c-a309-e4edc2aa77e4\",\"startTime\":1556431507570.3125,\"duration\":2242.1875,\"timezone\":-5},{\"id\":\"af6ebd8c-fb31-4d2b-af81-2e29d2b42db9\",\"startTime\":1556431511570.3125,\"duration\":1242.1875,\"timezone\":-5},{\"id\":\"35b87f1a-ad40-4bd4-a9b0-9d6de6ac7377\",\"startTime\":1556431515570.3125,\"duration\":2242.1875,\"timezone\":-5},{\"id\":\"11f64a2d-7360-498f-993e-3b3e54d01640\",\"startTime\":1556431519562.5,\"duration\":2250,\"timezone\":-5},{\"id\":\"3c625af5-c01d-4cce-a5ee-5e9f993f5cbe\",\"startTime\":1556431522562.5,\"duration\":5250,\"timezone\":-5},{\"id\":\"f58f8df8-df86-4bf4-9b3b-6323408f381b\",\"startTime\":1556431531570.3125,\"duration\":5242.1875,\"timezone\":-5},{\"id\":\"fb99029e-1e47-4eaa-8859-3f44f2b731ba\",\"startTime\":1556431538562.5,\"duration\":3250,\"timezone\":-5},{\"id\":\"54442470-ab1a-4e08-aca4-246fe6ff58f0\",\"startTime\":1556431545562.5,\"duration\":1250,\"timezone\":-5},{\"id\":\"47128348-5170-47c6-925e-98717fd68ada\",\"startTime\":1556431548562.5,\"duration\":1250,\"timezone\":-5},{\"id\":\"a596832c-2c32-4718-aba3-0d0f16b61a82\",\"startTime\":1556431551562.5,\"duration\":1250,\"timezone\":-5},{\"id\":\"db88177e-fd03-4435-b978-7ee6c78dd663\",\"startTime\":1556431553562.5,\"duration\":4250,\"timezone\":-5},{\"id\":\"3da4d343-f2f9-40b5-a72b-0381f99910c8\",\"startTime\":1556431560562.5,\"duration\":1250,\"timezone\":-5},{\"id\":\"c6608d3b-559c-4ce4-8651-4844975658d1\",\"startTime\":1556431565562.5,\"duration\":1250,\"timezone\":-5},{\"id\":\"74f1b529-77c3-4185-80a4-ff096bf3d17f\",\"startTime\":1556431568562.5,\"duration\":3250,\"timezone\":-5},{\"id\":\"95dca052-8c10-4d9b-9eac-0b53f0fb935d\",\"startTime\":1556431572562.5,\"duration\":1250,\"timezone\":-5},{\"id\":\"d3033a88-69f2-45f5-ac32-7b23a093b063\",\"startTime\":1556431574562.5,\"duration\":1250,\"timezone\":-5},{\"id\":\"b9300a99-45b6-47f7-91f5-94fae4ac1f5d\",\"startTime\":1556431577562.5,\"duration\":1250,\"timezone\":-5},{\"id\":\"1dc3d731-6968-4e2c-bd4b-7b5dbfe3306a\",\"startTime\":1556431583562.5,\"duration\":1242.1875,\"timezone\":-5},{\"id\":\"8e329dde-748e-44b4-847b-2789309433cb\",\"startTime\":1556431588562.5,\"duration\":2242.1875,\"timezone\":-5},{\"id\":\"f6c73ad4-5153-47c1-a275-8ca611be3fb4\",\"startTime\":1556431596562.5,\"duration\":1242.1875,\"timezone\":-5},{\"id\":\"8b578c5c-bc5c-4774-9a6e-e54294ec0031\",\"startTime\":1556431600554.6875,\"duration\":1250,\"timezone\":-5},{\"id\":\"1e78ca02-c825-4d84-9e47-18fc11f24abc\",\"startTime\":1556431603554.6875,\"duration\":1250,\"timezone\":-5},{\"id\":\"97f9ea14-dfbf-4b32-bad6-1d38b9fe2df3\",\"startTime\":1556431606554.6875,\"duration\":1250,\"timezone\":-5},{\"id\":\"cfe25d18-e98e-4681-bb3c-07e005909c9e\",\"startTime\":1556431612554.6875,\"duration\":1250,\"timezone\":-5},{\"id\":\"f75f2865-0289-444e-ac3a-b085903593bd\",\"startTime\":1556431615554.6875,\"duration\":1250,\"timezone\":-5},{\"id\":\"746f718a-2f09-40c8-a779-62e7bbb0deb4\",\"startTime\":1556431617554.6875,\"duration\":3250,\"timezone\":-5},{\"id\":\"4a904e45-2288-49a7-a5c8-a5d24b0971f9\",\"startTime\":1556431621554.6875,\"duration\":3250,\"timezone\":-5},{\"id\":\"a2321d5b-bab2-45d3-ae8f-6f33a1dc4c46\",\"startTime\":1556431625554.6875,\"duration\":1250,\"timezone\":-5},{\"id\":\"878e4555-43dc-49ab-83a8-d6fd04980c3a\",\"startTime\":1556431627554.6875,\"duration\":1250,\"timezone\":-5},{\"id\":\"244a3945-02d8-4b4e-a23e-5d59e0ec9d6e\",\"startTime\":1556431629554.6875,\"duration\":2250,\"timezone\":-5},{\"id\":\"d39c21f7-5d3d-4a24-8abd-45ca1c29387e\",\"startTime\":1556431633554.6875,\"duration\":3250,\"timezone\":-5},{\"id\":\"f71b0dc4-8bd8-4665-87af-66c3352e2670\",\"startTime\":1556431637554.6875,\"duration\":2250,\"timezone\":-5},{\"id\":\"44a36ab5-0dd2-4f8e-9d6b-98202c060c3b\",\"startTime\":1556431650554.6875,\"duration\":4250,\"timezone\":-5},{\"id\":\"5d0329db-be75-44c8-a8a4-f3767f650a76\",\"startTime\":1556431658554.6875,\"duration\":1250,\"timezone\":-5},{\"id\":\"a3cb3c66-c034-4895-9a90-fb82dc6d8aea\",\"startTime\":1556431660554.6875,\"duration\":5242.1875,\"timezone\":-5},{\"id\":\"adc70734-5b77-4f4b-ac16-cc1093495a98\",\"startTime\":1556431670554.6875,\"duration\":1242.1875,\"timezone\":-5},{\"id\":\"f2879722-e0ce-4586-a0eb-fa72647108d5\",\"startTime\":1556431673554.6875,\"duration\":3242.1875,\"timezone\":-5},{\"id\":\"de14ef13-d259-4487-88b5-558e7070a11e\",\"startTime\":1556431682554.6875,\"duration\":1242.1875,\"timezone\":-5},{\"id\":\"bc36b408-a9af-461d-b837-085a79ef8713\",\"startTime\":1556431684546.875,\"duration\":3250,\"timezone\":-5},{\"id\":\"6c0a30d1-423b-4243-9115-e80fe8ce6b18\",\"startTime\":1556431688546.875,\"duration\":2250,\"timezone\":-5},{\"id\":\"93984a02-7329-4bbd-b94c-a283f8331f15\",\"startTime\":1556431691546.875,\"duration\":3250,\"timezone\":-5},{\"id\":\"1d4d6c0f-a5b4-4fe3-acef-3f17e3575e3d\",\"startTime\":1556431699546.875,\"duration\":1250,\"timezone\":-5},{\"id\":\"47bd57b8-e073-474b-92e6-70e1a4bd6549\",\"startTime\":1556431701546.875,\"duration\":2250,\"timezone\":-5},{\"id\":\"7df70361-ee2c-4888-943f-9a17a7ff2975\",\"startTime\":1556431705546.875,\"duration\":1250,\"timezone\":-5},{\"id\":\"611123ff-5037-4402-8476-66e5478bebe9\",\"startTime\":1556431707546.875,\"duration\":1250,\"timezone\":-5},{\"id\":\"fa29ac85-4889-4b43-b9ac-d20c01f0d204\",\"startTime\":1556431709546.875,\"duration\":1250,\"timezone\":-5},{\"id\":\"81c44c89-fabf-4a9f-8d93-16b0b2f68599\",\"startTime\":1556431713546.875,\"duration\":1250,\"timezone\":-5},{\"id\":\"0bc04dd2-0818-46f3-9f4b-92af457ece31\",\"startTime\":1556431717546.875,\"duration\":1250,\"timezone\":-5},{\"id\":\"bfd80670-4f21-4a6a-a6e0-95d694faa190\",\"startTime\":1556431720546.875,\"duration\":1250,\"timezone\":-5},{\"id\":\"85634d5a-e037-4a7a-aeec-f0b06db17824\",\"startTime\":1556431727546.875,\"duration\":2250,\"timezone\":-5},{\"id\":\"5aedc828-160a-4339-845b-4a9b894e8ab4\",\"startTime\":1556431730546.875,\"duration\":2242.1875,\"timezone\":-5},{\"id\":\"ea22e5d4-b91d-4a32-a6f5-d4964f3357d1\",\"startTime\":1556431733546.875,\"duration\":1242.1875,\"timezone\":-5},{\"id\":\"a5a7583a-2978-4ff4-8e93-738c82053e0f\",\"startTime\":1556431735546.875,\"duration\":3242.1875,\"timezone\":-5},{\"id\":\"a1c31913-b2cb-4549-a063-495da8695b52\",\"startTime\":1556431739546.875,\"duration\":1250,\"timezone\":-5},{\"id\":\"7c2b359b-1842-4711-89db-d35fa2471cfd\",\"startTime\":1556431743546.875,\"duration\":1242.1875,\"timezone\":-5},{\"id\":\"1621363f-8a9c-4e34-a084-04955045d038\",\"startTime\":1556431746546.875,\"duration\":1242.1875,\"timezone\":-5},{\"id\":\"cada0625-cf98-4bc5-97a0-c3f483ad2ce2\",\"startTime\":1556431748546.875,\"duration\":1242.1875,\"timezone\":-5},{\"id\":\"780850c1-4b01-4845-a7dc-b22364eec5dc\",\"startTime\":1556431751546.875,\"duration\":2242.1875,\"timezone\":-5},{\"id\":\"a299e8d4-7057-4cc3-943a-3f178b58cc38\",\"startTime\":1556431754546.875,\"duration\":1242.1875,\"timezone\":-5},{\"id\":\"b3b6afd1-5810-4a1a-a10a-b6e0f3b462d5\",\"startTime\":1556431756546.875,\"duration\":2242.1875,\"timezone\":-5},{\"id\":\"5e8ef706-6835-4ae5-a6d8-b382dd2dc6fd\",\"startTime\":1556431763539.0625,\"duration\":2250,\"timezone\":-5},{\"id\":\"034784ef-e226-453d-9b3b-583b7c7aa174\",\"startTime\":1556431767546.875,\"duration\":1242.1875,\"timezone\":-5},{\"id\":\"5302da30-75ad-4865-abc9-a88a9c5b62aa\",\"startTime\":1556431771539.0625,\"duration\":2250,\"timezone\":-5},{\"id\":\"411c604a-0ac9-4d49-b888-3b3fbd122110\",\"startTime\":1556431775539.0625,\"duration\":2250,\"timezone\":-5},{\"id\":\"115423cb-3268-4a18-9a19-15a929e5e37b\",\"startTime\":1556431782539.0625,\"duration\":1250,\"timezone\":-5},{\"id\":\"09020ae0-ff2c-4f4e-8a8a-d748a93fdbc8\",\"startTime\":1556431784539.0625,\"duration\":5250,\"timezone\":-5},{\"id\":\"72148cc1-d8ff-48f0-976d-4688aa286190\",\"startTime\":1556431791539.0625,\"duration\":7250,\"timezone\":-5},{\"id\":\"d9eacc47-1595-43d2-95c7-6b791539bd0f\",\"startTime\":1556431800539.0625,\"duration\":3250,\"timezone\":-5},{\"id\":\"999d0d49-70ec-48ee-95fc-38bb1c61ea86\",\"startTime\":1556431804539.0625,\"duration\":2250,\"timezone\":-5},{\"id\":\"098be9c7-b322-4cf8-b6ed-ab49645fc0a1\",\"startTime\":1556431807539.0625,\"duration\":7242.1875,\"timezone\":-5},{\"id\":\"4680ec3c-7da3-4c01-b3c8-92f070c42a9c\",\"startTime\":1556431815539.0625,\"duration\":3242.1875,\"timezone\":-5},{\"id\":\"c4d31721-431e-4b8b-9977-0677ac7c7ab7\",\"startTime\":1556431819539.0625,\"duration\":2242.1875,\"timezone\":-5},{\"id\":\"4edeb34b-b142-4d88-8558-4f210e44af33\",\"startTime\":1556431822539.0625,\"duration\":1242.1875,\"timezone\":-5},{\"id\":\"3ad79348-2880-4d5b-a80c-30e4f3d4804f\",\"startTime\":1556431824539.0625,\"duration\":5242.1875,\"timezone\":-5},{\"id\":\"86fec5fe-4ed8-4a6c-888a-cabad52757f4\",\"startTime\":1556431830539.0625,\"duration\":2242.1875,\"timezone\":-5},{\"id\":\"1cf8c5ee-bcaf-4169-8847-121a9f7c14df\",\"startTime\":1556431833539.0625,\"duration\":1242.1875,\"timezone\":-5},{\"id\":\"b6f3f897-12b3-4e07-a0d7-4c072699370a\",\"startTime\":1556431835539.0625,\"duration\":1242.1875,\"timezone\":-5},{\"id\":\"a668209b-8418-4fd2-a377-13c4f6410413\",\"startTime\":1556431837539.0625,\"duration\":3242.1875,\"timezone\":-5},{\"id\":\"a69a2948-ac08-4f0d-ad43-a53961c56a2c\",\"startTime\":1556431841539.0625,\"duration\":8242.1875,\"timezone\":-5},{\"id\":\"671f823a-1d62-4913-82b9-f55488b02424\",\"startTime\":1556431850531.25,\"duration\":3250,\"timezone\":-5},{\"id\":\"8d43f0a9-be30-446b-a260-6cb0d6eab677\",\"startTime\":1556431854531.25,\"duration\":6250,\"timezone\":-5},{\"id\":\"d341ab17-0451-4035-aad3-c44e2c048af2\",\"startTime\":1556431861531.25,\"duration\":1250,\"timezone\":-5},{\"id\":\"5a217364-2250-432d-8759-2e62cf9db0f9\",\"startTime\":1556431863531.25,\"duration\":1250,\"timezone\":-5},{\"id\":\"10eef6df-dd22-4018-be20-b13a7c45fee6\",\"startTime\":1556431866531.25,\"duration\":1250,\"timezone\":-5},{\"id\":\"13e489b1-b57e-466c-a69a-88281b18f626\",\"startTime\":1556431869531.25,\"duration\":4250,\"timezone\":-5},{\"id\":\"c43f4fa5-ca80-4fb5-ba70-0738af468628\",\"startTime\":1556431874531.25,\"duration\":4250,\"timezone\":-5},{\"id\":\"ee1b8350-f6f9-45ab-b72a-9c27ede88382\",\"startTime\":1556431881531.25,\"duration\":2250,\"timezone\":-5},{\"id\":\"2532c1a4-caea-43d4-a002-485b39db472f\",\"startTime\":1556431884531.25,\"duration\":4250,\"timezone\":-5},{\"id\":\"74c56557-2004-4010-993c-8898a40ee697\",\"startTime\":1556431889531.25,\"duration\":3242.1875,\"timezone\":-5},{\"id\":\"a474e4b5-51d4-4918-ad89-064c1d88672a\",\"startTime\":1556431893531.25,\"duration\":8242.1875,\"timezone\":-5},{\"id\":\"b7da6eb3-fb65-409c-a7b0-d0d234d5a94b\",\"startTime\":1556431902531.25,\"duration\":4242.1875,\"timezone\":-5},{\"id\":\"7dee3e23-7f0a-413e-8426-646f0954b8c3\",\"startTime\":1556431908531.25,\"duration\":2242.1875,\"timezone\":-5},{\"id\":\"a5002147-2454-474b-bfa5-915aba0ae372\",\"startTime\":1556431912531.25,\"duration\":1242.1875,\"timezone\":-5},{\"id\":\"b35a14df-8895-4b7a-a360-c2419ceda759\",\"startTime\":1556431914531.25,\"duration\":2242.1875,\"timezone\":-5},{\"id\":\"4a0f7d03-b436-42c4-ac75-76ae991078ad\",\"startTime\":1556431917523.4375,\"duration\":1250,\"timezone\":-5},{\"id\":\"422c166d-cc15-4662-9e08-beb3708cb9ec\",\"startTime\":1556431919523.4375,\"duration\":2250,\"timezone\":-5},{\"id\":\"b86f8b65-41ba-47e6-8e92-c5ce34ef893e\",\"startTime\":1556431924523.4375,\"duration\":1250,\"timezone\":-5},{\"id\":\"e9f4bdc5-e4df-4daa-aba9-22e2c5ad74f4\",\"startTime\":1556431926531.25,\"duration\":3242.1875,\"timezone\":-5},{\"id\":\"1acd71a4-148a-4ded-826f-87346c001801\",\"startTime\":1556431931523.4375,\"duration\":1250,\"timezone\":-5},{\"id\":\"77b58013-2277-4b57-9ae5-367a8f028bf5\",\"startTime\":1556431934523.4375,\"duration\":2250,\"timezone\":-5},{\"id\":\"aacae326-5f24-4d58-8440-62d091ef035b\",\"startTime\":1556431938523.4375,\"duration\":1250,\"timezone\":-5},{\"id\":\"0958f451-9976-43df-84bc-65de8c27bdb8\",\"startTime\":1556431940523.4375,\"duration\":3250,\"timezone\":-5},{\"id\":\"91f06c46-dd93-4f3b-94c6-05e9079975fe\",\"startTime\":1556431946523.4375,\"duration\":3250,\"timezone\":-5},{\"id\":\"039d4dbc-ab2b-45e0-bf70-020f1a3dfdf8\",\"startTime\":1556431952523.4375,\"duration\":2250,\"timezone\":-5},{\"id\":\"88847ab1-d0c5-4d63-aa74-a25209e1f645\",\"startTime\":1556431955523.4375,\"duration\":1250,\"timezone\":-5},{\"id\":\"36d3d379-587d-4a4f-b448-014039423115\",\"startTime\":1556431958523.4375,\"duration\":1250,\"timezone\":-5},{\"id\":\"41f07675-8d89-4cd8-b2d0-ab978a40d32a\",\"startTime\":1556431960523.4375,\"duration\":4250,\"timezone\":-5},{\"id\":\"041d415b-5c34-4fd0-b38d-11a254784ca0\",\"startTime\":1556431967523.4375,\"duration\":5242.1875,\"timezone\":-5},{\"id\":\"d206b8b7-7d9b-496e-94f8-b40b1e42a4fe\",\"startTime\":1556431973523.4375,\"duration\":1242.1875,\"timezone\":-5},{\"id\":\"2cc312ed-a9a5-46ef-9808-7d2038f5795d\",\"startTime\":1556431976523.4375,\"duration\":4242.1875,\"timezone\":-5},{\"id\":\"6ec4460d-cf66-491c-bea7-3fdc9b463096\",\"startTime\":1556431981523.4375,\"duration\":1242.1875,\"timezone\":-5},{\"id\":\"f3b53b5b-c091-4e20-b869-26baa2a68042\",\"startTime\":1556431984523.4375,\"duration\":4242.1875,\"timezone\":-5},{\"id\":\"ba44727b-480d-4007-9cc6-3ca17c20249c\",\"startTime\":1556431989523.4375,\"duration\":2242.1875,\"timezone\":-5},{\"id\":\"3f8fdd48-0683-44d4-8eaa-df9c15db34d3\",\"startTime\":1556431997523.4375,\"duration\":1242.1875,\"timezone\":-5},{\"id\":\"a51dea7b-a430-4ea3-a94d-5b8f535734fc\",\"startTime\":1556432001523.4375,\"duration\":14242.1875,\"timezone\":-5},{\"id\":\"ca24b867-17e8-4081-8349-43c790ba178a\",\"startTime\":1556432016515.625,\"duration\":2250,\"timezone\":-5},{\"id\":\"938834ea-ce2c-4714-ac72-e67509674eb9\",\"startTime\":1556432021515.625,\"duration\":3250,\"timezone\":-5},{\"id\":\"dbeff9df-5511-400a-8ade-3d308a466e52\",\"startTime\":1556432025515.625,\"duration\":2250,\"timezone\":-5},{\"id\":\"eff14b33-3559-4440-9fe3-2ba7cb2baa98\",\"startTime\":1556432028515.625,\"duration\":16250,\"timezone\":-5},{\"id\":\"4778af5b-527a-43a8-bcdd-beb24954b016\",\"startTime\":1556432045515.625,\"duration\":10250,\"timezone\":-5},{\"id\":\"316656c2-d426-4b04-ad2b-0425c882fc71\",\"startTime\":1556432056515.625,\"duration\":4242.1875,\"timezone\":-5},{\"id\":\"e9842430-f50d-4d82-9727-08bbfd78e98e\",\"startTime\":1556432061515.625,\"duration\":7242.1875,\"timezone\":-5},{\"id\":\"20371970-f30a-442b-b50a-b091db35177f\",\"startTime\":1556432071515.625,\"duration\":2242.1875,\"timezone\":-5},{\"id\":\"9a39fef4-e8ed-42ef-8a72-1b443f88f2b5\",\"startTime\":1556432074515.625,\"duration\":42242.1875,\"timezone\":-5},{\"id\":\"2a8db610-1d86-474e-b985-edac927774d3\",\"startTime\":1556432117507.8125,\"duration\":50242.1875,\"timezone\":-5},{\"id\":\"47969edc-51a1-469f-a39b-177448b58b71\",\"startTime\":1556432168500,\"duration\":14250,\"timezone\":-5},{\"id\":\"20f1339e-d9d1-4378-80c0-16831c96747f\",\"startTime\":1556432183500,\"duration\":9250,\"timezone\":-5},{\"id\":\"6d18b033-f69a-4971-94cc-4aecbbc0bead\",\"startTime\":1556432193500,\"duration\":1355750,\"timezone\":-5},{\"id\":\"2b55597d-b5a7-473a-8a94-6dee9787d61d\",\"startTime\":1556433549250,\"duration\":3593750,\"timezone\":-5},{\"id\":\"fcf2f274-53d7-4b99-8411-3e4ab4ea64cf\",\"startTime\":1556437143000,\"duration\":3593750,\"timezone\":-5},{\"id\":\"1377c200-479f-446d-a2f1-08c5b504980f\",\"startTime\":1556440736750,\"duration\":3593750,\"timezone\":-5},{\"id\":\"040ff812-e466-4a1a-9bce-2525f4dae51c\",\"startTime\":1556444330500,\"duration\":3593750,\"timezone\":-5},{\"id\":\"34264c9d-365e-4a84-8cf6-5afa0ce97bc6\",\"startTime\":1556447924250,\"duration\":3593750,\"timezone\":-5},{\"id\":\"9cc56aa0-47dc-4f28-87f4-87d6bd3e7532\",\"startTime\":1556451518000,\"duration\":3593750,\"timezone\":-5},{\"id\":\"9da3e57a-fe8f-42c1-a3f4-83a9535d6c65\",\"startTime\":1556455111750,\"duration\":3593750,\"timezone\":-5},{\"id\":\"6306e733-09c4-4bb9-a88d-b70c195d43b3\",\"startTime\":1556458705500,\"duration\":864554.6875,\"timezone\":-5},{\"id\":\"513d67fe-4adc-4cb1-97ba-ba1550783f30\",\"startTime\":1556459570804.6875,\"duration\":24242.1875,\"timezone\":-5},{\"id\":\"455169f8-b484-495f-9731-c1b5115a1be1\",\"startTime\":1556459595796.875,\"duration\":4250,\"timezone\":-5},{\"id\":\"a1cfb5ab-e3eb-4881-b8f3-418d005face3\",\"startTime\":1556459602804.6875,\"duration\":1242.1875,\"timezone\":-5},{\"id\":\"b4b3eb79-4278-4b4b-ac6e-c7f171718825\",\"startTime\":1556459605804.6875,\"duration\":2242.1875,\"timezone\":-5},{\"id\":\"f6a8193b-e482-43d2-b76c-0dd5514da89d\",\"startTime\":1556459608796.875,\"duration\":11250,\"timezone\":-5},{\"id\":\"37c2c89a-e79a-489d-a60a-ad8e9e14977d\",\"startTime\":1556459620796.875,\"duration\":4250,\"timezone\":-5},{\"id\":\"e1aa5a11-4515-4548-811a-dcc1e467f884\",\"startTime\":1556459625796.875,\"duration\":2250,\"timezone\":-5},{\"id\":\"717f3957-d70c-4656-bbc7-246310c09e75\",\"startTime\":1556459630796.875,\"duration\":436203.125,\"timezone\":-5},{\"id\":\"2378fbbd-e2ab-41e4-9262-f1418a7150ae\",\"startTime\":1556460068757.8125,\"duration\":3242.1875,\"timezone\":-5},{\"id\":\"b5192b2f-7149-4383-8645-70d6c0842156\",\"startTime\":1556460072757.8125,\"duration\":51242.1875,\"timezone\":-5},{\"id\":\"2e61ae5a-111c-43f5-90c3-bc96bd7c0942\",\"startTime\":1556460124750,\"duration\":3250,\"timezone\":-5},{\"id\":\"5851d465-ad24-40f9-a593-33d0cb14c1b3\",\"startTime\":1556460129750,\"duration\":1250,\"timezone\":-5},{\"id\":\"7a542e43-7387-456f-8fb1-cbe15b445462\",\"startTime\":1556460131750,\"duration\":2167500,\"timezone\":-5},{\"id\":\"b4b0d64b-32d2-4de0-b672-91fd6795ae3e\",\"startTime\":1556462299250,\"duration\":3593750,\"timezone\":-5},{\"id\":\"5e2cd5c6-072c-4133-a69e-63a9d5fba61f\",\"startTime\":1556465893000,\"duration\":45179.6875,\"timezone\":-5},{\"id\":\"f8543338-1ceb-4d8f-9283-402a13cf5e96\",\"startTime\":1556466001000,\"duration\":3593750,\"timezone\":-5},{\"id\":\"64edcf8b-bed5-47a1-982d-8225868702ba\",\"startTime\":1556469594750,\"duration\":3593750,\"timezone\":-5},{\"id\":\"9e60e99d-6201-4e01-88ff-5b31eeead1b8\",\"startTime\":1556473188500,\"duration\":3593750,\"timezone\":-5},{\"id\":\"433cc483-3e34-47a7-b200-febbfb8906b0\",\"startTime\":1556476782250,\"duration\":3593750,\"timezone\":-5},{\"id\":\"4939fe87-8b2f-4785-8260-cde494ccef3c\",\"startTime\":1556480376000,\"duration\":3593750,\"timezone\":-5},{\"id\":\"ba7d3788-21ca-4211-b492-d2e4493b95c3\",\"startTime\":1556483969750,\"duration\":3593750,\"timezone\":-5},{\"id\":\"a144f53b-e83f-49ee-a988-6a5ac4fb7e20\",\"startTime\":1556487563500,\"duration\":3593750,\"timezone\":-5},{\"id\":\"23824121-db25-4994-be6d-a91f24f5c007\",\"startTime\":1556491157250,\"duration\":3593750,\"timezone\":-5},{\"id\":\"c94b3150-e1d7-4a2f-afb8-4a3cf37ed753\",\"startTime\":1556494751000,\"duration\":3593750,\"timezone\":-5},{\"id\":\"5d405a0a-8895-4933-bc98-545deb6dc4d6\",\"startTime\":1556498344750,\"duration\":3593750,\"timezone\":-5},{\"id\":\"7f572ae9-ce48-477c-9044-7937941b5886\",\"startTime\":1556501938500,\"duration\":3593750,\"timezone\":-5},{\"id\":\"8d1acba4-5d37-49c8-b35e-5b31eaba2d26\",\"startTime\":1556505532250,\"duration\":3593750,\"timezone\":-5},{\"id\":\"262a52cb-82d8-4102-baa0-9f40c086a282\",\"startTime\":1556509126000,\"duration\":3593750,\"timezone\":-5},{\"id\":\"f9467edc-a55f-4708-8384-41acbd223450\",\"startTime\":1556512719750,\"duration\":3593750,\"timezone\":-5},{\"id\":\"abcbc133-3d7a-4fa7-90e1-2ab1d014c61d\",\"startTime\":1556516313500,\"duration\":3593750,\"timezone\":-5},{\"id\":\"6e69bb63-5d79-4213-82a5-9b423ef7ab8d\",\"startTime\":1556519907250,\"duration\":3593750,\"timezone\":-5},{\"id\":\"e5715542-cc4e-45fa-b975-f99c1a81bad0\",\"startTime\":1556523501000,\"duration\":3593750,\"timezone\":-5},{\"id\":\"b93ca8c4-1203-407c-8b8a-161ee4f73f95\",\"startTime\":1556527094750,\"duration\":3593750,\"timezone\":-5},{\"id\":\"35c25697-7764-4c60-8513-c4d858719060\",\"startTime\":1556530688500,\"duration\":3593750,\"timezone\":-5},{\"id\":\"cf2487c9-a822-4f26-92a5-6c045eae2db1\",\"startTime\":1556534282250,\"duration\":3593750,\"timezone\":-5},{\"id\":\"3de7fe5e-cbe6-43c3-942c-7344eaa81d85\",\"startTime\":1556537876000,\"duration\":3593750,\"timezone\":-5},{\"id\":\"ec19361a-47da-408e-b6fd-80d01c1935db\",\"startTime\":1556541469750,\"duration\":3593750,\"timezone\":-5},{\"id\":\"5cb39a9d-37f8-4950-b107-f6725c35af33\",\"startTime\":1556545063500,\"duration\":3593750,\"timezone\":-5},{\"id\":\"ce995d51-8507-4fb3-bc5a-38e15933703d\",\"startTime\":1556548657250,\"duration\":3593750,\"timezone\":-5},{\"id\":\"bf348d26-0bb4-4be0-a416-f4138c3fa2c8\",\"startTime\":1556552251000,\"duration\":3593750,\"timezone\":-5},{\"id\":\"4cd38fb3-c3a8-48e0-a2bd-d53ed4af314d\",\"startTime\":1556555844750,\"duration\":3593750,\"timezone\":-5},{\"id\":\"bff46831-df11-4ddc-91e1-2a5b8bde6935\",\"startTime\":1556559438500,\"duration\":156382.8125,\"timezone\":-5}],\"channels\":[{\"id\":\"692a5cef-3f69-466a-81b6-97cc70651e98\",\"name\":\"TEMP\",\"channelType\":{\"name\":\"Generic\",\"category\":\"generic\"}}]}]}}}\n",
      "\n",
      "/notebooks/epi_sync.py:18: FutureWarning: Passing 'suffixes' which cause duplicate columns {'channels.id_x', 'channelGroups.units_x', 'channelGroups.id_x', 'channelGroups.sampleEncoding_x', 'channels.channelType.category_x', 'channelGroups.signalMax_x', 'segments.timezone_x', 'channels.channelType.name_x', 'channelGroups.name_x', 'channelGroups.signalMin_x', 'id_x', 'channelGroups.exponent_x', 'channelGroups.recordsPerChunk_x', 'channelGroups.compression_x', 'channelGroups.timestamped_x', 'duration_x', 'channelGroups.chunkPeriod_x', 'segments.id_x', 'channels.name_x', 'channelGroups.recordLength_x', 'startTime_x', 'channelGroups.channelGroupType.id_x', 'patient_x', 'name_x', 'description_x', 'channelGroups.samplesPerRecord_x'} in the result is deprecated and will raise a MergeError in a future version.\n",
      "  return meta_data_old.merge(meta_data, on=columns_to_merge)\n"
     ]
    }
   ],
   "source": [
    "!pip install jwt\n",
    "!pip install dask\n",
    "\n",
    "import epi_sync as es\n",
    "import epi_raw_data as er\n",
    "import epi_labels as el\n",
    "\n",
    "import pandas as pd\n",
    "pd.set_option('display.max_columns', None)\n",
    "\n",
    "client = es.connect_seer() \n",
    "\n",
    "study_name = input('Please write the desired study') # MSEL_01828 21h | MSEL_01763 22h | MSEL_01853 36h | MSEL_00172 45h\n",
    "\n",
    "sensors_list = ['Acc Mag', 'TEMP', 'EDA', 'BVP']\n",
    "# sensors_list = ['Acc Mag', 'BVP', 'EDA', 'HR', 'TEMP']\n",
    "\n",
    "meta_data, meta_data_dict = es.get_sync_metadata(client, study_name, sensors_list)\n",
    "# meta_data\n",
    "# print(meta_data_dict)"
   ]
  },
  {
   "cell_type": "code",
   "execution_count": 2,
   "id": "720f1354-3466-4524-ae68-ca72fee454ca",
   "metadata": {
    "execution": {
     "iopub.execute_input": "2023-12-21T19:08:40.621703Z",
     "iopub.status.busy": "2023-12-21T19:08:40.621462Z",
     "iopub.status.idle": "2023-12-21T19:08:40.625488Z",
     "shell.execute_reply": "2023-12-21T19:08:40.624844Z",
     "shell.execute_reply.started": "2023-12-21T19:08:40.621678Z"
    }
   },
   "outputs": [],
   "source": [
    "# If it's a new study, we have to run this instead of the saved data\n",
    "\n",
    "# raw_data = er.get_raw_data(client, meta_data, sensors_list, meta_data_dict)"
   ]
  },
  {
   "cell_type": "code",
   "execution_count": 3,
   "id": "31e1ceb6-39b1-4c79-ad86-fa224ae97100",
   "metadata": {
    "execution": {
     "iopub.execute_input": "2023-12-21T19:08:40.627019Z",
     "iopub.status.busy": "2023-12-21T19:08:40.626799Z",
     "iopub.status.idle": "2023-12-21T19:08:40.629913Z",
     "shell.execute_reply": "2023-12-21T19:08:40.629309Z",
     "shell.execute_reply.started": "2023-12-21T19:08:40.626998Z"
    }
   },
   "outputs": [],
   "source": [
    "# Getting only the sensors' columns and saving to a csv file\n",
    "\n",
    "# raw_data = raw_data[sensors_list]\n",
    "# raw_data.to_csv('MSEL_00172.csv', index=True)  "
   ]
  },
  {
   "cell_type": "code",
   "execution_count": 4,
   "id": "f6cff254-26b6-4800-817b-27820f22a963",
   "metadata": {
    "execution": {
     "iopub.execute_input": "2023-12-21T19:08:40.630964Z",
     "iopub.status.busy": "2023-12-21T19:08:40.630752Z",
     "iopub.status.idle": "2023-12-21T19:08:40.699062Z",
     "shell.execute_reply": "2023-12-21T19:08:40.698304Z",
     "shell.execute_reply.started": "2023-12-21T19:08:40.630944Z"
    }
   },
   "outputs": [],
   "source": [
    "# Getting the data from a csv file\n",
    "\n",
    "import dask.dataframe as dd\n",
    "\n",
    "# Specify the file path to your CSV file\n",
    "file_path = r'MSEL_00172.csv'\n",
    "\n",
    "# Read the CSV file into a Dask DataFrame\n",
    "dask_df = dd.read_csv(file_path)"
   ]
  },
  {
   "cell_type": "code",
   "execution_count": 5,
   "id": "c49ac4d5-5ef9-407f-96d5-20c17d1143a3",
   "metadata": {
    "execution": {
     "iopub.execute_input": "2023-12-21T19:08:40.701132Z",
     "iopub.status.busy": "2023-12-21T19:08:40.700885Z",
     "iopub.status.idle": "2023-12-21T19:08:40.704319Z",
     "shell.execute_reply": "2023-12-21T19:08:40.703672Z",
     "shell.execute_reply.started": "2023-12-21T19:08:40.701109Z"
    }
   },
   "outputs": [],
   "source": [
    "# Checking if getting the raw data was succesfull\n",
    "\n",
    "# raw_data.isna().sum()"
   ]
  },
  {
   "cell_type": "code",
   "execution_count": 6,
   "id": "f0ff6b36-8c11-4094-aaf9-a02ad925318a",
   "metadata": {
    "execution": {
     "iopub.execute_input": "2023-12-21T19:08:40.705247Z",
     "iopub.status.busy": "2023-12-21T19:08:40.705045Z",
     "iopub.status.idle": "2023-12-21T19:08:40.709023Z",
     "shell.execute_reply": "2023-12-21T19:08:40.708321Z",
     "shell.execute_reply.started": "2023-12-21T19:08:40.705226Z"
    }
   },
   "outputs": [],
   "source": [
    "# Getting the data as dask to facilitate the processing, if get_raw_data() was used\n",
    "\n",
    "# !pip install dask\n",
    "# import dask\n",
    "# import dask.dataframe as dd\n",
    "# raw_data = raw_data[sensors_list]\n",
    "# dask_df = dd.from_pandas(raw_data, npartitions=4)"
   ]
  },
  {
   "cell_type": "code",
   "execution_count": 7,
   "id": "1e674de0-6a16-43bd-a783-63614a437cb5",
   "metadata": {
    "execution": {
     "iopub.execute_input": "2023-12-21T19:08:40.709965Z",
     "iopub.status.busy": "2023-12-21T19:08:40.709769Z",
     "iopub.status.idle": "2023-12-21T19:08:40.713080Z",
     "shell.execute_reply": "2023-12-21T19:08:40.712275Z",
     "shell.execute_reply.started": "2023-12-21T19:08:40.709947Z"
    }
   },
   "outputs": [],
   "source": [
    "# Checking the shape and columns\n",
    "\n",
    "# display(dask_df.compute().shape)\n",
    "# display(dask_df.isna().compute().sum())"
   ]
  },
  {
   "cell_type": "code",
   "execution_count": 8,
   "id": "c7cc8846-d527-488d-87e9-433829f90b64",
   "metadata": {
    "execution": {
     "iopub.execute_input": "2023-12-21T19:08:40.714012Z",
     "iopub.status.busy": "2023-12-21T19:08:40.713800Z",
     "iopub.status.idle": "2023-12-21T19:08:40.716991Z",
     "shell.execute_reply": "2023-12-21T19:08:40.716366Z",
     "shell.execute_reply.started": "2023-12-21T19:08:40.713992Z"
    }
   },
   "outputs": [],
   "source": [
    "# The duration of the study\n",
    "\n",
    "# dask_df.compute().time.describe().loc['max'] - dask_df.compute().time.describe().loc['min']"
   ]
  },
  {
   "cell_type": "code",
   "execution_count": 9,
   "id": "73493b82-cc93-4ba8-bbba-889337cbae4b",
   "metadata": {
    "execution": {
     "iopub.execute_input": "2023-12-21T19:08:40.718120Z",
     "iopub.status.busy": "2023-12-21T19:08:40.717732Z",
     "iopub.status.idle": "2023-12-21T19:08:40.721126Z",
     "shell.execute_reply": "2023-12-21T19:08:40.720414Z",
     "shell.execute_reply.started": "2023-12-21T19:08:40.718098Z"
    }
   },
   "outputs": [],
   "source": [
    "# custom function requires meta info on dask dataframe\n",
    "\n",
    "# labels, data = el.get_labels(client, meta_data, dask_df)"
   ]
  },
  {
   "cell_type": "code",
   "execution_count": 10,
   "id": "f81a206c-ed4b-4734-acbd-a3382b06b1e5",
   "metadata": {
    "execution": {
     "iopub.execute_input": "2023-12-21T19:08:40.722380Z",
     "iopub.status.busy": "2023-12-21T19:08:40.722171Z",
     "iopub.status.idle": "2023-12-21T19:08:42.998319Z",
     "shell.execute_reply": "2023-12-21T19:08:42.997566Z",
     "shell.execute_reply.started": "2023-12-21T19:08:40.722360Z"
    }
   },
   "outputs": [
    {
     "name": "stderr",
     "output_type": "stream",
     "text": [
      "2023-12-21 19:08:41,034 >>> {\"query\": \"query getStudyLabelGroups($study_id: String!, $limit: PaginationAmount, $offset: Int) {\\n  study(id: $study_id) {\\n    id\\n    name\\n    labelGroups(limit: $limit, offset: $offset) {\\n      id\\n      name\\n      description\\n      numberOfLabels\\n    }\\n  }\\n}\\n\", \"variables\": {\"study_id\": \"92434006-5506-4d4a-97e4-f7232dfd68bd\", \"limit\": 50, \"offset\": 0}}\n",
      "2023-12-21 19:08:41,778 <<< {\"data\":{\"study\":{\"id\":\"92434006-5506-4d4a-97e4-f7232dfd68bd\",\"name\":\"MSEL_00172\",\"labelGroups\":[{\"id\":\"dc8cb6e1-7c25-4471-b6cc-41202c92a53f\",\"name\":\"MSEL_00172_SeerAnnotations\",\"description\":null,\"numberOfLabels\":12}]}}}\n",
      "\n",
      "2023-12-21 19:08:42,300 >>> {\"query\": \"query getStudyLabelGroups($study_id: String!, $limit: PaginationAmount, $offset: Int) {\\n  study(id: $study_id) {\\n    id\\n    name\\n    labelGroups(limit: $limit, offset: $offset) {\\n      id\\n      name\\n      description\\n      numberOfLabels\\n    }\\n  }\\n}\\n\", \"variables\": {\"study_id\": \"92434006-5506-4d4a-97e4-f7232dfd68bd\", \"limit\": 50, \"offset\": 50}}\n",
      "2023-12-21 19:08:42,987 <<< {\"data\":{\"study\":{\"id\":\"92434006-5506-4d4a-97e4-f7232dfd68bd\",\"name\":\"MSEL_00172\",\"labelGroups\":[]}}}\n",
      "\n"
     ]
    },
    {
     "data": {
      "text/plain": [
       "'92434006-5506-4d4a-97e4-f7232dfd68bd'"
      ]
     },
     "metadata": {},
     "output_type": "display_data"
    },
    {
     "data": {
      "text/plain": [
       "'dc8cb6e1-7c25-4471-b6cc-41202c92a53f'"
      ]
     },
     "metadata": {},
     "output_type": "display_data"
    }
   ],
   "source": [
    "# Getting the seizures' info metadata\n",
    "\n",
    "study_id = meta_data.iloc[0]['id_x'].iloc[0]\n",
    "label_group_id = client.get_label_groups_for_studies_dataframe(study_id)['labelGroup.id'][0]\n",
    "display(study_id, label_group_id)"
   ]
  },
  {
   "cell_type": "code",
   "execution_count": 11,
   "id": "1d2aa6fd-f04f-40cd-bbed-8967cb5f0318",
   "metadata": {
    "execution": {
     "iopub.execute_input": "2023-12-21T19:08:42.999249Z",
     "iopub.status.busy": "2023-12-21T19:08:42.999025Z",
     "iopub.status.idle": "2023-12-21T19:08:43.003056Z",
     "shell.execute_reply": "2023-12-21T19:08:43.002267Z",
     "shell.execute_reply.started": "2023-12-21T19:08:42.999227Z"
    }
   },
   "outputs": [],
   "source": [
    "# if necessary\n",
    "# dask_df = data"
   ]
  },
  {
   "cell_type": "code",
   "execution_count": 12,
   "id": "182bf0c6-63a6-4a5f-857e-0cc1b8a53255",
   "metadata": {
    "execution": {
     "iopub.execute_input": "2023-12-21T19:08:43.004911Z",
     "iopub.status.busy": "2023-12-21T19:08:43.004304Z",
     "iopub.status.idle": "2023-12-21T19:08:45.498263Z",
     "shell.execute_reply": "2023-12-21T19:08:45.497408Z",
     "shell.execute_reply.started": "2023-12-21T19:08:43.004884Z"
    }
   },
   "outputs": [
    {
     "name": "stderr",
     "output_type": "stream",
     "text": [
      "2023-12-21 19:08:43,509 >>> {\"query\": \"query labels($study_id: String!, $label_group_id: String!, $limit: PaginationAmount, $offset: Int, $from_time: Float, $to_time: Float) {\\n  study(id: $study_id) {\\n    id\\n    name\\n    startTime\\n    duration\\n    labelGroup(labelGroupId: $label_group_id) {\\n      id\\n      name\\n      description\\n      numberOfLabels\\n      labels(limit: $limit, offset: $offset, fromTime: $from_time, toTime: $to_time) {\\n        id\\n        note\\n        startTime\\n        duration\\n        timezone\\n        confidence\\n        createdBy {\\n          fullName\\n        }\\n        updatedAt\\n        createdAt\\n        tags {\\n          id\\n          tagType {\\n            id\\n            category {\\n              id\\n              name\\n              description\\n            }\\n            value\\n          }\\n        }\\n      }\\n    }\\n  }\\n}\\n\", \"variables\": {\"study_id\": \"92434006-5506-4d4a-97e4-f7232dfd68bd\", \"label_group_id\": \"dc8cb6e1-7c25-4471-b6cc-41202c92a53f\", \"from_time\": 0, \"to_time\": 9000000000000.0, \"limit\": 200, \"offset\": 0}}\n",
      "2023-12-21 19:08:44,228 <<< {\"data\":{\"study\":{\"id\":\"92434006-5506-4d4a-97e4-f7232dfd68bd\",\"name\":\"MSEL_00172\",\"startTime\":1556307768000,\"duration\":251944113.0900879,\"labelGroup\":{\"id\":\"dc8cb6e1-7c25-4471-b6cc-41202c92a53f\",\"name\":\"MSEL_00172_SeerAnnotations\",\"description\":null,\"numberOfLabels\":12,\"labels\":[{\"id\":\"650482ae-0de0-450c-82ac-6a44dd2a7a24\",\"note\":\"Clonic - Bilateral cingulate\",\"startTime\":1556320872000,\"duration\":18100,\"timezone\":-6,\"confidence\":null,\"createdBy\":{\"fullName\":\"Mona Nasseri\"},\"updatedAt\":\"2019-08-12 17:22:13\",\"createdAt\":\"2019-08-12 17:22:13\",\"tags\":[]},{\"id\":\"cef0f8a3-6a52-4a08-8e29-b08a2f5561be\",\"note\":\"Clonic - Bilateral cingulate\",\"startTime\":1556335040000,\"duration\":16900,\"timezone\":-6,\"confidence\":null,\"createdBy\":{\"fullName\":\"Mona Nasseri\"},\"updatedAt\":\"2019-08-12 17:22:13\",\"createdAt\":\"2019-08-12 17:22:13\",\"tags\":[]},{\"id\":\"e40a2589-275e-4afd-ba34-099265c0d020\",\"note\":\"Clonic - Bilateral cingulate\",\"startTime\":1556375670000,\"duration\":473800,\"timezone\":-6,\"confidence\":null,\"createdBy\":{\"fullName\":\"Mona Nasseri\"},\"updatedAt\":\"2019-08-12 17:22:13\",\"createdAt\":\"2019-08-12 17:22:13\",\"tags\":[]},{\"id\":\"8dc5441e-68f8-4360-8eb9-de5f81c4ad54\",\"note\":\"Clonic - Encephalomalacia and bilateral cingulate\",\"startTime\":1556386658000,\"duration\":0,\"timezone\":-6,\"confidence\":null,\"createdBy\":{\"fullName\":\"Mona Nasseri\"},\"updatedAt\":\"2019-08-12 17:22:13\",\"createdAt\":\"2019-08-12 17:22:13\",\"tags\":[]},{\"id\":\"d2a32bd9-1090-472b-9327-10d304b94774\",\"note\":\"Clonic - Bilateral cingulate\",\"startTime\":1556397638000,\"duration\":0,\"timezone\":-6,\"confidence\":null,\"createdBy\":{\"fullName\":\"Mona Nasseri\"},\"updatedAt\":\"2019-08-12 17:22:13\",\"createdAt\":\"2019-08-12 17:22:13\",\"tags\":[]},{\"id\":\"32bf51b9-a004-4a0f-807a-425847e5c436\",\"note\":\"Clonic - Bilateral cingulate\",\"startTime\":1556399963000,\"duration\":10000,\"timezone\":-6,\"confidence\":null,\"createdBy\":{\"fullName\":\"Mona Nasseri\"},\"updatedAt\":\"2019-08-12 17:22:13\",\"createdAt\":\"2019-08-12 17:22:13\",\"tags\":[]},{\"id\":\"f2ffd0e6-05ea-4174-971a-a58d8c47aec4\",\"note\":\"Clonic - Bilateral cingulate\",\"startTime\":1556401475000,\"duration\":10000,\"timezone\":-6,\"confidence\":null,\"createdBy\":{\"fullName\":\"Mona Nasseri\"},\"updatedAt\":\"2019-08-12 17:22:13\",\"createdAt\":\"2019-08-12 17:22:13\",\"tags\":[]},{\"id\":\"1c621f44-98a6-4c46-9360-0d8be5c8c8d6\",\"note\":\"hypermotor - Bilateral anterior cingulate\",\"startTime\":1556471716000,\"duration\":14200,\"timezone\":-6,\"confidence\":null,\"createdBy\":{\"fullName\":\"Mona Nasseri\"},\"updatedAt\":\"2019-08-12 17:22:13\",\"createdAt\":\"2019-08-12 17:22:13\",\"tags\":[]},{\"id\":\"aa922129-0b55-4052-8a6e-d8a3094f6d42\",\"note\":\"hypermotor - Bilateral cingulate\",\"startTime\":1556474169000,\"duration\":15600,\"timezone\":-6,\"confidence\":null,\"createdBy\":{\"fullName\":\"Mona Nasseri\"},\"updatedAt\":\"2019-08-12 17:22:13\",\"createdAt\":\"2019-08-12 17:22:13\",\"tags\":[]},{\"id\":\"16f208b1-66bc-426a-88b7-d25724113ecd\",\"note\":\"hypermotor - Bilateral cingulate\",\"startTime\":1556555938000,\"duration\":474800,\"timezone\":-6,\"confidence\":null,\"createdBy\":{\"fullName\":\"Mona Nasseri\"},\"updatedAt\":\"2019-08-12 17:22:13\",\"createdAt\":\"2019-08-12 17:22:13\",\"tags\":[]},{\"id\":\"1202a6ae-f23e-43e2-bda4-bb5ba763717b\",\"note\":\"\\\"hypermotor - Orbitofrontal\",\"startTime\":1556582538000,\"duration\":0,\"timezone\":-6,\"confidence\":null,\"createdBy\":{\"fullName\":\"Mona Nasseri\"},\"updatedAt\":\"2019-08-12 17:22:13\",\"createdAt\":\"2019-08-12 17:22:13\",\"tags\":[]},{\"id\":\"2b62c970-cd20-41cf-a431-1af25277e8f4\",\"note\":\"hypermotor - Bilateral cingulate\",\"startTime\":1556586998000,\"duration\":280600,\"timezone\":-6,\"confidence\":null,\"createdBy\":{\"fullName\":\"Mona Nasseri\"},\"updatedAt\":\"2019-08-12 17:22:13\",\"createdAt\":\"2019-08-12 17:22:13\",\"tags\":[]}]}}}}\n",
      "\n",
      "2023-12-21 19:08:44,751 >>> {\"query\": \"query labels($study_id: String!, $label_group_id: String!, $limit: PaginationAmount, $offset: Int, $from_time: Float, $to_time: Float) {\\n  study(id: $study_id) {\\n    id\\n    name\\n    startTime\\n    duration\\n    labelGroup(labelGroupId: $label_group_id) {\\n      id\\n      name\\n      description\\n      numberOfLabels\\n      labels(limit: $limit, offset: $offset, fromTime: $from_time, toTime: $to_time) {\\n        id\\n        note\\n        startTime\\n        duration\\n        timezone\\n        confidence\\n        createdBy {\\n          fullName\\n        }\\n        updatedAt\\n        createdAt\\n        tags {\\n          id\\n          tagType {\\n            id\\n            category {\\n              id\\n              name\\n              description\\n            }\\n            value\\n          }\\n        }\\n      }\\n    }\\n  }\\n}\\n\", \"variables\": {\"study_id\": \"92434006-5506-4d4a-97e4-f7232dfd68bd\", \"label_group_id\": \"dc8cb6e1-7c25-4471-b6cc-41202c92a53f\", \"from_time\": 0, \"to_time\": 9000000000000.0, \"limit\": 200, \"offset\": 200}}\n",
      "2023-12-21 19:08:45,493 <<< {\"data\":{\"study\":{\"id\":\"92434006-5506-4d4a-97e4-f7232dfd68bd\",\"name\":\"MSEL_00172\",\"startTime\":1556307768000,\"duration\":251944113.0900879,\"labelGroup\":{\"id\":\"dc8cb6e1-7c25-4471-b6cc-41202c92a53f\",\"name\":\"MSEL_00172_SeerAnnotations\",\"description\":null,\"numberOfLabels\":12,\"labels\":[]}}}}\n",
      "\n"
     ]
    }
   ],
   "source": [
    "# Labelling part. 1 and getting seizures's timestamps\n",
    "\n",
    "dask_df['label'] = 0 # no seizure\n",
    "\n",
    "# study_id = '9ef709ff-51f6-493f-aabb-3fa8eb3eca12'\n",
    "# label_group_id = '2dd69519-2c34-436a-bcc1-6a45a8001203'\n",
    "labels = client.get_labels(study_id, label_group_id)['labelGroup']['labels']"
   ]
  },
  {
   "cell_type": "code",
   "execution_count": 13,
   "id": "92c1ea7a-4b29-44c3-9bc8-54f44730d7cf",
   "metadata": {
    "execution": {
     "iopub.execute_input": "2023-12-21T19:08:45.499787Z",
     "iopub.status.busy": "2023-12-21T19:08:45.499516Z",
     "iopub.status.idle": "2023-12-21T19:08:45.503665Z",
     "shell.execute_reply": "2023-12-21T19:08:45.502780Z",
     "shell.execute_reply.started": "2023-12-21T19:08:45.499761Z"
    }
   },
   "outputs": [],
   "source": [
    "# Necessary if we don't have the time column\n",
    "\n",
    "# dask_df = dask_df.reset_index()"
   ]
  },
  {
   "cell_type": "code",
   "execution_count": 14,
   "id": "a9507c0b-2a13-4a59-8ca5-ed97d2ec4672",
   "metadata": {
    "execution": {
     "iopub.execute_input": "2023-12-21T19:08:45.507962Z",
     "iopub.status.busy": "2023-12-21T19:08:45.507294Z",
     "iopub.status.idle": "2023-12-21T19:08:46.346236Z",
     "shell.execute_reply": "2023-12-21T19:08:46.345323Z",
     "shell.execute_reply.started": "2023-12-21T19:08:45.507927Z"
    }
   },
   "outputs": [
    {
     "data": {
      "text/html": [
       "<div>\n",
       "<style scoped>\n",
       "    .dataframe tbody tr th:only-of-type {\n",
       "        vertical-align: middle;\n",
       "    }\n",
       "\n",
       "    .dataframe tbody tr th {\n",
       "        vertical-align: top;\n",
       "    }\n",
       "\n",
       "    .dataframe thead th {\n",
       "        text-align: right;\n",
       "    }\n",
       "</style>\n",
       "<table border=\"1\" class=\"dataframe\">\n",
       "  <thead>\n",
       "    <tr style=\"text-align: right;\">\n",
       "      <th></th>\n",
       "      <th>time</th>\n",
       "      <th>Acc Mag</th>\n",
       "      <th>TEMP</th>\n",
       "      <th>EDA</th>\n",
       "      <th>BVP</th>\n",
       "      <th>label</th>\n",
       "    </tr>\n",
       "  </thead>\n",
       "  <tbody>\n",
       "    <tr>\n",
       "      <th>0</th>\n",
       "      <td>1.556319e+12</td>\n",
       "      <td>-4.566840e+10</td>\n",
       "      <td>3.430998e+10</td>\n",
       "      <td>347559970.0</td>\n",
       "      <td>-5.724365e+09</td>\n",
       "      <td>0</td>\n",
       "    </tr>\n",
       "    <tr>\n",
       "      <th>1</th>\n",
       "      <td>1.556319e+12</td>\n",
       "      <td>-4.541740e+10</td>\n",
       "      <td>3.430998e+10</td>\n",
       "      <td>347559970.0</td>\n",
       "      <td>-2.781909e+10</td>\n",
       "      <td>0</td>\n",
       "    </tr>\n",
       "    <tr>\n",
       "      <th>2</th>\n",
       "      <td>1.556319e+12</td>\n",
       "      <td>-4.516638e+10</td>\n",
       "      <td>3.430998e+10</td>\n",
       "      <td>347559970.0</td>\n",
       "      <td>-4.914038e+10</td>\n",
       "      <td>0</td>\n",
       "    </tr>\n",
       "    <tr>\n",
       "      <th>3</th>\n",
       "      <td>1.556319e+12</td>\n",
       "      <td>-4.499115e+10</td>\n",
       "      <td>3.430998e+10</td>\n",
       "      <td>347559970.0</td>\n",
       "      <td>-6.792090e+10</td>\n",
       "      <td>0</td>\n",
       "    </tr>\n",
       "    <tr>\n",
       "      <th>4</th>\n",
       "      <td>1.556319e+12</td>\n",
       "      <td>-4.499115e+10</td>\n",
       "      <td>3.430998e+10</td>\n",
       "      <td>347559970.0</td>\n",
       "      <td>-8.515454e+10</td>\n",
       "      <td>0</td>\n",
       "    </tr>\n",
       "  </tbody>\n",
       "</table>\n",
       "</div>"
      ],
      "text/plain": [
       "           time       Acc Mag          TEMP          EDA           BVP  label\n",
       "0  1.556319e+12 -4.566840e+10  3.430998e+10  347559970.0 -5.724365e+09      0\n",
       "1  1.556319e+12 -4.541740e+10  3.430998e+10  347559970.0 -2.781909e+10      0\n",
       "2  1.556319e+12 -4.516638e+10  3.430998e+10  347559970.0 -4.914038e+10      0\n",
       "3  1.556319e+12 -4.499115e+10  3.430998e+10  347559970.0 -6.792090e+10      0\n",
       "4  1.556319e+12 -4.499115e+10  3.430998e+10  347559970.0 -8.515454e+10      0"
      ]
     },
     "execution_count": 14,
     "metadata": {},
     "output_type": "execute_result"
    }
   ],
   "source": [
    "# Validating values and columns\n",
    "\n",
    "dask_df.head()"
   ]
  },
  {
   "cell_type": "code",
   "execution_count": 15,
   "id": "357f006a-6e94-45fb-a10d-dcba9af29c59",
   "metadata": {
    "execution": {
     "iopub.execute_input": "2023-12-21T19:08:46.347926Z",
     "iopub.status.busy": "2023-12-21T19:08:46.347364Z",
     "iopub.status.idle": "2023-12-21T19:08:46.500169Z",
     "shell.execute_reply": "2023-12-21T19:08:46.499429Z",
     "shell.execute_reply.started": "2023-12-21T19:08:46.347897Z"
    }
   },
   "outputs": [],
   "source": [
    "# Labelling part. 2\n",
    "\n",
    "for label in labels:\n",
    "        after_start = (label['startTime'] <= dask_df.time)\n",
    "        before_end = ((label['startTime'] + label['duration']) >= dask_df.time)\n",
    "        selection =  after_start & before_end\n",
    "        dask_df['label'] = dask_df.label.where(~selection, 1) # seizure\n",
    "\n",
    "for label in labels:\n",
    "        selection = (label['startTime'] - 30*60*1000 <= dask_df.time) &  (label['startTime'] > dask_df.time)\n",
    "        dask_df['label'] = dask_df['label'].where(~selection, 2) # pre-ictal"
   ]
  },
  {
   "cell_type": "code",
   "execution_count": 16,
   "id": "52b80759-119e-44ae-a73d-2bba351495ea",
   "metadata": {
    "execution": {
     "iopub.execute_input": "2023-12-21T19:08:46.501433Z",
     "iopub.status.busy": "2023-12-21T19:08:46.501174Z",
     "iopub.status.idle": "2023-12-21T19:08:46.504606Z",
     "shell.execute_reply": "2023-12-21T19:08:46.503999Z",
     "shell.execute_reply.started": "2023-12-21T19:08:46.501409Z"
    }
   },
   "outputs": [],
   "source": [
    "# Checking startTime\n",
    "\n",
    "# dask_df[dask_df.label == 1].compute().sort_values(by='time', ascending=True).tail()"
   ]
  },
  {
   "cell_type": "code",
   "execution_count": 17,
   "id": "6a19fc81-74cb-492d-a037-8d703780dab2",
   "metadata": {
    "execution": {
     "iopub.execute_input": "2023-12-21T19:08:46.506246Z",
     "iopub.status.busy": "2023-12-21T19:08:46.505575Z",
     "iopub.status.idle": "2023-12-21T19:08:46.508767Z",
     "shell.execute_reply": "2023-12-21T19:08:46.508189Z",
     "shell.execute_reply.started": "2023-12-21T19:08:46.506220Z"
    }
   },
   "outputs": [],
   "source": [
    "# Checking the count information\n",
    "\n",
    "# dask_df.label.compute().value_counts()"
   ]
  },
  {
   "cell_type": "code",
   "execution_count": 18,
   "id": "e5c3fdc8-7848-41dc-9f3f-a86d529eccee",
   "metadata": {
    "execution": {
     "iopub.execute_input": "2023-12-21T19:08:46.510188Z",
     "iopub.status.busy": "2023-12-21T19:08:46.509981Z",
     "iopub.status.idle": "2023-12-21T19:08:46.519453Z",
     "shell.execute_reply": "2023-12-21T19:08:46.518804Z",
     "shell.execute_reply.started": "2023-12-21T19:08:46.510169Z"
    }
   },
   "outputs": [],
   "source": [
    "# Running the pre-processing part\n",
    "\n",
    "import epi_prepro as epp"
   ]
  },
  {
   "cell_type": "code",
   "execution_count": 19,
   "id": "ac1f87f4-a01f-40af-909c-03a13ee6f47a",
   "metadata": {
    "execution": {
     "iopub.execute_input": "2023-12-21T19:08:46.520627Z",
     "iopub.status.busy": "2023-12-21T19:08:46.520391Z",
     "iopub.status.idle": "2023-12-21T19:08:46.524012Z",
     "shell.execute_reply": "2023-12-21T19:08:46.523363Z",
     "shell.execute_reply.started": "2023-12-21T19:08:46.520605Z"
    }
   },
   "outputs": [],
   "source": [
    "# Checking the IQ Range for the dask dataframe: approximation analysis\n",
    "\n",
    "# display(dask_df['Acc Mag'].describe().compute())\n",
    "\n",
    "# display(dask_df['Acc Mag'].describe().loc['75%'].compute().values[0])\n",
    "\n",
    "# display(dask_df['Acc Mag'].describe().loc['25%'].compute().values[0])\n",
    "\n",
    "# display(dask_df['Acc Mag'].describe().loc['75%'].compute().values[0] - dask_df['Acc Mag'].describe().loc['25%'].compute().values[0])"
   ]
  },
  {
   "cell_type": "code",
   "execution_count": 20,
   "id": "d7e9710d-3ad6-41bb-8261-fb0a85592432",
   "metadata": {
    "execution": {
     "iopub.execute_input": "2023-12-21T19:08:46.525131Z",
     "iopub.status.busy": "2023-12-21T19:08:46.524915Z",
     "iopub.status.idle": "2023-12-21T19:08:46.528874Z",
     "shell.execute_reply": "2023-12-21T19:08:46.527804Z",
     "shell.execute_reply.started": "2023-12-21T19:08:46.525112Z"
    }
   },
   "outputs": [],
   "source": [
    "# Checking to see the real values for the entire dataset\n",
    "\n",
    "# dados = dask_df.compute()\n",
    "\n",
    "# dados['Acc Mag'].describe()"
   ]
  },
  {
   "cell_type": "code",
   "execution_count": 21,
   "id": "5ab08e2d-0f06-475e-bd17-deb469e2a05a",
   "metadata": {
    "execution": {
     "iopub.execute_input": "2023-12-21T19:08:46.530505Z",
     "iopub.status.busy": "2023-12-21T19:08:46.530020Z",
     "iopub.status.idle": "2023-12-21T19:08:46.533854Z",
     "shell.execute_reply": "2023-12-21T19:08:46.533137Z",
     "shell.execute_reply.started": "2023-12-21T19:08:46.530470Z"
    }
   },
   "outputs": [],
   "source": [
    "# Getting the nulls and outliers as well as the basic description of the data\n",
    "\n",
    "import numpy as np \n",
    "# nulls, outliers = epp.get_info(dask_df, meta_data)"
   ]
  },
  {
   "cell_type": "code",
   "execution_count": 22,
   "id": "4ba02e5e-ef47-4955-b31e-1f1e5df5cf92",
   "metadata": {
    "execution": {
     "iopub.execute_input": "2023-12-21T19:08:46.534991Z",
     "iopub.status.busy": "2023-12-21T19:08:46.534761Z",
     "iopub.status.idle": "2023-12-21T19:08:46.538508Z",
     "shell.execute_reply": "2023-12-21T19:08:46.537868Z",
     "shell.execute_reply.started": "2023-12-21T19:08:46.534968Z"
    }
   },
   "outputs": [],
   "source": [
    "# Getting the outliers if label not in (1, 2) and if all sensors are outliers\n",
    "\n",
    "# substring = 'channels.name'\n",
    "# sensors = np.array(meta_data.filter(regex=substring, axis=1).loc[0])\n",
    "    \n",
    "# # Getting the intersection of the null timestamps\n",
    "# common_null_timestamps = set(nulls[sensors[0]])\n",
    "# # print(common_null_timestamps)\n",
    "# new_nulls = {k:v for k, v in nulls.items() if k != sensors[0]} \n",
    "\n",
    "# for sensor, timestamps in new_nulls.items():\n",
    "#     common_null_timestamps = common_null_timestamps.intersection(timestamps)\n",
    "\n",
    "# common_null_timestamps = np.array(common_null_timestamps)\n",
    "\n",
    "# # Getting the intersection of the outliers timestamps\n",
    "# common_outlier_timestamps = set(outliers[sensors[0]])\n",
    "\n",
    "# print(common_outlier_timestamps)\n",
    "\n",
    "# new_outliers = {k:v for k, v in outliers.items() if k != sensors[0]} \n",
    "\n",
    "# for sensor, timestamps in new_outliers.items():\n",
    "#     # print(timestamps)\n",
    "#     common_outlier_timestamps = common_outlier_timestamps.intersection(timestamps)\n",
    "#     print(common_outlier_timestamps)\n",
    "\n",
    "# common_outlier_timestamps = np.array(common_outlier_timestamps)"
   ]
  },
  {
   "cell_type": "code",
   "execution_count": 23,
   "id": "cbcd65ac-f8d2-4061-a855-597e25716f1e",
   "metadata": {
    "execution": {
     "iopub.execute_input": "2023-12-21T19:08:46.539473Z",
     "iopub.status.busy": "2023-12-21T19:08:46.539265Z",
     "iopub.status.idle": "2023-12-21T19:08:46.542946Z",
     "shell.execute_reply": "2023-12-21T19:08:46.542309Z",
     "shell.execute_reply.started": "2023-12-21T19:08:46.539453Z"
    }
   },
   "outputs": [],
   "source": [
    "# Cell to remove the outliers and nulls if they exist\n",
    "\n",
    "# print(dask_df.compute().shape)\n",
    "\n",
    "# dask_df_copy = dask_df.copy()\n",
    "\n",
    "# epp.remove_outliers_and_nulls(nulls, outliers, dask_df_copy, meta_data)\n",
    "\n",
    "# print(dask_df_copy.compute().shape)"
   ]
  },
  {
   "cell_type": "code",
   "execution_count": 24,
   "id": "3536e675-fa5c-49ae-92e1-60997670cce1",
   "metadata": {
    "execution": {
     "iopub.execute_input": "2023-12-21T19:08:46.544160Z",
     "iopub.status.busy": "2023-12-21T19:08:46.543900Z",
     "iopub.status.idle": "2023-12-21T19:08:46.582384Z",
     "shell.execute_reply": "2023-12-21T19:08:46.581482Z",
     "shell.execute_reply.started": "2023-12-21T19:08:46.544140Z"
    }
   },
   "outputs": [],
   "source": [
    "# Normalize the values based on min and max strategy\n",
    "\n",
    "dask_df_norm = epp.normalize_dataframe(dask_df, sensors_list)\n",
    "\n",
    "# display(dask_df_norm.label.value_counts().compute())\n",
    "# display(dask_df_norm.head(10))"
   ]
  },
  {
   "cell_type": "code",
   "execution_count": 25,
   "id": "8d23ec89-08b1-41e7-bb51-32f0670dc0de",
   "metadata": {
    "execution": {
     "iopub.execute_input": "2023-12-21T19:08:46.584022Z",
     "iopub.status.busy": "2023-12-21T19:08:46.583751Z",
     "iopub.status.idle": "2023-12-21T19:08:46.587618Z",
     "shell.execute_reply": "2023-12-21T19:08:46.586826Z",
     "shell.execute_reply.started": "2023-12-21T19:08:46.583999Z"
    }
   },
   "outputs": [],
   "source": [
    "# How many windows there are\n",
    "\n",
    "# 75468742.1875 / 25000"
   ]
  },
  {
   "cell_type": "code",
   "execution_count": 26,
   "id": "f651f404-76ad-4bd5-822b-fe6a0a919e91",
   "metadata": {
    "execution": {
     "iopub.execute_input": "2023-12-21T19:08:46.588720Z",
     "iopub.status.busy": "2023-12-21T19:08:46.588508Z",
     "iopub.status.idle": "2023-12-21T19:08:46.592475Z",
     "shell.execute_reply": "2023-12-21T19:08:46.591551Z",
     "shell.execute_reply.started": "2023-12-21T19:08:46.588700Z"
    }
   },
   "outputs": [],
   "source": [
    "# Cell to run the windowing function\n",
    "\n",
    "# data_teste = dask_df_norm.head(10)\n",
    "# new_data = windowing(dask_df_norm.compute(), labels)\n",
    "# new_data"
   ]
  },
  {
   "cell_type": "code",
   "execution_count": 27,
   "id": "6cfa3871-5480-4bc0-a419-cde8433ce35c",
   "metadata": {
    "execution": {
     "iopub.execute_input": "2023-12-21T19:08:46.593524Z",
     "iopub.status.busy": "2023-12-21T19:08:46.593321Z",
     "iopub.status.idle": "2023-12-21T19:09:45.199085Z",
     "shell.execute_reply": "2023-12-21T19:09:45.193843Z",
     "shell.execute_reply.started": "2023-12-21T19:08:46.593505Z"
    }
   },
   "outputs": [
    {
     "data": {
      "text/html": [
       "<div>\n",
       "<style scoped>\n",
       "    .dataframe tbody tr th:only-of-type {\n",
       "        vertical-align: middle;\n",
       "    }\n",
       "\n",
       "    .dataframe tbody tr th {\n",
       "        vertical-align: top;\n",
       "    }\n",
       "\n",
       "    .dataframe thead tr th {\n",
       "        text-align: left;\n",
       "    }\n",
       "</style>\n",
       "<table border=\"1\" class=\"dataframe\">\n",
       "  <thead>\n",
       "    <tr>\n",
       "      <th></th>\n",
       "      <th colspan=\"5\" halign=\"left\">Acc Mag</th>\n",
       "      <th colspan=\"5\" halign=\"left\">TEMP</th>\n",
       "      <th colspan=\"5\" halign=\"left\">EDA</th>\n",
       "      <th colspan=\"5\" halign=\"left\">BVP</th>\n",
       "    </tr>\n",
       "    <tr>\n",
       "      <th></th>\n",
       "      <th>mean</th>\n",
       "      <th>std</th>\n",
       "      <th>min</th>\n",
       "      <th>max</th>\n",
       "      <th>median</th>\n",
       "      <th>mean</th>\n",
       "      <th>std</th>\n",
       "      <th>min</th>\n",
       "      <th>max</th>\n",
       "      <th>median</th>\n",
       "      <th>mean</th>\n",
       "      <th>std</th>\n",
       "      <th>min</th>\n",
       "      <th>max</th>\n",
       "      <th>median</th>\n",
       "      <th>mean</th>\n",
       "      <th>std</th>\n",
       "      <th>min</th>\n",
       "      <th>max</th>\n",
       "      <th>median</th>\n",
       "    </tr>\n",
       "  </thead>\n",
       "  <tbody>\n",
       "    <tr>\n",
       "      <th>0</th>\n",
       "      <td>0.269308</td>\n",
       "      <td>0.001974</td>\n",
       "      <td>0.266521</td>\n",
       "      <td>0.273032</td>\n",
       "      <td>0.269538</td>\n",
       "      <td>0.594846</td>\n",
       "      <td>0.000581</td>\n",
       "      <td>0.594669</td>\n",
       "      <td>0.597539</td>\n",
       "      <td>0.594669</td>\n",
       "      <td>0.096769</td>\n",
       "      <td>0.000014</td>\n",
       "      <td>0.096765</td>\n",
       "      <td>0.096841</td>\n",
       "      <td>0.096765</td>\n",
       "      <td>0.429018</td>\n",
       "      <td>0.004678</td>\n",
       "      <td>0.419695</td>\n",
       "      <td>0.436856</td>\n",
       "      <td>0.428584</td>\n",
       "    </tr>\n",
       "    <tr>\n",
       "      <th>1</th>\n",
       "      <td>0.269644</td>\n",
       "      <td>0.000986</td>\n",
       "      <td>0.266783</td>\n",
       "      <td>0.272524</td>\n",
       "      <td>0.269784</td>\n",
       "      <td>0.605991</td>\n",
       "      <td>0.003105</td>\n",
       "      <td>0.597952</td>\n",
       "      <td>0.607949</td>\n",
       "      <td>0.607949</td>\n",
       "      <td>0.097063</td>\n",
       "      <td>0.000084</td>\n",
       "      <td>0.096841</td>\n",
       "      <td>0.097116</td>\n",
       "      <td>0.097116</td>\n",
       "      <td>0.423579</td>\n",
       "      <td>0.015791</td>\n",
       "      <td>0.396151</td>\n",
       "      <td>0.445658</td>\n",
       "      <td>0.426609</td>\n",
       "    </tr>\n",
       "    <tr>\n",
       "      <th>2</th>\n",
       "      <td>0.268904</td>\n",
       "      <td>0.001252</td>\n",
       "      <td>0.266521</td>\n",
       "      <td>0.269784</td>\n",
       "      <td>0.269784</td>\n",
       "      <td>0.607816</td>\n",
       "      <td>0.000437</td>\n",
       "      <td>0.605792</td>\n",
       "      <td>0.607949</td>\n",
       "      <td>0.607949</td>\n",
       "      <td>0.097237</td>\n",
       "      <td>0.000126</td>\n",
       "      <td>0.097116</td>\n",
       "      <td>0.097467</td>\n",
       "      <td>0.097200</td>\n",
       "      <td>0.437792</td>\n",
       "      <td>0.013330</td>\n",
       "      <td>0.416630</td>\n",
       "      <td>0.458615</td>\n",
       "      <td>0.435213</td>\n",
       "    </tr>\n",
       "    <tr>\n",
       "      <th>3</th>\n",
       "      <td>0.268828</td>\n",
       "      <td>0.001360</td>\n",
       "      <td>0.266521</td>\n",
       "      <td>0.272509</td>\n",
       "      <td>0.269246</td>\n",
       "      <td>0.599455</td>\n",
       "      <td>0.002326</td>\n",
       "      <td>0.597989</td>\n",
       "      <td>0.605474</td>\n",
       "      <td>0.597989</td>\n",
       "      <td>0.096985</td>\n",
       "      <td>0.000134</td>\n",
       "      <td>0.096765</td>\n",
       "      <td>0.097299</td>\n",
       "      <td>0.096979</td>\n",
       "      <td>0.439367</td>\n",
       "      <td>0.005780</td>\n",
       "      <td>0.429429</td>\n",
       "      <td>0.453748</td>\n",
       "      <td>0.439226</td>\n",
       "    </tr>\n",
       "    <tr>\n",
       "      <th>4</th>\n",
       "      <td>0.269168</td>\n",
       "      <td>0.000988</td>\n",
       "      <td>0.266521</td>\n",
       "      <td>0.269784</td>\n",
       "      <td>0.269784</td>\n",
       "      <td>0.597989</td>\n",
       "      <td>0.000000</td>\n",
       "      <td>0.597989</td>\n",
       "      <td>0.597989</td>\n",
       "      <td>0.597989</td>\n",
       "      <td>0.096767</td>\n",
       "      <td>0.000222</td>\n",
       "      <td>0.096399</td>\n",
       "      <td>0.097116</td>\n",
       "      <td>0.096757</td>\n",
       "      <td>0.444572</td>\n",
       "      <td>0.004139</td>\n",
       "      <td>0.431768</td>\n",
       "      <td>0.450525</td>\n",
       "      <td>0.445729</td>\n",
       "    </tr>\n",
       "  </tbody>\n",
       "</table>\n",
       "</div>"
      ],
      "text/plain": [
       "    Acc Mag                                              TEMP            \\\n",
       "       mean       std       min       max    median      mean       std   \n",
       "0  0.269308  0.001974  0.266521  0.273032  0.269538  0.594846  0.000581   \n",
       "1  0.269644  0.000986  0.266783  0.272524  0.269784  0.605991  0.003105   \n",
       "2  0.268904  0.001252  0.266521  0.269784  0.269784  0.607816  0.000437   \n",
       "3  0.268828  0.001360  0.266521  0.272509  0.269246  0.599455  0.002326   \n",
       "4  0.269168  0.000988  0.266521  0.269784  0.269784  0.597989  0.000000   \n",
       "\n",
       "                                      EDA                                \\\n",
       "        min       max    median      mean       std       min       max   \n",
       "0  0.594669  0.597539  0.594669  0.096769  0.000014  0.096765  0.096841   \n",
       "1  0.597952  0.607949  0.607949  0.097063  0.000084  0.096841  0.097116   \n",
       "2  0.605792  0.607949  0.607949  0.097237  0.000126  0.097116  0.097467   \n",
       "3  0.597989  0.605474  0.597989  0.096985  0.000134  0.096765  0.097299   \n",
       "4  0.597989  0.597989  0.597989  0.096767  0.000222  0.096399  0.097116   \n",
       "\n",
       "                  BVP                                          \n",
       "     median      mean       std       min       max    median  \n",
       "0  0.096765  0.429018  0.004678  0.419695  0.436856  0.428584  \n",
       "1  0.097116  0.423579  0.015791  0.396151  0.445658  0.426609  \n",
       "2  0.097200  0.437792  0.013330  0.416630  0.458615  0.435213  \n",
       "3  0.096979  0.439367  0.005780  0.429429  0.453748  0.439226  \n",
       "4  0.096757  0.444572  0.004139  0.431768  0.450525  0.445729  "
      ]
     },
     "metadata": {},
     "output_type": "display_data"
    },
    {
     "data": {
      "text/html": [
       "<div>\n",
       "<style scoped>\n",
       "    .dataframe tbody tr th:only-of-type {\n",
       "        vertical-align: middle;\n",
       "    }\n",
       "\n",
       "    .dataframe tbody tr th {\n",
       "        vertical-align: top;\n",
       "    }\n",
       "\n",
       "    .dataframe thead tr th {\n",
       "        text-align: left;\n",
       "    }\n",
       "</style>\n",
       "<table border=\"1\" class=\"dataframe\">\n",
       "  <thead>\n",
       "    <tr>\n",
       "      <th></th>\n",
       "      <th>label</th>\n",
       "    </tr>\n",
       "    <tr>\n",
       "      <th></th>\n",
       "      <th>max</th>\n",
       "    </tr>\n",
       "  </thead>\n",
       "  <tbody>\n",
       "    <tr>\n",
       "      <th>0</th>\n",
       "      <td>0</td>\n",
       "    </tr>\n",
       "    <tr>\n",
       "      <th>1</th>\n",
       "      <td>0</td>\n",
       "    </tr>\n",
       "    <tr>\n",
       "      <th>2</th>\n",
       "      <td>0</td>\n",
       "    </tr>\n",
       "    <tr>\n",
       "      <th>3</th>\n",
       "      <td>0</td>\n",
       "    </tr>\n",
       "    <tr>\n",
       "      <th>4</th>\n",
       "      <td>0</td>\n",
       "    </tr>\n",
       "  </tbody>\n",
       "</table>\n",
       "</div>"
      ],
      "text/plain": [
       "  label\n",
       "    max\n",
       "0     0\n",
       "1     0\n",
       "2     0\n",
       "3     0\n",
       "4     0"
      ]
     },
     "metadata": {},
     "output_type": "display_data"
    },
    {
     "name": "stdout",
     "output_type": "stream",
     "text": [
      "   (Acc Mag, mean)  (Acc Mag, std)  (Acc Mag, min)  (Acc Mag, max)  \\\n",
      "0         0.269308        0.001974        0.266521        0.273032   \n",
      "1         0.269644        0.000986        0.266783        0.272524   \n",
      "2         0.268904        0.001252        0.266521        0.269784   \n",
      "3         0.268828        0.001360        0.266521        0.272509   \n",
      "4         0.269168        0.000988        0.266521        0.269784   \n",
      "\n",
      "   (Acc Mag, median)  (TEMP, mean)  (TEMP, std)  (TEMP, min)  (TEMP, max)  \\\n",
      "0           0.269538      0.594846     0.000581     0.594669     0.597539   \n",
      "1           0.269784      0.605991     0.003105     0.597952     0.607949   \n",
      "2           0.269784      0.607816     0.000437     0.605792     0.607949   \n",
      "3           0.269246      0.599455     0.002326     0.597989     0.605474   \n",
      "4           0.269784      0.597989     0.000000     0.597989     0.597989   \n",
      "\n",
      "   (TEMP, median)  (EDA, mean)  (EDA, std)  (EDA, min)  (EDA, max)  \\\n",
      "0        0.594669     0.096769    0.000014    0.096765    0.096841   \n",
      "1        0.607949     0.097063    0.000084    0.096841    0.097116   \n",
      "2        0.607949     0.097237    0.000126    0.097116    0.097467   \n",
      "3        0.597989     0.096985    0.000134    0.096765    0.097299   \n",
      "4        0.597989     0.096767    0.000222    0.096399    0.097116   \n",
      "\n",
      "   (EDA, median)  (BVP, mean)  (BVP, std)  (BVP, min)  (BVP, max)  \\\n",
      "0       0.096765     0.429018    0.004678    0.419695    0.436856   \n",
      "1       0.097116     0.423579    0.015791    0.396151    0.445658   \n",
      "2       0.097200     0.437792    0.013330    0.416630    0.458615   \n",
      "3       0.096979     0.439367    0.005780    0.429429    0.453748   \n",
      "4       0.096757     0.444572    0.004139    0.431768    0.450525   \n",
      "\n",
      "   (BVP, median)  label  \n",
      "0       0.428584      0  \n",
      "1       0.426609      0  \n",
      "2       0.435213      0  \n",
      "3       0.439226      0  \n",
      "4       0.445729      0  \n"
     ]
    }
   ],
   "source": [
    "# Windowing function to run the dask dataframe and feature extraction in parallel. Non-overlapping windows\n",
    "\n",
    "import numpy as np\n",
    "\n",
    "teste_dados = dask_df_norm.copy()\n",
    "teste_dados = teste_dados.compute()\n",
    "teste_dados['label'] = teste_dados['label'].replace({1: 2, 2: 1})\n",
    "\n",
    "# teste_dados = dd.from_pandas(teste_dados, npartitions=4)\n",
    "\n",
    "teste_label = teste_dados[['label']]\n",
    "teste_dados = teste_dados.drop(['time', 'label'], axis=1)\n",
    "\n",
    "# Define the statistical features to extract\n",
    "stat_features = ['mean', 'std', 'min', 'max', 'median']\n",
    "stat_max_label = ['max']\n",
    "\n",
    "# window_size = min([label['duration'] for label in labels])\n",
    "window_size = 64\n",
    "teste_dados.index = np.arange(teste_dados.shape[0]) // window_size\n",
    "teste_label.index = np.arange(teste_dados.shape[0]) // window_size\n",
    "# Apply rolling windows and calculate features for each sensor\n",
    "\n",
    "result_df = teste_dados.groupby(by=teste_dados.index).agg({sensor: stat_features for sensor in teste_dados.columns})\n",
    "label_df = teste_label.groupby(by=teste_label.index).agg({col: stat_max_label for col in teste_label.columns})\n",
    "display(result_df.head())\n",
    "display(label_df.head())\n",
    "\n",
    "# Concatenate result_df and label_df\n",
    "result_df = pd.concat([result_df, label_df], axis=1)\n",
    "result_df.columns = [*result_df.columns[:-1], 'label']\n",
    "\n",
    "result_df['label'] = result_df['label'].replace({2: 1, 1: 2})\n",
    "\n",
    "# Drop NaN values introduced by the rolling operation\n",
    "result_df = result_df.dropna()\n",
    "\n",
    "# Print the resulting DataFrame with statistical features in windows\n",
    "print(result_df.head())"
   ]
  },
  {
   "cell_type": "code",
   "execution_count": 28,
   "id": "55fb8bf1-bc35-4aaf-bdc3-1322ccb2beba",
   "metadata": {
    "execution": {
     "iopub.execute_input": "2023-12-21T19:09:45.200310Z",
     "iopub.status.busy": "2023-12-21T19:09:45.200068Z",
     "iopub.status.idle": "2023-12-21T19:09:45.204601Z",
     "shell.execute_reply": "2023-12-21T19:09:45.203728Z",
     "shell.execute_reply.started": "2023-12-21T19:09:45.200286Z"
    }
   },
   "outputs": [],
   "source": [
    "# Windowing and feature extraction but with overlapping windows\n",
    "\n",
    "# teste_dados = dask_df_norm.copy()\n",
    "# teste_dados['label'] = teste_dados['label'].replace({1: 2, 2: 1})\n",
    "\n",
    "# # teste_dados = dd.from_pandas(teste_dados, npartitions=4)\n",
    "\n",
    "# teste_label = teste_dados[['label']]\n",
    "# teste_dados = teste_dados.drop(['time', 'label'], axis=1)\n",
    "\n",
    "# # Define the statistical features to extract\n",
    "# stat_features = ['mean', 'std', 'min', 'max', 'median']\n",
    "# stat_max_label = ['max']\n",
    "\n",
    "# window_size = 500000\n",
    "# # window_size = 3\n",
    "\n",
    "# # Apply rolling windows and calculate features for each sensor\n",
    "# result_df = teste_dados.rolling(window=window_size, center=True).agg({sensor: stat_features for sensor in teste_dados.columns})\n",
    "# label_df = teste_label.rolling(window=window_size, center=True).agg({col: stat_max_label for col in teste_label.columns})\n",
    "\n",
    "# # Concatenate result_df and label_df\n",
    "# result_df = pd.concat([result_df.compute(), label_df.compute()], axis=1)\n",
    "# result_df.columns = [*result_df.columns[:-1], 'label']\n",
    "\n",
    "# result_df['label'] = result_df['label'].replace({2: 1, 1: 2})\n",
    "\n",
    "# # Drop NaN values introduced by the rolling operation\n",
    "# result_df = result_df.dropna()\n",
    "\n",
    "# # Print the resulting DataFrame with statistical features in windows\n",
    "# print(result_df.head())"
   ]
  },
  {
   "cell_type": "code",
   "execution_count": 29,
   "id": "f15b4138-b6be-4056-9a7b-f3ebdac48ec7",
   "metadata": {
    "execution": {
     "iopub.execute_input": "2023-12-21T19:09:45.205940Z",
     "iopub.status.busy": "2023-12-21T19:09:45.205722Z",
     "iopub.status.idle": "2023-12-21T19:09:45.224211Z",
     "shell.execute_reply": "2023-12-21T19:09:45.223513Z",
     "shell.execute_reply.started": "2023-12-21T19:09:45.205918Z"
    }
   },
   "outputs": [
    {
     "data": {
      "text/plain": [
       "Index([  ('Acc Mag', 'mean'),    ('Acc Mag', 'std'),    ('Acc Mag', 'min'),\n",
       "          ('Acc Mag', 'max'), ('Acc Mag', 'median'),      ('TEMP', 'mean'),\n",
       "             ('TEMP', 'std'),       ('TEMP', 'min'),       ('TEMP', 'max'),\n",
       "          ('TEMP', 'median'),       ('EDA', 'mean'),        ('EDA', 'std'),\n",
       "              ('EDA', 'min'),        ('EDA', 'max'),     ('EDA', 'median'),\n",
       "             ('BVP', 'mean'),        ('BVP', 'std'),        ('BVP', 'min'),\n",
       "              ('BVP', 'max'),     ('BVP', 'median'),               'label'],\n",
       "      dtype='object')"
      ]
     },
     "metadata": {},
     "output_type": "display_data"
    },
    {
     "data": {
      "text/plain": [
       "0    1237845\n",
       "2      96463\n",
       "1        692\n",
       "Name: label, dtype: int64"
      ]
     },
     "metadata": {},
     "output_type": "display_data"
    },
    {
     "data": {
      "text/plain": [
       "(1335000, 21)"
      ]
     },
     "metadata": {},
     "output_type": "display_data"
    }
   ],
   "source": [
    "# Checking to see the columns and labels' count\n",
    "\n",
    "display(result_df.columns)\n",
    "display(result_df.iloc[::, -1].value_counts())\n",
    "display(result_df.shape)"
   ]
  },
  {
   "cell_type": "code",
   "execution_count": 30,
   "id": "d2dd100e-cd2b-4239-b04c-e7f78c3ed117",
   "metadata": {
    "execution": {
     "iopub.execute_input": "2023-12-21T19:09:45.225233Z",
     "iopub.status.busy": "2023-12-21T19:09:45.225023Z",
     "iopub.status.idle": "2023-12-21T19:09:45.244985Z",
     "shell.execute_reply": "2023-12-21T19:09:45.244347Z",
     "shell.execute_reply.started": "2023-12-21T19:09:45.225211Z"
    }
   },
   "outputs": [
    {
     "data": {
      "text/html": [
       "<div>\n",
       "<style scoped>\n",
       "    .dataframe tbody tr th:only-of-type {\n",
       "        vertical-align: middle;\n",
       "    }\n",
       "\n",
       "    .dataframe tbody tr th {\n",
       "        vertical-align: top;\n",
       "    }\n",
       "\n",
       "    .dataframe thead th {\n",
       "        text-align: right;\n",
       "    }\n",
       "</style>\n",
       "<table border=\"1\" class=\"dataframe\">\n",
       "  <thead>\n",
       "    <tr style=\"text-align: right;\">\n",
       "      <th></th>\n",
       "      <th>(Acc Mag, mean)</th>\n",
       "      <th>(Acc Mag, std)</th>\n",
       "      <th>(Acc Mag, min)</th>\n",
       "      <th>(Acc Mag, max)</th>\n",
       "      <th>(Acc Mag, median)</th>\n",
       "      <th>(TEMP, mean)</th>\n",
       "      <th>(TEMP, std)</th>\n",
       "      <th>(TEMP, min)</th>\n",
       "      <th>(TEMP, max)</th>\n",
       "      <th>(TEMP, median)</th>\n",
       "      <th>(EDA, mean)</th>\n",
       "      <th>(EDA, std)</th>\n",
       "      <th>(EDA, min)</th>\n",
       "      <th>(EDA, max)</th>\n",
       "      <th>(EDA, median)</th>\n",
       "      <th>(BVP, mean)</th>\n",
       "      <th>(BVP, std)</th>\n",
       "      <th>(BVP, min)</th>\n",
       "      <th>(BVP, max)</th>\n",
       "      <th>(BVP, median)</th>\n",
       "      <th>label</th>\n",
       "    </tr>\n",
       "  </thead>\n",
       "  <tbody>\n",
       "    <tr>\n",
       "      <th>0</th>\n",
       "      <td>0.269308</td>\n",
       "      <td>0.001974</td>\n",
       "      <td>0.266521</td>\n",
       "      <td>0.273032</td>\n",
       "      <td>0.269538</td>\n",
       "      <td>0.594846</td>\n",
       "      <td>0.000581</td>\n",
       "      <td>0.594669</td>\n",
       "      <td>0.597539</td>\n",
       "      <td>0.594669</td>\n",
       "      <td>0.096769</td>\n",
       "      <td>0.000014</td>\n",
       "      <td>0.096765</td>\n",
       "      <td>0.096841</td>\n",
       "      <td>0.096765</td>\n",
       "      <td>0.429018</td>\n",
       "      <td>0.004678</td>\n",
       "      <td>0.419695</td>\n",
       "      <td>0.436856</td>\n",
       "      <td>0.428584</td>\n",
       "      <td>0</td>\n",
       "    </tr>\n",
       "    <tr>\n",
       "      <th>1</th>\n",
       "      <td>0.269644</td>\n",
       "      <td>0.000986</td>\n",
       "      <td>0.266783</td>\n",
       "      <td>0.272524</td>\n",
       "      <td>0.269784</td>\n",
       "      <td>0.605991</td>\n",
       "      <td>0.003105</td>\n",
       "      <td>0.597952</td>\n",
       "      <td>0.607949</td>\n",
       "      <td>0.607949</td>\n",
       "      <td>0.097063</td>\n",
       "      <td>0.000084</td>\n",
       "      <td>0.096841</td>\n",
       "      <td>0.097116</td>\n",
       "      <td>0.097116</td>\n",
       "      <td>0.423579</td>\n",
       "      <td>0.015791</td>\n",
       "      <td>0.396151</td>\n",
       "      <td>0.445658</td>\n",
       "      <td>0.426609</td>\n",
       "      <td>0</td>\n",
       "    </tr>\n",
       "    <tr>\n",
       "      <th>2</th>\n",
       "      <td>0.268904</td>\n",
       "      <td>0.001252</td>\n",
       "      <td>0.266521</td>\n",
       "      <td>0.269784</td>\n",
       "      <td>0.269784</td>\n",
       "      <td>0.607816</td>\n",
       "      <td>0.000437</td>\n",
       "      <td>0.605792</td>\n",
       "      <td>0.607949</td>\n",
       "      <td>0.607949</td>\n",
       "      <td>0.097237</td>\n",
       "      <td>0.000126</td>\n",
       "      <td>0.097116</td>\n",
       "      <td>0.097467</td>\n",
       "      <td>0.097200</td>\n",
       "      <td>0.437792</td>\n",
       "      <td>0.013330</td>\n",
       "      <td>0.416630</td>\n",
       "      <td>0.458615</td>\n",
       "      <td>0.435213</td>\n",
       "      <td>0</td>\n",
       "    </tr>\n",
       "    <tr>\n",
       "      <th>3</th>\n",
       "      <td>0.268828</td>\n",
       "      <td>0.001360</td>\n",
       "      <td>0.266521</td>\n",
       "      <td>0.272509</td>\n",
       "      <td>0.269246</td>\n",
       "      <td>0.599455</td>\n",
       "      <td>0.002326</td>\n",
       "      <td>0.597989</td>\n",
       "      <td>0.605474</td>\n",
       "      <td>0.597989</td>\n",
       "      <td>0.096985</td>\n",
       "      <td>0.000134</td>\n",
       "      <td>0.096765</td>\n",
       "      <td>0.097299</td>\n",
       "      <td>0.096979</td>\n",
       "      <td>0.439367</td>\n",
       "      <td>0.005780</td>\n",
       "      <td>0.429429</td>\n",
       "      <td>0.453748</td>\n",
       "      <td>0.439226</td>\n",
       "      <td>0</td>\n",
       "    </tr>\n",
       "    <tr>\n",
       "      <th>4</th>\n",
       "      <td>0.269168</td>\n",
       "      <td>0.000988</td>\n",
       "      <td>0.266521</td>\n",
       "      <td>0.269784</td>\n",
       "      <td>0.269784</td>\n",
       "      <td>0.597989</td>\n",
       "      <td>0.000000</td>\n",
       "      <td>0.597989</td>\n",
       "      <td>0.597989</td>\n",
       "      <td>0.597989</td>\n",
       "      <td>0.096767</td>\n",
       "      <td>0.000222</td>\n",
       "      <td>0.096399</td>\n",
       "      <td>0.097116</td>\n",
       "      <td>0.096757</td>\n",
       "      <td>0.444572</td>\n",
       "      <td>0.004139</td>\n",
       "      <td>0.431768</td>\n",
       "      <td>0.450525</td>\n",
       "      <td>0.445729</td>\n",
       "      <td>0</td>\n",
       "    </tr>\n",
       "  </tbody>\n",
       "</table>\n",
       "</div>"
      ],
      "text/plain": [
       "   (Acc Mag, mean)  (Acc Mag, std)  (Acc Mag, min)  (Acc Mag, max)  \\\n",
       "0         0.269308        0.001974        0.266521        0.273032   \n",
       "1         0.269644        0.000986        0.266783        0.272524   \n",
       "2         0.268904        0.001252        0.266521        0.269784   \n",
       "3         0.268828        0.001360        0.266521        0.272509   \n",
       "4         0.269168        0.000988        0.266521        0.269784   \n",
       "\n",
       "   (Acc Mag, median)  (TEMP, mean)  (TEMP, std)  (TEMP, min)  (TEMP, max)  \\\n",
       "0           0.269538      0.594846     0.000581     0.594669     0.597539   \n",
       "1           0.269784      0.605991     0.003105     0.597952     0.607949   \n",
       "2           0.269784      0.607816     0.000437     0.605792     0.607949   \n",
       "3           0.269246      0.599455     0.002326     0.597989     0.605474   \n",
       "4           0.269784      0.597989     0.000000     0.597989     0.597989   \n",
       "\n",
       "   (TEMP, median)  (EDA, mean)  (EDA, std)  (EDA, min)  (EDA, max)  \\\n",
       "0        0.594669     0.096769    0.000014    0.096765    0.096841   \n",
       "1        0.607949     0.097063    0.000084    0.096841    0.097116   \n",
       "2        0.607949     0.097237    0.000126    0.097116    0.097467   \n",
       "3        0.597989     0.096985    0.000134    0.096765    0.097299   \n",
       "4        0.597989     0.096767    0.000222    0.096399    0.097116   \n",
       "\n",
       "   (EDA, median)  (BVP, mean)  (BVP, std)  (BVP, min)  (BVP, max)  \\\n",
       "0       0.096765     0.429018    0.004678    0.419695    0.436856   \n",
       "1       0.097116     0.423579    0.015791    0.396151    0.445658   \n",
       "2       0.097200     0.437792    0.013330    0.416630    0.458615   \n",
       "3       0.096979     0.439367    0.005780    0.429429    0.453748   \n",
       "4       0.096757     0.444572    0.004139    0.431768    0.450525   \n",
       "\n",
       "   (BVP, median)  label  \n",
       "0       0.428584      0  \n",
       "1       0.426609      0  \n",
       "2       0.435213      0  \n",
       "3       0.439226      0  \n",
       "4       0.445729      0  "
      ]
     },
     "execution_count": 30,
     "metadata": {},
     "output_type": "execute_result"
    }
   ],
   "source": [
    "# Validating values and columns\n",
    "\n",
    "result_df.head()"
   ]
  },
  {
   "cell_type": "code",
   "execution_count": 31,
   "id": "cc5834b4-8ccd-4e26-b1ef-3a43aac62586",
   "metadata": {
    "execution": {
     "iopub.execute_input": "2023-12-21T19:09:45.246213Z",
     "iopub.status.busy": "2023-12-21T19:09:45.245999Z",
     "iopub.status.idle": "2023-12-21T19:09:45.463518Z",
     "shell.execute_reply": "2023-12-21T19:09:45.462726Z",
     "shell.execute_reply.started": "2023-12-21T19:09:45.246191Z"
    }
   },
   "outputs": [
    {
     "name": "stdout",
     "output_type": "stream",
     "text": [
      "      (Acc Mag, mean)  (Acc Mag, std)  (Acc Mag, min)  (Acc Mag, max)  \\\n",
      "364          0.379775        0.038288        0.338208        0.419285   \n",
      "734          0.365363        0.179003        0.237274        0.623724   \n",
      "1140         0.441231        0.181063        0.257039        0.634300   \n",
      "1177         0.441335        0.179394        0.256777        0.627434   \n",
      "1696         0.388608        0.085862        0.312593        0.536275   \n",
      "\n",
      "      (Acc Mag, median)  (TEMP, mean)  (TEMP, std)  (TEMP, min)  (TEMP, max)  \\\n",
      "364            0.381733      0.621249     0.000000     0.621249     0.621249   \n",
      "734            0.242561      0.625432     0.000321     0.624907     0.625995   \n",
      "1140           0.437988      0.621249     0.000000     0.621249     0.621249   \n",
      "1177           0.441451      0.621272     0.000061     0.621249     0.621474   \n",
      "1696           0.354094      0.604629     0.000000     0.604629     0.604629   \n",
      "\n",
      "      (TEMP, median)  (EDA, mean)  (EDA, std)  (EDA, min)  (EDA, max)  \\\n",
      "364         0.621249     0.098022    0.000162    0.097834    0.098383   \n",
      "734         0.625432     0.096945    0.000070    0.096826    0.097070   \n",
      "1140        0.621249     0.096047    0.000000    0.096047    0.096047   \n",
      "1177        0.621249     0.095267    0.000049    0.095193    0.095330   \n",
      "1696        0.604629     0.095198    0.000051    0.095116    0.095284   \n",
      "\n",
      "      (EDA, median)  (BVP, mean)  (BVP, std)  (BVP, min)  (BVP, max)  \\\n",
      "364        0.097963     0.465569    0.009673    0.452294    0.480011   \n",
      "734        0.096948     0.432645    0.004417    0.426601    0.438815   \n",
      "1140       0.096047     0.422901    0.009721    0.413248    0.445515   \n",
      "1177       0.095269     0.430365    0.009075    0.420248    0.447459   \n",
      "1696       0.095200     0.456767    0.003670    0.449576    0.461096   \n",
      "\n",
      "      (BVP, median)  label  \n",
      "364        0.464422      0  \n",
      "734        0.432748      0  \n",
      "1140       0.419885      0  \n",
      "1177       0.428086      0  \n",
      "1696       0.457469      0  \n"
     ]
    }
   ],
   "source": [
    "# Set the fractions for each label\n",
    "\n",
    "fractions = {0: 0.001, 1: 1, 2: 0.01}  # Adjust these values based on your requirements\n",
    "\n",
    "# Define a function to sample each group\n",
    "def sample_group(group, fraction):\n",
    "    return group.sample(frac=fraction)\n",
    "\n",
    "# Apply the sampling function for each label\n",
    "sampled_df = result_df.groupby('label', group_keys=False).apply(lambda group: sample_group(group, fractions[group['label'].iloc[0]]))\n",
    "\n",
    "sampled_df = sampled_df.sort_index()\n",
    "\n",
    "# Visualize the result\n",
    "print(sampled_df.head())"
   ]
  },
  {
   "cell_type": "code",
   "execution_count": 32,
   "id": "b0c601c0-3181-412e-9a9f-4535ec44f4a2",
   "metadata": {
    "execution": {
     "iopub.execute_input": "2023-12-21T19:09:45.464681Z",
     "iopub.status.busy": "2023-12-21T19:09:45.464455Z",
     "iopub.status.idle": "2023-12-21T19:09:45.472042Z",
     "shell.execute_reply": "2023-12-21T19:09:45.471386Z",
     "shell.execute_reply.started": "2023-12-21T19:09:45.464659Z"
    }
   },
   "outputs": [
    {
     "data": {
      "text/plain": [
       "0    1238\n",
       "2     965\n",
       "1     692\n",
       "Name: label, dtype: int64"
      ]
     },
     "metadata": {},
     "output_type": "display_data"
    },
    {
     "data": {
      "text/plain": [
       "(2895, 21)"
      ]
     },
     "metadata": {},
     "output_type": "display_data"
    }
   ],
   "source": [
    "# Getting the labels' count for the under-sampled dataset\n",
    "\n",
    "display(sampled_df.iloc[::, -1].value_counts())\n",
    "display(sampled_df.shape)"
   ]
  },
  {
   "cell_type": "code",
   "execution_count": 33,
   "id": "1039a967-7a13-40d3-98ac-4d62e2c541f1",
   "metadata": {
    "execution": {
     "iopub.execute_input": "2023-12-21T19:09:45.473146Z",
     "iopub.status.busy": "2023-12-21T19:09:45.472935Z",
     "iopub.status.idle": "2023-12-21T19:09:54.512648Z",
     "shell.execute_reply": "2023-12-21T19:09:54.511554Z",
     "shell.execute_reply.started": "2023-12-21T19:09:45.473126Z"
    }
   },
   "outputs": [
    {
     "name": "stdout",
     "output_type": "stream",
     "text": [
      "Decision Tree Best Parameters: {'max_depth': 12, 'min_samples_split': 10}\n",
      "Decision Tree Best Score: 0.7830292646814784\n",
      "Classification Report:\n",
      "               precision    recall  f1-score   support\n",
      "\n",
      "           0       0.84      0.86      0.85       371\n",
      "           1       0.91      0.97      0.94       208\n",
      "           2       0.82      0.77      0.79       290\n",
      "\n",
      "    accuracy                           0.85       869\n",
      "   macro avg       0.86      0.86      0.86       869\n",
      "weighted avg       0.85      0.85      0.85       869\n",
      "\n",
      "ROC AUC Score:\n",
      " 0.9325541926131474\n",
      "Confusion Matrix:\n",
      " <function confusion_matrix at 0x7f42cb86ad30>\n"
     ]
    },
    {
     "name": "stderr",
     "output_type": "stream",
     "text": [
      "2023-12-21 19:09:53,838 generated new fontManager\n"
     ]
    },
    {
     "data": {
      "image/png": "[encoded data removed]",
      "text/plain": [
       "<Figure size 640x480 with 2 Axes>"
      ]
     },
     "metadata": {},
     "output_type": "display_data"
    }
   ],
   "source": [
    "# Decision tree model\n",
    "\n",
    "from sklearn.model_selection import train_test_split, TimeSeriesSplit, GridSearchCV\n",
    "from sklearn.tree import DecisionTreeClassifier\n",
    "from sklearn.metrics import accuracy_score, classification_report, confusion_matrix, roc_auc_score\n",
    "from sklearn.metrics import f1_score, make_scorer\n",
    "\n",
    "# Assuming you have a DataFrame named 'features' containing your sensor data\n",
    "# and a Series named 'labels' containing the corresponding labels\n",
    "\n",
    "X = sampled_df.drop('label', axis=1)\n",
    "y = sampled_df['label']\n",
    "dt_params = {'max_depth': list(np.arange(2, 22, 2)), 'min_samples_split': list(np.arange(5, 55, 5))}\n",
    "\n",
    "tscv = TimeSeriesSplit(n_splits=5)\n",
    "\n",
    "# Split the data into training and testing sets\n",
    "X_train, X_test, y_train, y_test = train_test_split(X, y, test_size=0.3, random_state=42, stratify=y)\n",
    "dt_model = DecisionTreeClassifier()\n",
    "f1 = make_scorer(f1_score , average='macro')\n",
    "\n",
    "dt_grid = GridSearchCV(dt_model, dt_params, cv=tscv, scoring=f1)\n",
    "\n",
    "# Train the model on the training set\n",
    "dt_grid.fit(X_train, y_train)\n",
    "\n",
    "# Make predictions on the test set\n",
    "y_pred = dt_grid.predict(X_test)\n",
    "\n",
    "# Evaluate the model\n",
    "print(\"Decision Tree Best Parameters:\", dt_grid.best_params_)\n",
    "print(\"Decision Tree Best Score:\", dt_grid.best_score_)\n",
    "\n",
    "# Classification report\n",
    "class_report = classification_report(y_test, y_pred)\n",
    "print(\"Classification Report:\\n\", class_report)\n",
    "\n",
    "# ROC AUC Score\n",
    "preds = dt_grid.predict_proba(X_test)\n",
    "auc_score = roc_auc_score(y_test, preds, multi_class='ovr')\n",
    "print(\"ROC AUC Score:\\n\", auc_score)\n",
    "\n",
    "# Confusion matrix\n",
    "cm = confusion_matrix(y_test, y_pred)\n",
    "print(\"Confusion Matrix:\\n\", confusion_matrix)\n",
    "\n",
    "import seaborn as sns\n",
    "import matplotlib.pyplot as plt     \n",
    "\n",
    "ax= plt.subplot()\n",
    "sns.heatmap(cm, annot=True, fmt='g', ax=ax);  #annot=True to annotate cells, ftm='g' to disable scientific notation\n",
    "\n",
    "# labels, title and ticks\n",
    "ax.set_xlabel('Predicted labels');ax.set_ylabel('True labels'); \n",
    "ax.set_title('Confusion Matrix'); \n",
    "ax.xaxis.set_ticklabels([0, 1, 2]); ax.yaxis.set_ticklabels([0, 1 ,2]);"
   ]
  },
  {
   "cell_type": "code",
   "execution_count": 34,
   "id": "b5a5a52c-b3f0-46e2-a90f-a301321b4596",
   "metadata": {
    "execution": {
     "iopub.execute_input": "2023-12-21T19:09:54.514309Z",
     "iopub.status.busy": "2023-12-21T19:09:54.513892Z",
     "iopub.status.idle": "2023-12-21T19:09:58.984093Z",
     "shell.execute_reply": "2023-12-21T19:09:58.982792Z",
     "shell.execute_reply.started": "2023-12-21T19:09:54.514282Z"
    }
   },
   "outputs": [
    {
     "name": "stdout",
     "output_type": "stream",
     "text": [
      "KNN Best Parameters: {'n_neighbors': 3, 'p': 1, 'weights': 'distance'}\n",
      "KNN Best Score: 0.8444444754715217\n",
      "Classification Report:\n",
      "               precision    recall  f1-score   support\n",
      "\n",
      "           0       0.95      0.82      0.88       371\n",
      "           1       0.88      0.99      0.93       208\n",
      "           2       0.82      0.90      0.86       290\n",
      "\n",
      "    accuracy                           0.88       869\n",
      "   macro avg       0.88      0.90      0.89       869\n",
      "weighted avg       0.89      0.88      0.88       869\n",
      "\n",
      "ROC AUC Score:\n",
      " 0.9535321082275506\n",
      "Confusion Matrix:\n",
      " <function confusion_matrix at 0x7f42cb86ad30>\n"
     ]
    },
    {
     "data": {
      "image/png": "[encoded data removed]",
      "text/plain": [
       "<Figure size 640x480 with 2 Axes>"
      ]
     },
     "metadata": {},
     "output_type": "display_data"
    }
   ],
   "source": [
    "# KNN model\n",
    "\n",
    "from sklearn.model_selection import train_test_split, GridSearchCV, TimeSeriesSplit\n",
    "from sklearn.neighbors import KNeighborsClassifier\n",
    "from sklearn.metrics import accuracy_score, classification_report, confusion_matrix, roc_auc_score\n",
    "from sklearn.metrics import f1_score, make_scorer\n",
    "\n",
    "# Assuming you have a DataFrame named 'features' containing your sensor data\n",
    "# and a Series named 'labels' containing the corresponding labels\n",
    "\n",
    "X = sampled_df.drop('label', axis=1)\n",
    "y = sampled_df['label']\n",
    "\n",
    "# Split the data into training and testing sets\n",
    "X_train, X_test, y_train, y_test = train_test_split(X, y, test_size=0.3, random_state=42, stratify=y)\n",
    "knn_params = {'n_neighbors': [3, 5, 7, 9, 11, 13], 'weights': ['uniform', 'distance'], 'p': [1, 2]}\n",
    "\n",
    "# Define the KNN model with fixed hyperparameters\n",
    "tscv = TimeSeriesSplit(n_splits=5)\n",
    "f1 = make_scorer(f1_score , average='macro')\n",
    "knn_model = KNeighborsClassifier()\n",
    "knn_grid = GridSearchCV(knn_model, knn_params, cv=tscv, scoring=f1)\n",
    "\n",
    "# Train the model on the training set\n",
    "knn_grid.fit(X_train, y_train)\n",
    "\n",
    "# Make predictions on the test set\n",
    "y_pred = knn_grid.predict(X_test)\n",
    "\n",
    "# Evaluate the model\n",
    "print(\"KNN Best Parameters:\", knn_grid.best_params_)\n",
    "print(\"KNN Best Score:\", knn_grid.best_score_)\n",
    "\n",
    "# Classification report\n",
    "class_report = classification_report(y_test, y_pred)\n",
    "print(\"Classification Report:\\n\", class_report)\n",
    "\n",
    "# ROC AUC Score\n",
    "preds = knn_grid.predict_proba(X_test)\n",
    "auc_score = roc_auc_score(y_test, preds, multi_class='ovr')\n",
    "print(\"ROC AUC Score:\\n\", auc_score)\n",
    "\n",
    "# Confusion matrix\n",
    "cm = confusion_matrix(y_test, y_pred)\n",
    "print(\"Confusion Matrix:\\n\", confusion_matrix)\n",
    "\n",
    "import seaborn as sns\n",
    "import matplotlib.pyplot as plt     \n",
    "\n",
    "ax= plt.subplot()\n",
    "sns.heatmap(cm, annot=True, fmt='g', ax=ax);  #annot=True to annotate cells, ftm='g' to disable scientific notation\n",
    "\n",
    "# labels, title and ticks\n",
    "ax.set_xlabel('Predicted labels');ax.set_ylabel('True labels'); \n",
    "ax.set_title('Confusion Matrix'); \n",
    "ax.xaxis.set_ticklabels([0, 1, 2]); ax.yaxis.set_ticklabels([0, 1 ,2]);"
   ]
  },
  {
   "cell_type": "code",
   "execution_count": 35,
   "id": "78484a1e-26f7-439c-b9ef-fb34cf3260ec",
   "metadata": {
    "execution": {
     "iopub.execute_input": "2023-12-21T19:09:58.986289Z",
     "iopub.status.busy": "2023-12-21T19:09:58.985643Z",
     "iopub.status.idle": "2023-12-21T19:09:58.997017Z",
     "shell.execute_reply": "2023-12-21T19:09:58.996128Z",
     "shell.execute_reply.started": "2023-12-21T19:09:58.986261Z"
    }
   },
   "outputs": [
    {
     "data": {
      "text/plain": [
       "0    1930\n",
       "2     965\n",
       "Name: label, dtype: int64"
      ]
     },
     "execution_count": 35,
     "metadata": {},
     "output_type": "execute_result"
    }
   ],
   "source": [
    "# For the SVC, to get only two classes, we separate pre-ictal classes from \n",
    "# the rest in order to compare with the other classifiers.\n",
    "sampled_df_svc = sampled_df.copy()\n",
    "sampled_df_svc[sampled_df_svc['label'] == 1] = 0\n",
    "\n",
    "sampled_df_svc['label'].value_counts()"
   ]
  },
  {
   "cell_type": "code",
   "execution_count": 36,
   "id": "db4e8347-fd6f-4dbc-b59e-e34508274a5f",
   "metadata": {
    "execution": {
     "iopub.execute_input": "2023-12-21T19:09:58.998155Z",
     "iopub.status.busy": "2023-12-21T19:09:58.997945Z",
     "iopub.status.idle": "2023-12-21T19:10:08.656460Z",
     "shell.execute_reply": "2023-12-21T19:10:08.655281Z",
     "shell.execute_reply.started": "2023-12-21T19:09:58.998134Z"
    }
   },
   "outputs": [
    {
     "name": "stdout",
     "output_type": "stream",
     "text": [
      "SVM Best Parameters: {'C': 10, 'kernel': 'rbf'}\n",
      "SVM Best Score: 0.7210959280981539\n",
      "Classification Report:\n",
      "               precision    recall  f1-score   support\n",
      "\n",
      "           0       0.79      0.87      0.83       579\n",
      "           2       0.67      0.53      0.59       290\n",
      "\n",
      "    accuracy                           0.75       869\n",
      "   macro avg       0.73      0.70      0.71       869\n",
      "weighted avg       0.75      0.75      0.75       869\n",
      "\n",
      "ROC AUC Score:\n",
      " 0.698162706211661\n",
      "Confusion Matrix:\n",
      " <function confusion_matrix at 0x7f42cb86ad30>\n"
     ]
    },
    {
     "data": {
      "image/png": "[encoded data removed]",
      "text/plain": [
       "<Figure size 640x480 with 2 Axes>"
      ]
     },
     "metadata": {},
     "output_type": "display_data"
    }
   ],
   "source": [
    "# SVM model\n",
    "\n",
    "from sklearn.model_selection import train_test_split, GridSearchCV, TimeSeriesSplit\n",
    "from sklearn.svm import SVC\n",
    "from sklearn.metrics import accuracy_score, classification_report, confusion_matrix, roc_auc_score\n",
    "from sklearn.metrics import f1_score, make_scorer\n",
    "\n",
    "# Assuming you have a DataFrame named 'features' containing your sensor data\n",
    "# and a Series named 'labels' containing the corresponding labels\n",
    "\n",
    "X = sampled_df_svc.drop('label', axis=1)\n",
    "y = sampled_df_svc['label']\n",
    "\n",
    "# Split the data into training and testing sets\n",
    "X_train, X_test, y_train, y_test = train_test_split(X, y, test_size=0.3, random_state=42, stratify=y)\n",
    "\n",
    "# Define the SVM model with fixed hyperparameters\n",
    "svm_params = {'C': [0.1, 1, 10], 'kernel': ['linear', 'rbf', 'poly']}\n",
    "svm_model = SVC(probability=True)\n",
    "tscv = TimeSeriesSplit(n_splits=5)\n",
    "f1 = make_scorer(f1_score , average='macro')\n",
    "svm_grid  = GridSearchCV(svm_model, svm_params, cv=tscv, scoring=f1)\n",
    "\n",
    "# Train the model on the training set\n",
    "svm_grid.fit(X_train, y_train)\n",
    "\n",
    "# Make predictions on the test set\n",
    "y_pred = svm_grid.predict(X_test)\n",
    "\n",
    "# Evaluate the model\n",
    "print(\"SVM Best Parameters:\", svm_grid.best_params_)\n",
    "print(\"SVM Best Score:\", svm_grid.best_score_)\n",
    "\n",
    "# Classification report\n",
    "class_report = classification_report(y_test, y_pred)\n",
    "print(\"Classification Report:\\n\", class_report)\n",
    "\n",
    "# ROC AUC Score\n",
    "preds = svm_grid.predict(X_test)\n",
    "auc_score = roc_auc_score(y_test, preds)# , multi_class='ovr')\n",
    "print(\"ROC AUC Score:\\n\", auc_score)\n",
    "\n",
    "# Confusion matrix\n",
    "cm = confusion_matrix(y_test, y_pred)\n",
    "print(\"Confusion Matrix:\\n\", confusion_matrix)\n",
    "\n",
    "import seaborn as sns\n",
    "import matplotlib.pyplot as plt     \n",
    "\n",
    "ax= plt.subplot()\n",
    "sns.heatmap(cm, annot=True, fmt='g', ax=ax);  #annot=True to annotate cells, ftm='g' to disable scientific notation\n",
    "\n",
    "# labels, title and ticks\n",
    "ax.set_xlabel('Predicted labels');ax.set_ylabel('True labels'); \n",
    "ax.set_title('Confusion Matrix'); \n",
    "ax.xaxis.set_ticklabels([0, 2]); ax.yaxis.set_ticklabels([0, 2]);"
   ]
  },
  {
   "cell_type": "code",
   "execution_count": 37,
   "id": "777b8929-c18f-4a63-ab08-e1f126d2ac34",
   "metadata": {
    "execution": {
     "iopub.execute_input": "2023-12-21T19:10:08.658462Z",
     "iopub.status.busy": "2023-12-21T19:10:08.657724Z",
     "iopub.status.idle": "2023-12-21T19:10:08.661775Z",
     "shell.execute_reply": "2023-12-21T19:10:08.661010Z",
     "shell.execute_reply.started": "2023-12-21T19:10:08.658435Z"
    }
   },
   "outputs": [],
   "source": [
    "# Testing tsfresh features\n",
    "\n",
    "# !pip install --upgrade scipy\n",
    "# !pip install --upgrade tsfresh\n",
    "\n",
    "# from tsfresh import extract_features\n",
    "# from tsfresh.feature_extraction.settings import MinimalFCParameters"
   ]
  }
 ],
 "metadata": {
  "kernelspec": {
   "display_name": "Python 3 (ipykernel)",
   "language": "python",
   "name": "python3"
  },
  "language_info": {
   "codemirror_mode": {
    "name": "ipython",
    "version": 3
   },
   "file_extension": ".py",
   "mimetype": "text/x-python",
   "name": "python",
   "nbconvert_exporter": "python",
   "pygments_lexer": "ipython3",
   "version": "3.9.16"
  }
 },
 "nbformat": 4,
 "nbformat_minor": 5
}
